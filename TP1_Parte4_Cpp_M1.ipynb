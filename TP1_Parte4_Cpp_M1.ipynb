{
  "nbformat": 4,
  "nbformat_minor": 0,
  "metadata": {
    "colab": {
      "provenance": [],
      "authorship_tag": "ABX9TyMZ9MkgffOAZzp+O1oA9wnu",
      "include_colab_link": true
    },
    "kernelspec": {
      "name": "python3",
      "display_name": "Python 3"
    },
    "language_info": {
      "name": "python"
    }
  },
  "cells": [
    {
      "cell_type": "markdown",
      "metadata": {
        "id": "view-in-github",
        "colab_type": "text"
      },
      "source": [
        "<a href=\"https://colab.research.google.com/github/ShadowRaccoon/PrograConcurrente2023C1/blob/main/TP1_Parte4_Cpp_M1.ipynb\" target=\"_parent\"><img src=\"https://colab.research.google.com/assets/colab-badge.svg\" alt=\"Open In Colab\"/></a>"
      ]
    },
    {
      "cell_type": "markdown",
      "source": [
        "# **C++**"
      ],
      "metadata": {
        "id": "V0XHq5GB1vGH"
      }
    },
    {
      "cell_type": "markdown",
      "source": [
        "Se realizó una comparación de diferentes métodos de sincronización al realizar la suma. Particularmente std::atomic y std::mutex, sumado a una validación de resultados con std::reduce y un for común. \n",
        "\n",
        "Para realizar la prueba generamos un vector con 500k elementos aleatorios. \n",
        "\n",
        "A demás se agregó una comparación de tiempos de ejecución de cada método.\n",
        "\n",
        "Por los resultados obtenidos determinamos que el método más veloz de sincronización es std::atomic y el más lento std::mutex. Obviamente esto no es determinista y sería interesante investigar en mayor profundidad.\n",
        "\n",
        "Si el mutex en SumVectorMutex() cubre también al for, la performance de este es mejor que la del atomic, pero no es una comparativa justa, ya que un thread debería esperar a que termine de ejecutarse el otro para poder realizar la suma"
      ],
      "metadata": {
        "id": "vtS_C1E111lM"
      }
    },
    {
      "cell_type": "code",
      "execution_count": 1,
      "metadata": {
        "colab": {
          "base_uri": "https://localhost:8080/"
        },
        "id": "AoZe6jJs1ubE",
        "outputId": "4868657f-1a1a-4ab1-8ef6-5bd5f344df8c"
      },
      "outputs": [
        {
          "output_type": "stream",
          "name": "stdout",
          "text": [
            "Writing main.cpp\n"
          ]
        }
      ],
      "source": [
        "%%writefile main.cpp\n",
        "#include <iostream>\n",
        "#include <vector>\n",
        "#include <string>\n",
        "#include <thread>\n",
        "#include <atomic>\n",
        "#include <mutex>\n",
        "#include <algorithm>\n",
        "#include <numeric>\n",
        "#include <random>\n",
        "#include <functional>\n",
        "#include <chrono>\n",
        "#include <type_traits>\n",
        "\n",
        "#define THREADS_NUMBER 2\n",
        "#define MAX_ELEMENT_QUANTITY 500'000\n",
        "#define MIN_VALUE -1000\n",
        "#define MAX_VALUE 1000\n",
        "\n",
        "/** Busca el mejor clock disponible. */\n",
        "using clock_type = typename std::conditional<\n",
        "  std::chrono::high_resolution_clock::is_steady,\n",
        "  std::chrono::high_resolution_clock,\n",
        "  std::chrono::steady_clock>::type;\n",
        "\n",
        "\n",
        "void AddElements(std::vector<int>& vec);\n",
        "int GetTotalSum(const std::vector<int>& vec);\n",
        "int GetTotalSumReduce(const std::vector<int>& vec);\n",
        "int GetTotalSumAtomic(const std::vector<int>& vec);\n",
        "int GetTotalSumMutex(const std::vector<int>& vec);\n",
        "void SumVectorAtomic(const std::vector<int>& vec, int form, int to, std::atomic<int>& sum);\n",
        "void SumVectorMutex(const std::vector<int>& vec, int from, int to, int& sum, std::mutex& m);\n",
        "void PrintResult(std::function<int(std::vector<int>&)> fun, std::vector<int>& vec, std::string s);\n",
        "\n",
        "int main(int argc, char* argv[])\n",
        "{\n",
        "    std::vector<int> vec;\n",
        "    AddElements(vec);\n",
        "\n",
        "    PrintResult(GetTotalSum, vec, \"Total suma for:    \");\n",
        "    PrintResult(GetTotalSumReduce, vec, \"Total suma reduce: \");\n",
        "    PrintResult(GetTotalSumAtomic, vec, \"Total suma atomic: \");\n",
        "    PrintResult(GetTotalSumMutex, vec, \"Total suma mutex:  \");\n",
        "\n",
        "    return EXIT_SUCCESS;\n",
        "}\n",
        "\n",
        "int GetTotalSum(const std::vector<int>& vec)\n",
        "{\n",
        "    int sum = 0;\n",
        "    for(int i = 0; i < vec.size(); ++i)\n",
        "        sum+= vec[i];\n",
        "    return sum;\n",
        "}\n",
        "\n",
        "int GetTotalSumReduce(const std::vector<int>& vec)\n",
        "{\n",
        "    return std::reduce(vec.begin(), vec.end());\n",
        "}\n",
        "\n",
        "int GetTotalSumAtomic(const std::vector<int>& vec)\n",
        "{\n",
        "    std::atomic<int> sum = 0;\n",
        "    std::vector<std::thread> workers;\n",
        "    int mid_vec = vec.size()/2;\n",
        "\n",
        "    workers.push_back(std::thread(SumVectorAtomic, std::cref(vec), 0, mid_vec, std::ref(sum)));\n",
        "    workers.push_back(std::thread(SumVectorAtomic, std::cref(vec), mid_vec, vec.size(), std::ref(sum)));\n",
        "    \n",
        "    for(auto& worker : workers)\n",
        "    {\n",
        "        worker.join();\n",
        "    }\n",
        "\n",
        "    return sum;\n",
        "}\n",
        "\n",
        "void SumVectorAtomic(const std::vector<int>& vec, int from, int to, std::atomic<int>& sum)\n",
        "{\n",
        "    for (int i = from; i < to; ++i)\n",
        "        sum += vec[i];\n",
        "}\n",
        "\n",
        "int GetTotalSumMutex(const std::vector<int>& vec)\n",
        "{\n",
        "    int sum = 0;\n",
        "    std::vector<std::thread> workers;\n",
        "    int mid_vec = vec.size()/2;\n",
        "    std::mutex mutex;\n",
        "\n",
        "    workers.push_back(std::thread(SumVectorMutex, std::cref(vec), 0, mid_vec, std::ref(sum),std::ref(mutex)));\n",
        "    workers.push_back(std::thread(SumVectorMutex, std::cref(vec), mid_vec, vec.size(), std::ref(sum), std::ref(mutex)));\n",
        "    \n",
        "    for(auto& worker : workers)\n",
        "    {\n",
        "        worker.join();\n",
        "    }\n",
        "\n",
        "    return sum;\n",
        "}\n",
        "\n",
        "void SumVectorMutex(const std::vector<int>& vec, int from, int to, int& sum, std::mutex& m)\n",
        "{\n",
        "    for (int i = from; i < to; ++i)\n",
        "    {\n",
        "        std::lock_guard<std::mutex> guard(m);\n",
        "        sum += vec[i];\n",
        "    }\n",
        "}\n",
        "\n",
        "void AddElements(std::vector<int>& vec)\n",
        "{\n",
        "    std::random_device rd; // Obtenemos un número random del hardware\n",
        "    std::mt19937 gen(rd()); // Generamos la semilla (seed)\n",
        "    std::uniform_int_distribution<> distr(MIN_VALUE, MAX_VALUE); // Definimos el rango\n",
        "\n",
        "    for(int i=0; i < MAX_ELEMENT_QUANTITY; ++i)\n",
        "        vec.push_back(distr(gen));\n",
        "}\n",
        "\n",
        "void PrintResult(std::function<int(std::vector<int>&)> fun, std::vector<int>& vec, std::string s)\n",
        "{\n",
        "    auto t_start = clock_type::now();\n",
        "    int result = fun(vec);\n",
        "    auto t_end = clock_type::now();\n",
        "    std::cout << s << result \n",
        "        << \" Tiempo: \" << std::chrono::duration<double, std::milli>(t_end-t_start).count()\n",
        "        << \"ms\" << std::endl;\n",
        "}\n"
      ]
    },
    {
      "cell_type": "code",
      "source": [
        "!g++ -pthread -std=c++17 main.cpp -o main && ./main"
      ],
      "metadata": {
        "colab": {
          "base_uri": "https://localhost:8080/"
        },
        "id": "A3droaGM2-Gx",
        "outputId": "012ab276-5205-40c5-c9f3-a1a4e3c44f92"
      },
      "execution_count": 4,
      "outputs": [
        {
          "output_type": "stream",
          "name": "stdout",
          "text": [
            "Total suma for:    352023 Tiempo: 2.86317ms\n",
            "Total suma reduce: 352023 Tiempo: 5.24756ms\n",
            "Total suma atomic: 352023 Tiempo: 4.18678ms\n",
            "Total suma mutex:  352023 Tiempo: 85.7689ms\n"
          ]
        }
      ]
    }
  ]
}
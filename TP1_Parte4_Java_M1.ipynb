{
  "nbformat": 4,
  "nbformat_minor": 0,
  "metadata": {
    "colab": {
      "provenance": [],
      "authorship_tag": "ABX9TyO+tQdT/DT9FjnSlelD3vPQ",
      "include_colab_link": true
    },
    "kernelspec": {
      "name": "python3",
      "display_name": "Python 3"
    },
    "language_info": {
      "name": "python"
    }
  },
  "cells": [
    {
      "cell_type": "markdown",
      "metadata": {
        "id": "view-in-github",
        "colab_type": "text"
      },
      "source": [
        "<a href=\"https://colab.research.google.com/github/ShadowRaccoon/PrograConcurrente2023C1/blob/main/TP1_Parte4_Java_M1.ipynb\" target=\"_parent\"><img src=\"https://colab.research.google.com/assets/colab-badge.svg\" alt=\"Open In Colab\"/></a>"
      ]
    },
    {
      "cell_type": "markdown",
      "source": [
        "**Java**"
      ],
      "metadata": {
        "id": "huk65t8l0nf4"
      }
    },
    {
      "cell_type": "code",
      "source": [
        "%%writefile Buffer.java\n",
        "import java.util.concurrent.Semaphore;\n",
        "\n",
        "public class Buffer \n",
        "{\n",
        "    // Valor entero del buffer\n",
        "    private Integer value;\n",
        "    \n",
        "    // Semaforo para sincronizar Productor\n",
        "    private Semaphore semProducer;\n",
        "    \n",
        "    // Semaforo para sicronizar Consumidor\n",
        "    private Semaphore semConsumer;\n",
        "    \n",
        "    public Buffer()\n",
        "    {\n",
        "        this.value = null;\n",
        "        this.semProducer = new Semaphore(1);\n",
        "        this.semConsumer = new Semaphore(0);\n",
        "    }\n",
        "    \n",
        "    // Se genera valor en el buffer\n",
        "    public void produce(Integer value) throws InterruptedException\n",
        "    {\n",
        "        this.value = value;\n",
        "    }\n",
        "    \n",
        "    // Se lee valor del buffer\n",
        "    public Integer consume() throws InterruptedException\n",
        "    {\n",
        "        Integer value = this.value;\n",
        "        this.value = null;\n",
        "        return value;\n",
        "    }\n",
        "    \n",
        "    // P() del semaforo mutex Productor\n",
        "    public void acquireSemProducer() throws InterruptedException\n",
        "    {\n",
        "        semProducer.acquire();\n",
        "    }\n",
        "    \n",
        "    // V() del semaforo mutex Productor\n",
        "    public void releaseSemProducer()\n",
        "    {\n",
        "        semProducer.release();\n",
        "    }\n",
        "    \n",
        "    // P() del semaforo mutex Consumidor\n",
        "    public void acquireSemConsumer() throws InterruptedException\n",
        "    {\n",
        "        semConsumer.acquire();\n",
        "    }\n",
        "    \n",
        "    // V() del semaforo mutex Consumidor\n",
        "    public void releaseSemConsumer()\n",
        "    {\n",
        "        semConsumer.release();\n",
        "    }\n",
        "}"
      ],
      "metadata": {
        "colab": {
          "base_uri": "https://localhost:8080/"
        },
        "id": "ISo-iQy80rZw",
        "outputId": "3067ac22-2431-4fd2-ae80-a238ae363a24"
      },
      "execution_count": 1,
      "outputs": [
        {
          "output_type": "stream",
          "name": "stdout",
          "text": [
            "Writing Buffer.java\n"
          ]
        }
      ]
    },
    {
      "cell_type": "code",
      "source": [
        "%%writefile Producer.java\n",
        "public class Producer extends Thread \n",
        "{\n",
        "    // Buffer de comunicación en el hilo\n",
        "    private Buffer buffer;\n",
        "    \n",
        "    private final int NUMBER_OF_REPETITIONS = 10;\n",
        "    private final int RANGE = 100;\n",
        "\n",
        "    public Producer(Buffer buffer)\n",
        "    {\n",
        "        this.buffer = buffer;\n",
        "    }\n",
        "    \n",
        "    // Método run de la clase Thread. Lógica del hilo\n",
        "    @Override\n",
        "    public void run() \n",
        "    {\n",
        "        for (int i = 0; i < this.NUMBER_OF_REPETITIONS; i++) \n",
        "        {\n",
        "            Integer value = (int)(Math.random() * this.RANGE);\n",
        "            try \n",
        "            {\n",
        "                buffer.acquireSemProducer();\n",
        "                buffer.produce(value);\n",
        "                System.out.println(String.format(\"HILO PRODUCTOR - Deposita valor = %d\", value));\n",
        "                buffer.releaseSemConsumer();\n",
        "            } catch (InterruptedException ex) \n",
        "            {\n",
        "                System.out.println(String.format(\"Error al producir %s\", ex.getMessage()));\n",
        "            }\n",
        "        }\n",
        "    }\n",
        "}"
      ],
      "metadata": {
        "colab": {
          "base_uri": "https://localhost:8080/"
        },
        "id": "HgpiFQVu10ps",
        "outputId": "90163b87-5cc3-4e7b-a482-d52d59cf3d50"
      },
      "execution_count": 2,
      "outputs": [
        {
          "output_type": "stream",
          "name": "stdout",
          "text": [
            "Writing Producer.java\n"
          ]
        }
      ]
    },
    {
      "cell_type": "code",
      "source": [
        "%%writefile Consumer.java\n",
        "public class Consumer extends Thread \n",
        "{\n",
        "    // Buffer de comunicación en el hilo\n",
        "    private Buffer buffer;\n",
        "    private final int NUMBER_OF_REPETITIONS = 10;\n",
        "    \n",
        "    public Consumer(Buffer buffer)\n",
        "    {\n",
        "        this.buffer = buffer;\n",
        "    }\n",
        "\n",
        "    // Método run de la clase Thread. Lógica del hilo\n",
        "    @Override\n",
        "    public void run() \n",
        "    {\n",
        "        for (int i = 0; i < this.NUMBER_OF_REPETITIONS; i++) \n",
        "        {\n",
        "            try \n",
        "            {\n",
        "                buffer.acquireSemConsumer();\n",
        "                Integer value = buffer.consume();\n",
        "                System.out.println(String.format(\"HILO CONSUMIDOR - Consume valor = %d\", value));\n",
        "                buffer.releaseSemProducer();\n",
        "            } catch (InterruptedException ex) \n",
        "            {\n",
        "                System.out.println(String.format(\"Error al consumir %s\", ex.getMessage()));\n",
        "            }\n",
        "        }\n",
        "    }\n",
        "}"
      ],
      "metadata": {
        "colab": {
          "base_uri": "https://localhost:8080/"
        },
        "id": "JLTHDWE81_TJ",
        "outputId": "f61effea-2177-4eac-adf0-c329424fcb3c"
      },
      "execution_count": 3,
      "outputs": [
        {
          "output_type": "stream",
          "name": "stdout",
          "text": [
            "Writing Consumer.java\n"
          ]
        }
      ]
    },
    {
      "cell_type": "code",
      "source": [
        "%%writefile Main.java\n",
        "public class Main {\n",
        "\n",
        "    public static void main(String[] args) throws InterruptedException {\n",
        "        // Generamos Buffer a utilizar por hilo Productor y Consumidor\n",
        "        Buffer buffer = new Buffer();\n",
        "        \n",
        "        // Generamos hilo Productor e hilo Consumidor\n",
        "        Producer producer = new Producer(buffer);\n",
        "        Consumer consumer = new Consumer(buffer);\n",
        "        \n",
        "        // Ponemos en ejecución hilo Productor e hilo Consumidor\n",
        "        producer.start();\n",
        "        consumer.start();\n",
        "        \n",
        "        // Esperamos la finalización de los hilos\n",
        "        producer.join();\n",
        "        consumer.join();\n",
        "    }\n",
        "}"
      ],
      "metadata": {
        "colab": {
          "base_uri": "https://localhost:8080/"
        },
        "id": "lpRck5r32UA-",
        "outputId": "8a3f7244-313b-4582-9c49-76b3875fc3b0"
      },
      "execution_count": 4,
      "outputs": [
        {
          "output_type": "stream",
          "name": "stdout",
          "text": [
            "Writing Main.java\n"
          ]
        }
      ]
    },
    {
      "cell_type": "markdown",
      "source": [
        "Compilamos los files y que se utilizan clases separadas"
      ],
      "metadata": {
        "id": "mMcXIWHh2KBd"
      }
    },
    {
      "cell_type": "code",
      "source": [
        "!javac Buffer.java\n",
        "!javac Producer.java\n",
        "!javac Consumer.java\n",
        "!javac Main.java"
      ],
      "metadata": {
        "id": "CDHUcxLB2P28"
      },
      "execution_count": 6,
      "outputs": []
    },
    {
      "cell_type": "markdown",
      "source": [
        "Realizamos la ejecución del Programa:"
      ],
      "metadata": {
        "id": "OnoqE2hE21Pr"
      }
    },
    {
      "cell_type": "code",
      "source": [
        "!java Main"
      ],
      "metadata": {
        "colab": {
          "base_uri": "https://localhost:8080/"
        },
        "id": "XI6ZtDZl26rn",
        "outputId": "1309c42b-d0b9-4681-8da5-25e1a2bcee0c"
      },
      "execution_count": 7,
      "outputs": [
        {
          "output_type": "stream",
          "name": "stdout",
          "text": [
            "HILO PRODUCTOR - Deposita valor = 71\n",
            "HILO CONSUMIDOR - Consume valor = 71\n",
            "HILO PRODUCTOR - Deposita valor = 7\n",
            "HILO CONSUMIDOR - Consume valor = 7\n",
            "HILO PRODUCTOR - Deposita valor = 85\n",
            "HILO CONSUMIDOR - Consume valor = 85\n",
            "HILO PRODUCTOR - Deposita valor = 82\n",
            "HILO CONSUMIDOR - Consume valor = 82\n",
            "HILO PRODUCTOR - Deposita valor = 84\n",
            "HILO CONSUMIDOR - Consume valor = 84\n",
            "HILO PRODUCTOR - Deposita valor = 42\n",
            "HILO CONSUMIDOR - Consume valor = 42\n",
            "HILO PRODUCTOR - Deposita valor = 53\n",
            "HILO CONSUMIDOR - Consume valor = 53\n",
            "HILO PRODUCTOR - Deposita valor = 18\n",
            "HILO CONSUMIDOR - Consume valor = 18\n",
            "HILO PRODUCTOR - Deposita valor = 47\n",
            "HILO CONSUMIDOR - Consume valor = 47\n",
            "HILO PRODUCTOR - Deposita valor = 69\n",
            "HILO CONSUMIDOR - Consume valor = 69\n"
          ]
        }
      ]
    },
    {
      "cell_type": "markdown",
      "source": [
        "Se verifica que se cumple con el enunciado: \n",
        "\"Crear un programa que genere dos hilos, un productor y un consumidor, el productor producirá un valor entero (0 a 99) y se lo comunicará al consumidor a traves de una variable compartida entera. La idea es que exista una alternancia estricta entre el productor y el consumidor, además ambos hilos deberán comunicar por pantalla cada vez que producen/consumen y el valor correspondiente. Programar dicho comportamiento para producir 10 valores.\""
      ],
      "metadata": {
        "id": "pF8i4EUc3HzW"
      }
    }
  ]
}
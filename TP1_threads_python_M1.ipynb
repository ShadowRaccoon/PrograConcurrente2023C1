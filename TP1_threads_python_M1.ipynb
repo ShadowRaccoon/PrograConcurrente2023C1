{
  "nbformat": 4,
  "nbformat_minor": 0,
  "metadata": {
    "colab": {
      "provenance": [],
      "include_colab_link": true
    },
    "kernelspec": {
      "name": "python3",
      "display_name": "Python 3"
    },
    "language_info": {
      "name": "python"
    }
  },
  "cells": [
    {
      "cell_type": "markdown",
      "metadata": {
        "id": "view-in-github",
        "colab_type": "text"
      },
      "source": [
        "<a href=\"https://colab.research.google.com/github/ShadowRaccoon/PrograConcurrente2023C1/blob/main/TP1_threads_python_M1.ipynb\" target=\"_parent\"><img src=\"https://colab.research.google.com/assets/colab-badge.svg\" alt=\"Open In Colab\"/></a>"
      ]
    },
    {
      "cell_type": "markdown",
      "source": [
        "# **Python**"
      ],
      "metadata": {
        "id": "IqTdbUhqPqt-"
      }
    },
    {
      "cell_type": "code",
      "source": [
        "%%writefile tp2.py\n",
        "import sys\n",
        "import os\n",
        "import random\n",
        "import threading\n",
        "MIN_MATRIX_SIZE = 5\n",
        "MAX_MATRIX_SIZE = 20\n",
        "MIN_MATRIX_CELL_VALUE = -32\n",
        "MAX_MATRIX_CELL_VALUE = 32\n",
        "\n",
        "def validateArgs(args):\n",
        "    if not len(args) == 2:\n",
        "        print(\"Cantidad incorrecta de argumentos\")\n",
        "        os._exit(1)\n",
        "    size = int(args[1])\n",
        "    if size > MAX_MATRIX_SIZE or size < MIN_MATRIX_SIZE:\n",
        "        print(\"El tamaño debe estar entre {min} y {max}\".format(min=MIN_MATRIX_SIZE, max=MAX_MATRIX_SIZE))\n",
        "        os._exit(1)\n",
        "    return size\n",
        "\n",
        "def matrixGenerator(size):\n",
        "    matrixResult=[]\n",
        "    for i in range(0, size):\n",
        "        matrixRow=[]\n",
        "        for j in range(0, size):\n",
        "            matrixRow.append(random.randint(MIN_MATRIX_CELL_VALUE, MAX_MATRIX_CELL_VALUE))\n",
        "        matrixResult.append(matrixRow)\n",
        "    return matrixResult\n",
        "\n",
        "def printMatrix(alias,matrix):\n",
        "    print(\"\\nMatrix: {alias}\".format(alias=alias))\n",
        "    for row in matrix:\n",
        "        for col in row:\n",
        "            print(\"\\t{col}\\t\".format(col=col),end=\"\")\n",
        "        print(\"\\n\",end=\"\")\n",
        "\n",
        "def secuentialMult(size, matrix_a, matrix_b):\n",
        "    matrixResult = []\n",
        "    for i in range(0, size):\n",
        "        rowResult = [None] * size\n",
        "        for j in range(0,size):\n",
        "            for k in range(0,size):\n",
        "                rowResult[j] = matrix_a[i][k] * matrix_b[k][j]\n",
        "        matrixResult.append(rowResult)\n",
        "    return matrixResult\n",
        "\n",
        "def multiplyRow(size, matrix_a, matrix_b, rowResult, rowIndex):\n",
        "    for j in range(0,size):\n",
        "        for k in range(0,size):\n",
        "            rowResult[j]= matrix_a[rowIndex][k]*matrix_b[k][j]\n",
        "\n",
        "def concurrentMult(size, matrix_a, matrix_b):\n",
        "    matrixResult = []\n",
        "    threads = []\n",
        "\n",
        "    for i in range(0, size):\n",
        "        rowResult = [None] * size\n",
        "        thread = threading.Thread(target=multiplyRow, args=(size, matrix_a, matrix_b, rowResult, i))\n",
        "        thread.start()\n",
        "        threads.append(thread)\n",
        "        matrixResult.append(rowResult)\n",
        "\n",
        "    for thread in threads:\n",
        "        thread.join()\n",
        "\n",
        "    return matrixResult\n",
        "\n",
        "def compareMatrix(size, matrix_a, matrix_b):\n",
        "    for i in range(0, size):\n",
        "        for j in range(0, size):\n",
        "            if matrix_a[i][j] != matrix_b[i][j]:\n",
        "                return False\n",
        "    return True\n",
        "\n",
        "def main():\n",
        "    size = validateArgs(sys.argv)\n",
        "    matrix_a = matrixGenerator(size)\n",
        "    matrix_b = matrixGenerator(size)\n",
        "    matrix_secuential = secuentialMult(size,matrix_a,matrix_b)\n",
        "    matrix_concurrent = concurrentMult(size,matrix_a,matrix_b)\n",
        "\n",
        "    printMatrix(\"A\", matrix_a)\n",
        "    printMatrix(\"B\", matrix_b)\n",
        "    printMatrix(\"Secuencial\", matrix_secuential)\n",
        "    printMatrix(\"Concurrente\", matrix_concurrent)\n",
        "\n",
        "    resultCompare = \"iguales\" if compareMatrix(size, matrix_secuential, matrix_concurrent) else \"distintas\"\n",
        "    print(\"Las matrices concurrente y secuencial son {compare}\".format(compare=resultCompare))\n",
        "\n",
        "main()"
      ],
      "metadata": {
        "colab": {
          "base_uri": "https://localhost:8080/"
        },
        "id": "l_TWcUmsPqND",
        "outputId": "aa677770-9070-40ee-a4ff-3be43a14af91"
      },
      "execution_count": null,
      "outputs": [
        {
          "output_type": "stream",
          "name": "stdout",
          "text": [
            "Overwriting tp2.py\n"
          ]
        }
      ]
    },
    {
      "cell_type": "code",
      "source": [
        "!python3 tp2.py 1"
      ],
      "metadata": {
        "colab": {
          "base_uri": "https://localhost:8080/"
        },
        "id": "v0zZKSZ0P8uv",
        "outputId": "f8084484-0531-4654-c825-8237ec30116e"
      },
      "execution_count": null,
      "outputs": [
        {
          "output_type": "stream",
          "name": "stdout",
          "text": [
            "El tamaño debe estar entre 5 y 20\n"
          ]
        }
      ]
    },
    {
      "cell_type": "code",
      "source": [
        "!python3 tp2.py 5"
      ],
      "metadata": {
        "colab": {
          "base_uri": "https://localhost:8080/"
        },
        "id": "PWfqQIFiQR8K",
        "outputId": "66d4e65c-aede-48b1-d159-800ffb8e982d"
      },
      "execution_count": null,
      "outputs": [
        {
          "output_type": "stream",
          "name": "stdout",
          "text": [
            "\n",
            "Matrix: A\n",
            "\t26\t\t4\t\t-6\t\t-24\t\t7\t\n",
            "\t16\t\t18\t\t-2\t\t18\t\t31\t\n",
            "\t-13\t\t30\t\t-21\t\t-14\t\t25\t\n",
            "\t-1\t\t-11\t\t0\t\t-22\t\t-21\t\n",
            "\t22\t\t16\t\t31\t\t-3\t\t-21\t\n",
            "\n",
            "Matrix: B\n",
            "\t-1\t\t-1\t\t25\t\t-26\t\t26\t\n",
            "\t26\t\t-19\t\t32\t\t-8\t\t19\t\n",
            "\t15\t\t11\t\t-16\t\t9\t\t-24\t\n",
            "\t7\t\t5\t\t-23\t\t18\t\t-17\t\n",
            "\t17\t\t27\t\t17\t\t-1\t\t-16\t\n",
            "\n",
            "Matrix: Secuencial\n",
            "\t119\t\t189\t\t119\t\t-7\t\t-112\t\n",
            "\t527\t\t837\t\t527\t\t-31\t\t-496\t\n",
            "\t425\t\t675\t\t425\t\t-25\t\t-400\t\n",
            "\t-357\t\t-567\t\t-357\t\t21\t\t336\t\n",
            "\t-357\t\t-567\t\t-357\t\t21\t\t336\t\n",
            "\n",
            "Matrix: Concurrente\n",
            "\t119\t\t189\t\t119\t\t-7\t\t-112\t\n",
            "\t527\t\t837\t\t527\t\t-31\t\t-496\t\n",
            "\t425\t\t675\t\t425\t\t-25\t\t-400\t\n",
            "\t-357\t\t-567\t\t-357\t\t21\t\t336\t\n",
            "\t-357\t\t-567\t\t-357\t\t21\t\t336\t\n",
            "Las matrices concurrente y secuencial son iguales\n"
          ]
        }
      ]
    }
  ]
}
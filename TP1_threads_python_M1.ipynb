{
  "nbformat": 4,
  "nbformat_minor": 0,
  "metadata": {
    "colab": {
      "provenance": [],
      "include_colab_link": true
    },
    "kernelspec": {
      "name": "python3",
      "display_name": "Python 3"
    },
    "language_info": {
      "name": "python"
    }
  },
  "cells": [
    {
      "cell_type": "markdown",
      "metadata": {
        "id": "view-in-github",
        "colab_type": "text"
      },
      "source": [
        "<a href=\"https://colab.research.google.com/github/ShadowRaccoon/PrograConcurrente2023C1/blob/main/TP1_threads_python_M1.ipynb\" target=\"_parent\"><img src=\"https://colab.research.google.com/assets/colab-badge.svg\" alt=\"Open In Colab\"/></a>"
      ]
    },
    {
      "cell_type": "markdown",
      "source": [
        "# **Python**"
      ],
      "metadata": {
        "id": "IqTdbUhqPqt-"
      }
    },
    {
      "cell_type": "code",
      "source": [
        "%%writefile tp2.py\n",
        "import sys\n",
        "import os\n",
        "import random\n",
        "from threading import Thread\n",
        "MIN_MATRIX_SIZE = 5\n",
        "MAX_MATRIX_SIZE = 20\n",
        "MIN_MATRIX_CELL_VALUE = -32\n",
        "MAX_MATRIX_CELL_VALUE = 32\n",
        "\n",
        "def validate_args(args):\n",
        "    if not len(args) == 2:\n",
        "        print(\"Cantidad incorrecta de argumentos\")\n",
        "        os._exit(1)\n",
        "    size = int(args[1])\n",
        "    if size > MAX_MATRIX_SIZE or size < MIN_MATRIX_SIZE:\n",
        "        print(\"El tamaño debe estar entre {min} y {max}\".format(\n",
        "          min=MIN_MATRIX_SIZE,\n",
        "          max=MAX_MATRIX_SIZE))\n",
        "        os._exit(1)\n",
        "    return size\n",
        "\n",
        "def matrix_generator(size):\n",
        "    matrix_result=[]\n",
        "    for i in range(0, size):\n",
        "        matrix_row=[]\n",
        "        for j in range(0, size):\n",
        "            matrix_row.append(random.randint(\n",
        "              MIN_MATRIX_CELL_VALUE, MAX_MATRIX_CELL_VALUE))\n",
        "        matrix_result.append(matrix_row)\n",
        "    return matrix_result\n",
        "\n",
        "def print_matrix(alias,matrix):\n",
        "    print(\"\\nMatrix: {alias}\".format(alias=alias))\n",
        "    for row in matrix:\n",
        "        for col in row:\n",
        "            print(\"\\t{col}\\t\".format(col=col),end=\"\")\n",
        "        print(\"\\n\",end=\"\")\n",
        "\n",
        "def secuential_mult(size, matrix_a, matrix_b):\n",
        "    matrix_result = []\n",
        "    for i in range(0, size):\n",
        "        row_result = [None] * size\n",
        "        for j in range(0,size):\n",
        "            for k in range(0,size):\n",
        "                row_result[j] = matrix_a[i][k] * matrix_b[k][j]\n",
        "        matrix_result.append(row_result)\n",
        "    return matrix_result\n",
        "\n",
        "## Funcion que ejecuta el thread\n",
        "def multiply_row(size, matrix_a, matrix_b, row_result, rowIndex):\n",
        "    for j in range(0,size):\n",
        "        for k in range(0,size):\n",
        "            row_result[j]= matrix_a[rowIndex][k]*matrix_b[k][j]\n",
        "\n",
        "## Genera un thread por cada fila encargado de ejecutar la multiplicacion y generar la fila resultante\n",
        "def concurrent_mult(size, matrix_a, matrix_b):\n",
        "    matrix_result = []\n",
        "    threads = []\n",
        "\n",
        "    for i in range(0, size):\n",
        "        row_result = [None] * size\n",
        "        thread = Thread(\n",
        "          target=multiply_row,\n",
        "          args=(size, matrix_a, matrix_b, row_result, i))\n",
        "        thread.start()\n",
        "        threads.append(thread)\n",
        "        matrix_result.append(row_result)\n",
        "\n",
        "    for thread in threads:\n",
        "        thread.join()\n",
        "\n",
        "    return matrix_result\n",
        "\n",
        "def compare_matrix(size, matrix_a, matrix_b):\n",
        "    for i in range(0, size):\n",
        "        for j in range(0, size):\n",
        "            if matrix_a[i][j] != matrix_b[i][j]:\n",
        "                return False\n",
        "    return True\n",
        "\n",
        "def main():\n",
        "    size = validate_args(sys.argv)\n",
        "    matrix_a = matrix_generator(size)\n",
        "    matrix_b = matrix_generator(size)\n",
        "    matrix_secuential = secuential_mult(size,matrix_a,matrix_b)\n",
        "    matrix_concurrent = concurrent_mult(size,matrix_a,matrix_b)\n",
        "\n",
        "    print_matrix(\"A\", matrix_a)\n",
        "    print_matrix(\"B\", matrix_b)\n",
        "    print_matrix(\"Secuencial\", matrix_secuential)\n",
        "    print_matrix(\"Concurrente\", matrix_concurrent)\n",
        "\n",
        "    ## Determinamos si las matrices son iguales\n",
        "    result_compare = (\n",
        "      \"iguales\" \n",
        "      if compare_matrix(size, matrix_secuential, matrix_concurrent)\n",
        "      else \"distintas\")\n",
        "    print(\"Las matrices concurrente y secuencial son {compare}\".format(\n",
        "      compare=result_compare))\n",
        "\n",
        "main()"
      ],
      "metadata": {
        "colab": {
          "base_uri": "https://localhost:8080/"
        },
        "id": "l_TWcUmsPqND",
        "outputId": "7daf93e0-0ac1-4a26-ac65-97115d021e1e"
      },
      "execution_count": 14,
      "outputs": [
        {
          "output_type": "stream",
          "name": "stdout",
          "text": [
            "Overwriting tp2.py\n"
          ]
        }
      ]
    },
    {
      "cell_type": "code",
      "source": [
        "!python3 tp2.py 1"
      ],
      "metadata": {
        "colab": {
          "base_uri": "https://localhost:8080/"
        },
        "id": "v0zZKSZ0P8uv",
        "outputId": "ea036951-9cdc-414a-f22f-9961fd1b4003"
      },
      "execution_count": 15,
      "outputs": [
        {
          "output_type": "stream",
          "name": "stdout",
          "text": [
            "El tamaño debe estar entre 5 y 20\n"
          ]
        }
      ]
    },
    {
      "cell_type": "code",
      "source": [
        "!python3 tp2.py 7"
      ],
      "metadata": {
        "colab": {
          "base_uri": "https://localhost:8080/"
        },
        "id": "PWfqQIFiQR8K",
        "outputId": "93656938-0c89-43d8-ac87-c5781a4572f1"
      },
      "execution_count": 16,
      "outputs": [
        {
          "output_type": "stream",
          "name": "stdout",
          "text": [
            "\n",
            "Matrix: A\n",
            "\t16\t\t-5\t\t-1\t\t3\t\t-22\t\t-5\t\t10\t\n",
            "\t-12\t\t-25\t\t13\t\t26\t\t-5\t\t-15\t\t-24\t\n",
            "\t-25\t\t-12\t\t-16\t\t11\t\t-14\t\t4\t\t-32\t\n",
            "\t22\t\t29\t\t-20\t\t29\t\t-15\t\t11\t\t13\t\n",
            "\t-5\t\t-28\t\t15\t\t20\t\t4\t\t-6\t\t-26\t\n",
            "\t-4\t\t15\t\t-29\t\t29\t\t25\t\t-20\t\t-27\t\n",
            "\t-3\t\t28\t\t1\t\t25\t\t12\t\t-13\t\t22\t\n",
            "\n",
            "Matrix: B\n",
            "\t-17\t\t18\t\t-9\t\t-2\t\t9\t\t-31\t\t23\t\n",
            "\t-18\t\t-32\t\t6\t\t15\t\t15\t\t-5\t\t9\t\n",
            "\t-26\t\t-11\t\t-8\t\t15\t\t13\t\t-25\t\t23\t\n",
            "\t27\t\t-14\t\t-9\t\t18\t\t9\t\t-13\t\t14\t\n",
            "\t5\t\t-30\t\t9\t\t13\t\t-30\t\t21\t\t6\t\n",
            "\t-22\t\t28\t\t24\t\t-18\t\t27\t\t3\t\t12\t\n",
            "\t3\t\t0\t\t6\t\t-24\t\t-31\t\t-4\t\t30\t\n",
            "\n",
            "Matrix: Secuencial\n",
            "\t30\t\t0\t\t60\t\t-240\t\t-310\t\t-40\t\t300\t\n",
            "\t-72\t\t0\t\t-144\t\t576\t\t744\t\t96\t\t-720\t\n",
            "\t-96\t\t0\t\t-192\t\t768\t\t992\t\t128\t\t-960\t\n",
            "\t39\t\t0\t\t78\t\t-312\t\t-403\t\t-52\t\t390\t\n",
            "\t-78\t\t0\t\t-156\t\t624\t\t806\t\t104\t\t-780\t\n",
            "\t-81\t\t0\t\t-162\t\t648\t\t837\t\t108\t\t-810\t\n",
            "\t66\t\t0\t\t132\t\t-528\t\t-682\t\t-88\t\t660\t\n",
            "\n",
            "Matrix: Concurrente\n",
            "\t30\t\t0\t\t60\t\t-240\t\t-310\t\t-40\t\t300\t\n",
            "\t-72\t\t0\t\t-144\t\t576\t\t744\t\t96\t\t-720\t\n",
            "\t-96\t\t0\t\t-192\t\t768\t\t992\t\t128\t\t-960\t\n",
            "\t39\t\t0\t\t78\t\t-312\t\t-403\t\t-52\t\t390\t\n",
            "\t-78\t\t0\t\t-156\t\t624\t\t806\t\t104\t\t-780\t\n",
            "\t-81\t\t0\t\t-162\t\t648\t\t837\t\t108\t\t-810\t\n",
            "\t66\t\t0\t\t132\t\t-528\t\t-682\t\t-88\t\t660\t\n",
            "Las matrices concurrente y secuencial son iguales\n"
          ]
        }
      ]
    }
  ]
}
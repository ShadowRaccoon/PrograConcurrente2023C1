{
  "nbformat": 4,
  "nbformat_minor": 0,
  "metadata": {
    "colab": {
      "provenance": [],
      "include_colab_link": true
    },
    "kernelspec": {
      "name": "python3",
      "display_name": "Python 3"
    },
    "language_info": {
      "name": "python"
    }
  },
  "cells": [
    {
      "cell_type": "markdown",
      "metadata": {
        "id": "view-in-github",
        "colab_type": "text"
      },
      "source": [
        "<a href=\"https://colab.research.google.com/github/ShadowRaccoon/PrograConcurrente2023C1/blob/main/TP1_threads_python_M1.ipynb\" target=\"_parent\"><img src=\"https://colab.research.google.com/assets/colab-badge.svg\" alt=\"Open In Colab\"/></a>"
      ]
    },
    {
      "cell_type": "markdown",
      "source": [
        "# **Python**"
      ],
      "metadata": {
        "id": "IqTdbUhqPqt-"
      }
    },
    {
      "cell_type": "code",
      "source": [
        "%%writefile tp2.py\n",
        "import sys\n",
        "import os\n",
        "import random\n",
        "from threading import Thread\n",
        "MIN_MATRIX_SIZE = 5\n",
        "MAX_MATRIX_SIZE = 20\n",
        "MIN_MATRIX_CELL_VALUE = -32\n",
        "MAX_MATRIX_CELL_VALUE = 32\n",
        "\n",
        "def validateArgs(args):\n",
        "    if not len(args) == 2:\n",
        "        print(\"Cantidad incorrecta de argumentos\")\n",
        "        os._exit(1)\n",
        "    size = int(args[1])\n",
        "    if size > MAX_MATRIX_SIZE or size < MIN_MATRIX_SIZE:\n",
        "        print(\"El tamaño debe estar entre {min} y {max}\".format(min=MIN_MATRIX_SIZE, max=MAX_MATRIX_SIZE))\n",
        "        os._exit(1)\n",
        "    return size\n",
        "\n",
        "def matrixGenerator(size):\n",
        "    matrixResult=[]\n",
        "    for i in range(0, size):\n",
        "        matrixRow=[]\n",
        "        for j in range(0, size):\n",
        "            matrixRow.append(random.randint(MIN_MATRIX_CELL_VALUE, MAX_MATRIX_CELL_VALUE))\n",
        "        matrixResult.append(matrixRow)\n",
        "    return matrixResult\n",
        "\n",
        "def printMatrix(alias,matrix):\n",
        "    print(\"\\nMatrix: {alias}\".format(alias=alias))\n",
        "    for row in matrix:\n",
        "        for col in row:\n",
        "            print(\"\\t{col}\\t\".format(col=col),end=\"\")\n",
        "        print(\"\\n\",end=\"\")\n",
        "\n",
        "def secuentialMult(size, matrix_a, matrix_b):\n",
        "    matrixResult = []\n",
        "    for i in range(0, size):\n",
        "        rowResult = [None] * size\n",
        "        for j in range(0,size):\n",
        "            for k in range(0,size):\n",
        "                rowResult[j] = matrix_a[i][k] * matrix_b[k][j]\n",
        "        matrixResult.append(rowResult)\n",
        "    return matrixResult\n",
        "\n",
        "## Funcion que ejecuta el thread\n",
        "def multiplyRow(size, matrix_a, matrix_b, rowResult, rowIndex):\n",
        "    for j in range(0,size):\n",
        "        for k in range(0,size):\n",
        "            rowResult[j]= matrix_a[rowIndex][k]*matrix_b[k][j]\n",
        "\n",
        "## Genera un thread por cada fila encargado de ejecutar la multiplicacion y generar la fila resultante\n",
        "def concurrentMult(size, matrix_a, matrix_b):\n",
        "    matrixResult = []\n",
        "    threads = []\n",
        "\n",
        "    for i in range(0, size):\n",
        "        rowResult = [None] * size\n",
        "        thread = Thread(target=multiplyRow, args=(size, matrix_a, matrix_b, rowResult, i))\n",
        "        thread.start()\n",
        "        threads.append(thread)\n",
        "        matrixResult.append(rowResult)\n",
        "\n",
        "    for thread in threads:\n",
        "        thread.join()\n",
        "\n",
        "    return matrixResult\n",
        "\n",
        "def compareMatrix(size, matrix_a, matrix_b):\n",
        "    for i in range(0, size):\n",
        "        for j in range(0, size):\n",
        "            if matrix_a[i][j] != matrix_b[i][j]:\n",
        "                return False\n",
        "    return True\n",
        "\n",
        "def main():\n",
        "    size = validateArgs(sys.argv)\n",
        "    matrix_a = matrixGenerator(size)\n",
        "    matrix_b = matrixGenerator(size)\n",
        "    matrix_secuential = secuentialMult(size,matrix_a,matrix_b)\n",
        "    matrix_concurrent = concurrentMult(size,matrix_a,matrix_b)\n",
        "\n",
        "    printMatrix(\"A\", matrix_a)\n",
        "    printMatrix(\"B\", matrix_b)\n",
        "    printMatrix(\"Secuencial\", matrix_secuential)\n",
        "    printMatrix(\"Concurrente\", matrix_concurrent)\n",
        "\n",
        "    ## Determinamos si las matrices son iguales\n",
        "    resultCompare = \"iguales\" if compareMatrix(size, matrix_secuential, matrix_concurrent) else \"distintas\"\n",
        "    print(\"Las matrices concurrente y secuencial son {compare}\".format(compare=resultCompare))\n",
        "\n",
        "main()"
      ],
      "metadata": {
        "colab": {
          "base_uri": "https://localhost:8080/"
        },
        "id": "l_TWcUmsPqND",
        "outputId": "c4555bf0-95f0-4eba-c85c-2bb4ecc7be70"
      },
      "execution_count": 7,
      "outputs": [
        {
          "output_type": "stream",
          "name": "stdout",
          "text": [
            "Overwriting tp2.py\n"
          ]
        }
      ]
    },
    {
      "cell_type": "code",
      "source": [
        "!python3 tp2.py 1"
      ],
      "metadata": {
        "colab": {
          "base_uri": "https://localhost:8080/"
        },
        "id": "v0zZKSZ0P8uv",
        "outputId": "48df123f-77a7-478a-bcfc-f4de987c2783"
      },
      "execution_count": 8,
      "outputs": [
        {
          "output_type": "stream",
          "name": "stdout",
          "text": [
            "El tamaño debe estar entre 5 y 20\n"
          ]
        }
      ]
    },
    {
      "cell_type": "code",
      "source": [
        "!python3 tp2.py 7"
      ],
      "metadata": {
        "colab": {
          "base_uri": "https://localhost:8080/"
        },
        "id": "PWfqQIFiQR8K",
        "outputId": "e278b6ce-3e6f-43b5-f745-d594e8f5acd7"
      },
      "execution_count": 9,
      "outputs": [
        {
          "output_type": "stream",
          "name": "stdout",
          "text": [
            "\n",
            "Matrix: A\n",
            "\t3\t\t-22\t\t-29\t\t12\t\t-32\t\t-12\t\t4\t\n",
            "\t11\t\t-9\t\t29\t\t32\t\t-32\t\t2\t\t-18\t\n",
            "\t-9\t\t7\t\t20\t\t-32\t\t27\t\t19\t\t-27\t\n",
            "\t28\t\t-19\t\t13\t\t-17\t\t-2\t\t15\t\t11\t\n",
            "\t-3\t\t28\t\t-19\t\t-10\t\t-1\t\t17\t\t11\t\n",
            "\t16\t\t13\t\t-22\t\t23\t\t11\t\t-25\t\t15\t\n",
            "\t18\t\t-21\t\t24\t\t7\t\t-17\t\t-29\t\t-32\t\n",
            "\n",
            "Matrix: B\n",
            "\t24\t\t9\t\t4\t\t10\t\t16\t\t-27\t\t-3\t\n",
            "\t-28\t\t-31\t\t21\t\t30\t\t8\t\t5\t\t26\t\n",
            "\t2\t\t24\t\t23\t\t19\t\t26\t\t19\t\t-15\t\n",
            "\t-21\t\t-5\t\t-18\t\t-19\t\t1\t\t-19\t\t15\t\n",
            "\t2\t\t32\t\t22\t\t21\t\t5\t\t22\t\t18\t\n",
            "\t24\t\t13\t\t-24\t\t-28\t\t4\t\t-26\t\t29\t\n",
            "\t19\t\t-24\t\t-18\t\t21\t\t32\t\t8\t\t-18\t\n",
            "\n",
            "Matrix: Secuencial\n",
            "\t76\t\t-96\t\t-72\t\t84\t\t128\t\t32\t\t-72\t\n",
            "\t-342\t\t432\t\t324\t\t-378\t\t-576\t\t-144\t\t324\t\n",
            "\t-513\t\t648\t\t486\t\t-567\t\t-864\t\t-216\t\t486\t\n",
            "\t209\t\t-264\t\t-198\t\t231\t\t352\t\t88\t\t-198\t\n",
            "\t209\t\t-264\t\t-198\t\t231\t\t352\t\t88\t\t-198\t\n",
            "\t285\t\t-360\t\t-270\t\t315\t\t480\t\t120\t\t-270\t\n",
            "\t-608\t\t768\t\t576\t\t-672\t\t-1024\t\t-256\t\t576\t\n",
            "\n",
            "Matrix: Concurrente\n",
            "\t76\t\t-96\t\t-72\t\t84\t\t128\t\t32\t\t-72\t\n",
            "\t-342\t\t432\t\t324\t\t-378\t\t-576\t\t-144\t\t324\t\n",
            "\t-513\t\t648\t\t486\t\t-567\t\t-864\t\t-216\t\t486\t\n",
            "\t209\t\t-264\t\t-198\t\t231\t\t352\t\t88\t\t-198\t\n",
            "\t209\t\t-264\t\t-198\t\t231\t\t352\t\t88\t\t-198\t\n",
            "\t285\t\t-360\t\t-270\t\t315\t\t480\t\t120\t\t-270\t\n",
            "\t-608\t\t768\t\t576\t\t-672\t\t-1024\t\t-256\t\t576\t\n",
            "Las matrices concurrente y secuencial son iguales\n"
          ]
        }
      ]
    }
  ]
}
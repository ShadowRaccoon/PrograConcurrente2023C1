{
  "nbformat": 4,
  "nbformat_minor": 0,
  "metadata": {
    "colab": {
      "provenance": [],
      "include_colab_link": true
    },
    "kernelspec": {
      "name": "python3",
      "display_name": "Python 3"
    },
    "language_info": {
      "name": "python"
    }
  },
  "cells": [
    {
      "cell_type": "markdown",
      "metadata": {
        "id": "view-in-github",
        "colab_type": "text"
      },
      "source": [
        "<a href=\"https://colab.research.google.com/github/ShadowRaccoon/PrograConcurrente2023C1/blob/main/TP1_threads_python_M1.ipynb\" target=\"_parent\"><img src=\"https://colab.research.google.com/assets/colab-badge.svg\" alt=\"Open In Colab\"/></a>"
      ]
    },
    {
      "cell_type": "markdown",
      "source": [
        "# **Python**"
      ],
      "metadata": {
        "id": "IqTdbUhqPqt-"
      }
    },
    {
      "cell_type": "code",
      "source": [
        "%%writefile tp2.py\n",
        "import sys\n",
        "import os\n",
        "import random\n",
        "from threading import Thread\n",
        "MIN_MATRIX_SIZE = 5\n",
        "MAX_MATRIX_SIZE = 20\n",
        "MIN_MATRIX_CELL_VALUE = -32\n",
        "MAX_MATRIX_CELL_VALUE = 32\n",
        "\n",
        "def validateArgs(args):\n",
        "    if not len(args) == 2:\n",
        "        print(\"Cantidad incorrecta de argumentos\")\n",
        "        os._exit(1)\n",
        "    size = int(args[1])\n",
        "    if size > MAX_MATRIX_SIZE or size < MIN_MATRIX_SIZE:\n",
        "        print(\"El tamaño debe estar entre {min} y {max}\".format(min=MIN_MATRIX_SIZE, max=MAX_MATRIX_SIZE))\n",
        "        os._exit(1)\n",
        "    return size\n",
        "\n",
        "def matrixGenerator(size):\n",
        "    matrixResult=[]\n",
        "    for i in range(0, size):\n",
        "        matrixRow=[]\n",
        "        for j in range(0, size):\n",
        "            matrixRow.append(random.randint(MIN_MATRIX_CELL_VALUE, MAX_MATRIX_CELL_VALUE))\n",
        "        matrixResult.append(matrixRow)\n",
        "    return matrixResult\n",
        "\n",
        "def printMatrix(alias,matrix):\n",
        "    print(\"\\nMatrix: {alias}\".format(alias=alias))\n",
        "    for row in matrix:\n",
        "        for col in row:\n",
        "            print(\"\\t{col}\\t\".format(col=col),end=\"\")\n",
        "        print(\"\\n\",end=\"\")\n",
        "\n",
        "def secuentialMult(size, matrix_a, matrix_b):\n",
        "    matrixResult = []\n",
        "    for i in range(0, size):\n",
        "        rowResult = [None] * size\n",
        "        for j in range(0,size):\n",
        "            for k in range(0,size):\n",
        "                rowResult[j] = matrix_a[i][k] * matrix_b[k][j]\n",
        "        matrixResult.append(rowResult)\n",
        "    return matrixResult\n",
        "\n",
        "def multiplyRow(size, matrix_a, matrix_b, rowResult, rowIndex):\n",
        "    for j in range(0,size):\n",
        "        for k in range(0,size):\n",
        "            rowResult[j]= matrix_a[rowIndex][k]*matrix_b[k][j]\n",
        "\n",
        "def concurrentMult(size, matrix_a, matrix_b):\n",
        "    matrixResult = []\n",
        "    threads = []\n",
        "\n",
        "    for i in range(0, size):\n",
        "        rowResult = [None] * size\n",
        "        thread = Thread(target=multiplyRow, args=(size, matrix_a, matrix_b, rowResult, i))\n",
        "        thread.start()\n",
        "        threads.append(thread)\n",
        "        matrixResult.append(rowResult)\n",
        "\n",
        "    for thread in threads:\n",
        "        thread.join()\n",
        "\n",
        "    return matrixResult\n",
        "\n",
        "def compareMatrix(size, matrix_a, matrix_b):\n",
        "    for i in range(0, size):\n",
        "        for j in range(0, size):\n",
        "            if matrix_a[i][j] != matrix_b[i][j]:\n",
        "                return False\n",
        "    return True\n",
        "\n",
        "def main():\n",
        "    size = validateArgs(sys.argv)\n",
        "    matrix_a = matrixGenerator(size)\n",
        "    matrix_b = matrixGenerator(size)\n",
        "    matrix_secuential = secuentialMult(size,matrix_a,matrix_b)\n",
        "    matrix_concurrent = concurrentMult(size,matrix_a,matrix_b)\n",
        "\n",
        "    printMatrix(\"A\", matrix_a)\n",
        "    printMatrix(\"B\", matrix_b)\n",
        "    printMatrix(\"Secuencial\", matrix_secuential)\n",
        "    printMatrix(\"Concurrente\", matrix_concurrent)\n",
        "\n",
        "    resultCompare = \"iguales\" if compareMatrix(size, matrix_secuential, matrix_concurrent) else \"distintas\"\n",
        "    print(\"Las matrices concurrente y secuencial son {compare}\".format(compare=resultCompare))\n",
        "\n",
        "main()"
      ],
      "metadata": {
        "colab": {
          "base_uri": "https://localhost:8080/"
        },
        "id": "l_TWcUmsPqND",
        "outputId": "79a3237d-ea2f-43f0-8fbb-189fa856fe02"
      },
      "execution_count": 4,
      "outputs": [
        {
          "output_type": "stream",
          "name": "stdout",
          "text": [
            "Overwriting tp2.py\n"
          ]
        }
      ]
    },
    {
      "cell_type": "code",
      "source": [
        "!python3 tp2.py 1"
      ],
      "metadata": {
        "colab": {
          "base_uri": "https://localhost:8080/"
        },
        "id": "v0zZKSZ0P8uv",
        "outputId": "cd2075c4-261c-482c-d3f4-246df39df479"
      },
      "execution_count": 5,
      "outputs": [
        {
          "output_type": "stream",
          "name": "stdout",
          "text": [
            "El tamaño debe estar entre 5 y 20\n"
          ]
        }
      ]
    },
    {
      "cell_type": "code",
      "source": [
        "!python3 tp2.py 7"
      ],
      "metadata": {
        "colab": {
          "base_uri": "https://localhost:8080/"
        },
        "id": "PWfqQIFiQR8K",
        "outputId": "d4e5c6de-2920-47af-b4c1-4897205189d4"
      },
      "execution_count": 6,
      "outputs": [
        {
          "output_type": "stream",
          "name": "stdout",
          "text": [
            "\n",
            "Matrix: A\n",
            "\t-13\t\t23\t\t-4\t\t5\t\t-1\t\t14\t\t25\t\n",
            "\t28\t\t-20\t\t13\t\t-28\t\t30\t\t13\t\t-11\t\n",
            "\t-20\t\t-15\t\t-23\t\t0\t\t-1\t\t-2\t\t30\t\n",
            "\t14\t\t-3\t\t-1\t\t-17\t\t7\t\t28\t\t32\t\n",
            "\t22\t\t-16\t\t-2\t\t-32\t\t12\t\t-3\t\t-29\t\n",
            "\t-5\t\t10\t\t-26\t\t4\t\t28\t\t27\t\t13\t\n",
            "\t23\t\t-24\t\t17\t\t25\t\t28\t\t20\t\t28\t\n",
            "\n",
            "Matrix: B\n",
            "\t10\t\t-21\t\t-18\t\t-29\t\t-8\t\t24\t\t-11\t\n",
            "\t-17\t\t-23\t\t-18\t\t-23\t\t13\t\t2\t\t-25\t\n",
            "\t17\t\t18\t\t-30\t\t14\t\t-16\t\t16\t\t-6\t\n",
            "\t-6\t\t5\t\t28\t\t-10\t\t-8\t\t10\t\t-25\t\n",
            "\t15\t\t26\t\t15\t\t12\t\t-5\t\t-17\t\t3\t\n",
            "\t5\t\t-23\t\t17\t\t-12\t\t12\t\t26\t\t7\t\n",
            "\t32\t\t28\t\t-17\t\t-19\t\t-17\t\t7\t\t32\t\n",
            "\n",
            "Matrix: Secuencial\n",
            "\t800\t\t700\t\t-425\t\t-475\t\t-425\t\t175\t\t800\t\n",
            "\t-352\t\t-308\t\t187\t\t209\t\t187\t\t-77\t\t-352\t\n",
            "\t960\t\t840\t\t-510\t\t-570\t\t-510\t\t210\t\t960\t\n",
            "\t1024\t\t896\t\t-544\t\t-608\t\t-544\t\t224\t\t1024\t\n",
            "\t-928\t\t-812\t\t493\t\t551\t\t493\t\t-203\t\t-928\t\n",
            "\t416\t\t364\t\t-221\t\t-247\t\t-221\t\t91\t\t416\t\n",
            "\t896\t\t784\t\t-476\t\t-532\t\t-476\t\t196\t\t896\t\n",
            "\n",
            "Matrix: Concurrente\n",
            "\t800\t\t700\t\t-425\t\t-475\t\t-425\t\t175\t\t800\t\n",
            "\t-352\t\t-308\t\t187\t\t209\t\t187\t\t-77\t\t-352\t\n",
            "\t960\t\t840\t\t-510\t\t-570\t\t-510\t\t210\t\t960\t\n",
            "\t1024\t\t896\t\t-544\t\t-608\t\t-544\t\t224\t\t1024\t\n",
            "\t-928\t\t-812\t\t493\t\t551\t\t493\t\t-203\t\t-928\t\n",
            "\t416\t\t364\t\t-221\t\t-247\t\t-221\t\t91\t\t416\t\n",
            "\t896\t\t784\t\t-476\t\t-532\t\t-476\t\t196\t\t896\t\n",
            "Las matrices concurrente y secuencial son iguales\n"
          ]
        }
      ]
    }
  ]
}
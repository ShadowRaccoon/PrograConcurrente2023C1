{
  "nbformat": 4,
  "nbformat_minor": 0,
  "metadata": {
    "colab": {
      "provenance": [],
      "include_colab_link": true
    },
    "kernelspec": {
      "name": "python3",
      "display_name": "Python 3"
    },
    "language_info": {
      "name": "python"
    }
  },
  "cells": [
    {
      "cell_type": "markdown",
      "metadata": {
        "id": "view-in-github",
        "colab_type": "text"
      },
      "source": [
        "<a href=\"https://colab.research.google.com/github/ShadowRaccoon/PrograConcurrente2023C1/blob/main/TP1_threads_python_M1.ipynb\" target=\"_parent\"><img src=\"https://colab.research.google.com/assets/colab-badge.svg\" alt=\"Open In Colab\"/></a>"
      ]
    },
    {
      "cell_type": "markdown",
      "source": [
        "# **Python**"
      ],
      "metadata": {
        "id": "IqTdbUhqPqt-"
      }
    },
    {
      "cell_type": "code",
      "source": [
        "%%writefile tp2.py\n",
        "import sys\n",
        "import os\n",
        "import random\n",
        "from threading import Thread\n",
        "MIN_MATRIX_SIZE = 5\n",
        "MAX_MATRIX_SIZE = 20\n",
        "MIN_MATRIX_CELL_VALUE = -32\n",
        "MAX_MATRIX_CELL_VALUE = 32\n",
        "\n",
        "def validateArgs(args):\n",
        "    if not len(args) == 2:\n",
        "        print(\"Cantidad incorrecta de argumentos\")\n",
        "        os._exit(1)\n",
        "    size = int(args[1])\n",
        "    if size > MAX_MATRIX_SIZE or size < MIN_MATRIX_SIZE:\n",
        "        print(\"El tamaño debe estar entre {min} y {max}\".format(\n",
        "          min=MIN_MATRIX_SIZE,\n",
        "          max=MAX_MATRIX_SIZE))\n",
        "        os._exit(1)\n",
        "    return size\n",
        "\n",
        "def matrixGenerator(size):\n",
        "    matrixResult=[]\n",
        "    for i in range(0, size):\n",
        "        matrixRow=[]\n",
        "        for j in range(0, size):\n",
        "            matrixRow.append(random.randint(\n",
        "              MIN_MATRIX_CELL_VALUE, MAX_MATRIX_CELL_VALUE))\n",
        "        matrixResult.append(matrixRow)\n",
        "    return matrixResult\n",
        "\n",
        "def printMatrix(alias,matrix):\n",
        "    print(\"\\nMatrix: {alias}\".format(alias=alias))\n",
        "    for row in matrix:\n",
        "        for col in row:\n",
        "            print(\"\\t{col}\\t\".format(col=col),end=\"\")\n",
        "        print(\"\\n\",end=\"\")\n",
        "\n",
        "def secuentialMult(size, matrix_a, matrix_b):\n",
        "    matrixResult = []\n",
        "    for i in range(0, size):\n",
        "        rowResult = [None] * size\n",
        "        for j in range(0,size):\n",
        "            for k in range(0,size):\n",
        "                rowResult[j] = matrix_a[i][k] * matrix_b[k][j]\n",
        "        matrixResult.append(rowResult)\n",
        "    return matrixResult\n",
        "\n",
        "## Funcion que ejecuta el thread\n",
        "def multiplyRow(size, matrix_a, matrix_b, rowResult, rowIndex):\n",
        "    for j in range(0,size):\n",
        "        for k in range(0,size):\n",
        "            rowResult[j]= matrix_a[rowIndex][k]*matrix_b[k][j]\n",
        "\n",
        "## Genera un thread por cada fila encargado de ejecutar la multiplicacion y generar la fila resultante\n",
        "def concurrentMult(size, matrix_a, matrix_b):\n",
        "    matrixResult = []\n",
        "    threads = []\n",
        "\n",
        "    for i in range(0, size):\n",
        "        rowResult = [None] * size\n",
        "        thread = Thread(\n",
        "          target=multiplyRow,\n",
        "          args=(size, matrix_a, matrix_b, rowResult, i))\n",
        "        thread.start()\n",
        "        threads.append(thread)\n",
        "        matrixResult.append(rowResult)\n",
        "\n",
        "    for thread in threads:\n",
        "        thread.join()\n",
        "\n",
        "    return matrixResult\n",
        "\n",
        "def compareMatrix(size, matrix_a, matrix_b):\n",
        "    for i in range(0, size):\n",
        "        for j in range(0, size):\n",
        "            if matrix_a[i][j] != matrix_b[i][j]:\n",
        "                return False\n",
        "    return True\n",
        "\n",
        "def main():\n",
        "    size = validateArgs(sys.argv)\n",
        "    matrix_a = matrixGenerator(size)\n",
        "    matrix_b = matrixGenerator(size)\n",
        "    matrix_secuential = secuentialMult(size,matrix_a,matrix_b)\n",
        "    matrix_concurrent = concurrentMult(size,matrix_a,matrix_b)\n",
        "\n",
        "    printMatrix(\"A\", matrix_a)\n",
        "    printMatrix(\"B\", matrix_b)\n",
        "    printMatrix(\"Secuencial\", matrix_secuential)\n",
        "    printMatrix(\"Concurrente\", matrix_concurrent)\n",
        "\n",
        "    ## Determinamos si las matrices son iguales\n",
        "    resultCompare = (\n",
        "      \"iguales\" \n",
        "      if compareMatrix(size, matrix_secuential, matrix_concurrent)\n",
        "      else \"distintas\")\n",
        "    print(\"Las matrices concurrente y secuencial son {compare}\".format(\n",
        "      compare=resultCompare))\n",
        "\n",
        "main()"
      ],
      "metadata": {
        "colab": {
          "base_uri": "https://localhost:8080/"
        },
        "id": "l_TWcUmsPqND",
        "outputId": "5262e9d7-a825-407b-af1f-7cd8de719e1f"
      },
      "execution_count": 11,
      "outputs": [
        {
          "output_type": "stream",
          "name": "stdout",
          "text": [
            "Overwriting tp2.py\n"
          ]
        }
      ]
    },
    {
      "cell_type": "code",
      "source": [
        "!python3 tp2.py 1"
      ],
      "metadata": {
        "colab": {
          "base_uri": "https://localhost:8080/"
        },
        "id": "v0zZKSZ0P8uv",
        "outputId": "630eb3f2-afb2-4242-8cbc-c30f094e2ee9"
      },
      "execution_count": 12,
      "outputs": [
        {
          "output_type": "stream",
          "name": "stdout",
          "text": [
            "El tamaño debe estar entre 5 y 20\n"
          ]
        }
      ]
    },
    {
      "cell_type": "code",
      "source": [
        "!python3 tp2.py 7"
      ],
      "metadata": {
        "colab": {
          "base_uri": "https://localhost:8080/"
        },
        "id": "PWfqQIFiQR8K",
        "outputId": "483d6d75-785b-4fd8-dc83-f0d6d875cc77"
      },
      "execution_count": 13,
      "outputs": [
        {
          "output_type": "stream",
          "name": "stdout",
          "text": [
            "\n",
            "Matrix: A\n",
            "\t9\t\t21\t\t-17\t\t-22\t\t-4\t\t30\t\t2\t\n",
            "\t3\t\t31\t\t-29\t\t7\t\t-21\t\t23\t\t29\t\n",
            "\t18\t\t-1\t\t-6\t\t17\t\t29\t\t-15\t\t-2\t\n",
            "\t13\t\t-3\t\t-27\t\t-19\t\t-8\t\t0\t\t7\t\n",
            "\t-7\t\t-22\t\t18\t\t16\t\t-4\t\t-8\t\t-2\t\n",
            "\t12\t\t18\t\t15\t\t28\t\t-21\t\t-30\t\t27\t\n",
            "\t2\t\t-29\t\t-6\t\t-5\t\t-19\t\t-4\t\t2\t\n",
            "\n",
            "Matrix: B\n",
            "\t28\t\t11\t\t3\t\t-4\t\t-13\t\t22\t\t12\t\n",
            "\t17\t\t21\t\t-31\t\t-31\t\t-7\t\t28\t\t-26\t\n",
            "\t-21\t\t14\t\t27\t\t25\t\t19\t\t7\t\t-4\t\n",
            "\t15\t\t29\t\t27\t\t10\t\t-5\t\t-31\t\t16\t\n",
            "\t-22\t\t-9\t\t6\t\t7\t\t3\t\t13\t\t-16\t\n",
            "\t12\t\t28\t\t-19\t\t-10\t\t-26\t\t-10\t\t-24\t\n",
            "\t-3\t\t32\t\t-7\t\t-28\t\t29\t\t7\t\t-32\t\n",
            "\n",
            "Matrix: Secuencial\n",
            "\t-6\t\t64\t\t-14\t\t-56\t\t58\t\t14\t\t-64\t\n",
            "\t-87\t\t928\t\t-203\t\t-812\t\t841\t\t203\t\t-928\t\n",
            "\t6\t\t-64\t\t14\t\t56\t\t-58\t\t-14\t\t64\t\n",
            "\t-21\t\t224\t\t-49\t\t-196\t\t203\t\t49\t\t-224\t\n",
            "\t6\t\t-64\t\t14\t\t56\t\t-58\t\t-14\t\t64\t\n",
            "\t-81\t\t864\t\t-189\t\t-756\t\t783\t\t189\t\t-864\t\n",
            "\t-6\t\t64\t\t-14\t\t-56\t\t58\t\t14\t\t-64\t\n",
            "\n",
            "Matrix: Concurrente\n",
            "\t-6\t\t64\t\t-14\t\t-56\t\t58\t\t14\t\t-64\t\n",
            "\t-87\t\t928\t\t-203\t\t-812\t\t841\t\t203\t\t-928\t\n",
            "\t6\t\t-64\t\t14\t\t56\t\t-58\t\t-14\t\t64\t\n",
            "\t-21\t\t224\t\t-49\t\t-196\t\t203\t\t49\t\t-224\t\n",
            "\t6\t\t-64\t\t14\t\t56\t\t-58\t\t-14\t\t64\t\n",
            "\t-81\t\t864\t\t-189\t\t-756\t\t783\t\t189\t\t-864\t\n",
            "\t-6\t\t64\t\t-14\t\t-56\t\t58\t\t14\t\t-64\t\n",
            "Las matrices concurrente y secuencial son iguales\n"
          ]
        }
      ]
    }
  ]
}
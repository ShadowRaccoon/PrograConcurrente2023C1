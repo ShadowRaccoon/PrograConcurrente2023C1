{
  "nbformat": 4,
  "nbformat_minor": 0,
  "metadata": {
    "colab": {
      "provenance": [],
      "collapsed_sections": [
        "iu9MgsNjEle4"
      ],
      "authorship_tag": "ABX9TyOqjhLwvbigIqBGS/qKjhjt",
      "include_colab_link": true
    },
    "kernelspec": {
      "name": "python3",
      "display_name": "Python 3"
    },
    "language_info": {
      "name": "python"
    }
  },
  "cells": [
    {
      "cell_type": "markdown",
      "metadata": {
        "id": "view-in-github",
        "colab_type": "text"
      },
      "source": [
        "<a href=\"https://colab.research.google.com/github/ShadowRaccoon/PrograConcurrente2023C1/blob/main/TP1_Parte3_Cpp_M1.ipynb\" target=\"_parent\"><img src=\"https://colab.research.google.com/assets/colab-badge.svg\" alt=\"Open In Colab\"/></a>"
      ]
    },
    {
      "cell_type": "markdown",
      "source": [
        "## C++"
      ],
      "metadata": {
        "id": "pwGSH2BdD7om"
      }
    },
    {
      "cell_type": "markdown",
      "source": [
        "# Código"
      ],
      "metadata": {
        "id": "iu9MgsNjEle4"
      }
    },
    {
      "cell_type": "code",
      "execution_count": 1,
      "metadata": {
        "colab": {
          "base_uri": "https://localhost:8080/"
        },
        "id": "6vGo_MghCW56",
        "outputId": "375ac70b-aaca-4feb-e714-f8bf3743663b"
      },
      "outputs": [
        {
          "output_type": "stream",
          "name": "stdout",
          "text": [
            "Writing comm_data_types.h\n"
          ]
        }
      ],
      "source": [
        "%%writefile comm_data_types.h\n",
        "#ifndef _COMM_DATA_TYPES_H_\n",
        "#define _COMM_DATA_TYPES_H_\n",
        "\n",
        "#define  CLIENT_FIFO_PATH \"./client_fifo\"\n",
        "#define  SERVER_FIFO_PATH \"./server_fifo\"\n",
        "\n",
        "typedef struct\n",
        "{\n",
        "    int total_sum;\n",
        "    int num_quantity;\n",
        "    float average;\n",
        "    int min;\n",
        "    int max;\n",
        "} ServerResponse;\n",
        "\n",
        "typedef struct\n",
        "{\n",
        "    int size;\n",
        "    int numbers[100];\n",
        "} ClientRequest;\n",
        "\n",
        "#endif"
      ]
    },
    {
      "cell_type": "code",
      "source": [
        "%%writefile client.cpp\n",
        "#include <iostream>\n",
        "#include <string>\n",
        "#include <vector>\n",
        "#include <sstream>\n",
        "#include <sys/types.h>\n",
        "#include <sys/stat.h>\n",
        "#include <sys/types.h>\n",
        "#include <fcntl.h>\n",
        "#include <unistd.h>\n",
        "#include \"comm_data_types.h\"\n",
        "\n",
        "std::vector<int> ParseInput(const std::string& argv);\n",
        "void PrintResponse(ServerResponse& response);\n",
        "\n",
        "int main(int argc, char* argv[])\n",
        "{\n",
        "    if(argc < 2)\n",
        "    {\n",
        "        std::cout << \"Cantidad de atributos erronea\" << std::endl;\n",
        "        return EXIT_FAILURE;\n",
        "    }\n",
        "\n",
        "    std::string input(argv[1]);\n",
        "    auto numbers {ParseInput(input)};\n",
        "\n",
        "    // write\n",
        "    ClientRequest request {(int)numbers.size()};\n",
        "    std::copy(numbers.begin(), numbers.end(), request.numbers);\n",
        "    \n",
        "    int w = open(CLIENT_FIFO_PATH, O_WRONLY);\n",
        "    if( write( w, &request, sizeof( ClientRequest ) ) == -1 )\n",
        "    {\n",
        "        perror(\"Error en write()\");\n",
        "        return EXIT_FAILURE;\n",
        "    }    \n",
        "    \n",
        "    close(w);\n",
        "    unlink(CLIENT_FIFO_PATH);\n",
        "\n",
        "    ServerResponse response;\n",
        "\n",
        "    // Read\n",
        "    int r = open(SERVER_FIFO_PATH, O_RDONLY);\n",
        "    if( read( r, &response, sizeof( ServerResponse ) ) == -1 )\n",
        "    {\n",
        "        perror(\"Error en read()\");\n",
        "        return EXIT_FAILURE;\n",
        "    }\n",
        "    close(r);\n",
        "\n",
        "    PrintResponse(response);\n",
        "\n",
        "    return EXIT_SUCCESS;\n",
        "}\n",
        "\n",
        "std::vector<int> ParseInput(const std::string& input)\n",
        "{\n",
        "    std::vector<int> numbers;\n",
        "    \n",
        "    std::stringstream stream(input);\n",
        "    std::string segment;\n",
        "    std::vector<std::string> seglist;\n",
        "\n",
        "    while(std::getline(stream, segment, '-'))\n",
        "    {\n",
        "        seglist.push_back(segment);\n",
        "    }\n",
        "\n",
        "    for(const std::string s: seglist)\n",
        "    {\n",
        "        numbers.push_back(std::stoi(s));\n",
        "    }\n",
        "\n",
        "    return numbers;\n",
        "}\n",
        "\n",
        "void PrintResponse(ServerResponse& response)\n",
        "{\n",
        "    std::cout \n",
        "        << \"Promedio: \" << response.average << std::endl\n",
        "        << \"Min: \" << response.min << std::endl\n",
        "        << \"max: \" << response.max << std::endl\n",
        "        << \"Suma total: \" << response.total_sum << std::endl\n",
        "        << \"Cantidad números: \" << response.num_quantity << std::endl;\n",
        "}"
      ],
      "metadata": {
        "colab": {
          "base_uri": "https://localhost:8080/"
        },
        "id": "PT6NDpdREFnZ",
        "outputId": "fd5bdb8c-ab80-498f-f05d-aca209a6fbb9"
      },
      "execution_count": 2,
      "outputs": [
        {
          "output_type": "stream",
          "name": "stdout",
          "text": [
            "Writing client.cpp\n"
          ]
        }
      ]
    },
    {
      "cell_type": "code",
      "source": [
        "%%writefile server.cpp\n",
        "#include <iostream>\n",
        "#include <vector>\n",
        "#include <numeric>\n",
        "#include <algorithm>\n",
        "#include <sys/types.h>\n",
        "#include <sys/stat.h>\n",
        "#include <fcntl.h>\n",
        "#include <unistd.h>\n",
        "#include \"comm_data_types.h\"\n",
        "\n",
        "ServerResponse CalculateResponse(std::vector<int>&);\n",
        "\n",
        "int main(int argc, char* argv[])\n",
        "{\n",
        "    // Read\n",
        "    if( mkfifo(CLIENT_FIFO_PATH,0666) == -1 )\n",
        "    {\n",
        "        perror(\"Error al crear client fifo\");\n",
        "        return EXIT_FAILURE;    \n",
        "    }\n",
        "    int r = open(CLIENT_FIFO_PATH, O_RDONLY);\n",
        "    ClientRequest request {};\n",
        "    \n",
        "    if( read( r, &request, sizeof( ClientRequest ) ) == -1 )\n",
        "    {\n",
        "        perror(\"Error en read()\");\n",
        "        return EXIT_FAILURE;\n",
        "    }\n",
        "\n",
        "    close(r);\n",
        "\n",
        "    std::vector<int> numbers;\n",
        "    for(int i = 0; i < request.size; ++i)\n",
        "    {\n",
        "        numbers.push_back(request.numbers[i]);\n",
        "    }\n",
        "\n",
        "    ServerResponse response {CalculateResponse(numbers)};\n",
        "\n",
        "    if( mkfifo(SERVER_FIFO_PATH,0666) == -1 )\n",
        "    {\n",
        "        perror(\"Error al crear ./server_fifo\");\n",
        "        return EXIT_FAILURE;    \n",
        "    }\n",
        "\n",
        "    int w = open(SERVER_FIFO_PATH, O_WRONLY);\n",
        "\n",
        "    if( write( w, &response, sizeof( ServerResponse ) ) == -1 )\n",
        "    {\n",
        "        perror(\"Error en write()\");\n",
        "        return EXIT_FAILURE;\n",
        "    }\n",
        "\n",
        "    close(w);\n",
        "    unlink(SERVER_FIFO_PATH);\n",
        "\n",
        "    return EXIT_SUCCESS;\n",
        "}\n",
        "\n",
        "ServerResponse CalculateResponse(std::vector<int> &numbers)\n",
        "{\n",
        "    // std::reduce Calcula la sumatoria de elementos de un vector de una manera concurrente\n",
        "    int total_sum {std::reduce(numbers.begin(), numbers.end())};\n",
        "    int num_quantity {(int)numbers.size()};\n",
        "    ServerResponse respuesta \n",
        "    {\n",
        "        total_sum, // total_sum\n",
        "        num_quantity, // num_quantity\n",
        "        (float)total_sum/num_quantity, // average\n",
        "        // Devuelven vector<int>::iterator, que es un puntero a un elemento de un vector\n",
        "        // Por ende, hay que desferrenciar\n",
        "        *std::min_element(numbers.begin(), numbers.end()), // min\n",
        "        *std::max_element(numbers.begin(), numbers.end()) // max\n",
        "    };\n",
        "\n",
        "    return respuesta;\n",
        "}"
      ],
      "metadata": {
        "colab": {
          "base_uri": "https://localhost:8080/"
        },
        "id": "8qM_eSurEK_6",
        "outputId": "11f2fd88-8e66-4046-a813-b702941c16d4"
      },
      "execution_count": 3,
      "outputs": [
        {
          "output_type": "stream",
          "name": "stdout",
          "text": [
            "Writing server.cpp\n"
          ]
        }
      ]
    },
    {
      "cell_type": "code",
      "source": [
        "%%writefile makefile\n",
        "all: server client\n",
        "\n",
        "server:./server.cpp\n",
        "\tg++ -std=c++17 ./server.cpp -o server\n",
        "\n",
        "client:./client.cpp\n",
        "\tg++ -std=c++17 ./client.cpp -o client\n",
        "\n",
        "clean:\n",
        "\trm server\n",
        "\trm client"
      ],
      "metadata": {
        "colab": {
          "base_uri": "https://localhost:8080/"
        },
        "id": "VaBXXBzeEVOd",
        "outputId": "ad571cc2-edb0-42cb-adef-3e2253d94493"
      },
      "execution_count": 4,
      "outputs": [
        {
          "output_type": "stream",
          "name": "stdout",
          "text": [
            "Writing makefile\n"
          ]
        }
      ]
    },
    {
      "cell_type": "markdown",
      "source": [
        "# Ejecución"
      ],
      "metadata": {
        "id": "bfiXXoQjE0wn"
      }
    },
    {
      "cell_type": "code",
      "source": [
        "!make"
      ],
      "metadata": {
        "colab": {
          "base_uri": "https://localhost:8080/"
        },
        "id": "Cn0DA5CKE60n",
        "outputId": "5881e75d-67da-4e04-bc06-196615732a1d"
      },
      "execution_count": 5,
      "outputs": [
        {
          "output_type": "stream",
          "name": "stdout",
          "text": [
            "g++ -std=c++17 ./server.cpp -o server\n",
            "g++ -std=c++17 ./client.cpp -o client\n"
          ]
        }
      ]
    },
    {
      "cell_type": "code",
      "source": [
        "!nohup ./server &"
      ],
      "metadata": {
        "colab": {
          "base_uri": "https://localhost:8080/"
        },
        "id": "3emlsP_9FD-O",
        "outputId": "78af01f6-25b4-4c7f-85ef-315cb8168b23"
      },
      "execution_count": 6,
      "outputs": [
        {
          "output_type": "stream",
          "name": "stdout",
          "text": [
            "nohup: appending output to 'nohup.out'\n"
          ]
        }
      ]
    },
    {
      "cell_type": "code",
      "source": [
        "!./client 222-444-55-6"
      ],
      "metadata": {
        "colab": {
          "base_uri": "https://localhost:8080/"
        },
        "id": "57pU7IH3E81Q",
        "outputId": "fb1948b1-b117-4a56-c976-0bf63b610669"
      },
      "execution_count": 7,
      "outputs": [
        {
          "output_type": "stream",
          "name": "stdout",
          "text": [
            "Promedio: 181.75\n",
            "Min: 6\n",
            "max: 444\n",
            "Suma total: 727\n",
            "Cantidad números: 4\n"
          ]
        }
      ]
    },
    {
      "cell_type": "code",
      "source": [
        "!rm -f server_fifo client_fifo"
      ],
      "metadata": {
        "id": "NfG-vruQFttW"
      },
      "execution_count": null,
      "outputs": []
    }
  ]
}

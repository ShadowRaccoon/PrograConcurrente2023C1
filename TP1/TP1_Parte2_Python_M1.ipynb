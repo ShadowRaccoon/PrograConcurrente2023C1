{
  "nbformat": 4,
  "nbformat_minor": 0,
  "metadata": {
    "colab": {
      "provenance": [],
      "authorship_tag": "ABX9TyMQNbEr75UHWXHSKnIUe0xo",
      "include_colab_link": true
    },
    "kernelspec": {
      "name": "python3",
      "display_name": "Python 3"
    },
    "language_info": {
      "name": "python"
    }
  },
  "cells": [
    {
      "cell_type": "markdown",
      "metadata": {
        "id": "view-in-github",
        "colab_type": "text"
      },
      "source": [
        "<a href=\"https://colab.research.google.com/github/ShadowRaccoon/PrograConcurrente2023C1/blob/main/TP1/TP1_Parte2_Python_M1.ipynb\" target=\"_parent\"><img src=\"https://colab.research.google.com/assets/colab-badge.svg\" alt=\"Open In Colab\"/></a>"
      ]
    },
    {
      "cell_type": "code",
      "execution_count": 1,
      "metadata": {
        "colab": {
          "base_uri": "https://localhost:8080/"
        },
        "id": "7wmSQle9yjRF",
        "outputId": "d1d820c0-fcb4-4c90-d3fb-c80729e8070c"
      },
      "outputs": [
        {
          "output_type": "stream",
          "name": "stdout",
          "text": [
            "Writing tp1-parte2.py\n"
          ]
        }
      ],
      "source": [
        "%%writefile tp1-parte2.py\n",
        "import sys\n",
        "import os\n",
        "import random\n",
        "from threading import Thread\n",
        "MIN_MATRIX_SIZE = 5\n",
        "MAX_MATRIX_SIZE = 20\n",
        "MIN_MATRIX_CELL_VALUE = -32\n",
        "MAX_MATRIX_CELL_VALUE = 32\n",
        "\n",
        "def validate_args(args):\n",
        "    if not len(args) == 2:\n",
        "        print(\"Cantidad incorrecta de argumentos\")\n",
        "        os._exit(1)\n",
        "    size = int(args[1])\n",
        "    if size > MAX_MATRIX_SIZE or size < MIN_MATRIX_SIZE:\n",
        "        print(\"El tamaño debe estar entre {min} y {max}\".format(\n",
        "          min=MIN_MATRIX_SIZE,\n",
        "          max=MAX_MATRIX_SIZE))\n",
        "        os._exit(1)\n",
        "    return size\n",
        "\n",
        "def matrix_generator(size):\n",
        "    matrix_result=[]\n",
        "    for i in range(0, size):\n",
        "        matrix_row=[]\n",
        "        for j in range(0, size):\n",
        "            matrix_row.append(random.randint(\n",
        "              MIN_MATRIX_CELL_VALUE, MAX_MATRIX_CELL_VALUE))\n",
        "        matrix_result.append(matrix_row)\n",
        "    return matrix_result\n",
        "\n",
        "def print_matrix(alias,matrix):\n",
        "    print(\"\\nMatrix: {alias}\".format(alias=alias))\n",
        "    for row in matrix:\n",
        "        for col in row:\n",
        "            print(\"\\t{col}\\t\".format(col=col),end=\"\")\n",
        "        print(\"\\n\",end=\"\")\n",
        "\n",
        "def secuential_mult(size, matrix_a, matrix_b):\n",
        "    matrix_result = []\n",
        "    for i in range(0, size):\n",
        "        row_result = [None] * size\n",
        "        for j in range(0,size):\n",
        "            for k in range(0,size):\n",
        "                row_result[j] = matrix_a[i][k] * matrix_b[k][j]\n",
        "        matrix_result.append(row_result)\n",
        "    return matrix_result\n",
        "\n",
        "## Funcion que ejecuta el thread\n",
        "def multiply_row(size, matrix_a, matrix_b, row_result, rowIndex):\n",
        "    for j in range(0,size):\n",
        "        for k in range(0,size):\n",
        "            row_result[j]= matrix_a[rowIndex][k]*matrix_b[k][j]\n",
        "\n",
        "## Genera un thread por cada fila encargado de ejecutar la multiplicacion y generar la fila resultante\n",
        "def concurrent_mult(size, matrix_a, matrix_b):\n",
        "    matrix_result = []\n",
        "    threads = []\n",
        "\n",
        "    for i in range(0, size):\n",
        "        row_result = [None] * size\n",
        "        thread = Thread(\n",
        "          target=multiply_row,\n",
        "          args=(size, matrix_a, matrix_b, row_result, i))\n",
        "        thread.start()\n",
        "        threads.append(thread)\n",
        "        matrix_result.append(row_result)\n",
        "\n",
        "    for thread in threads:\n",
        "        thread.join()\n",
        "\n",
        "    return matrix_result\n",
        "\n",
        "def compare_matrix(size, matrix_a, matrix_b):\n",
        "    for i in range(0, size):\n",
        "        for j in range(0, size):\n",
        "            if matrix_a[i][j] != matrix_b[i][j]:\n",
        "                return False\n",
        "    return True\n",
        "\n",
        "def main():\n",
        "    size = validate_args(sys.argv)\n",
        "    matrix_a = matrix_generator(size)\n",
        "    matrix_b = matrix_generator(size)\n",
        "    matrix_secuential = secuential_mult(size,matrix_a,matrix_b)\n",
        "    matrix_concurrent = concurrent_mult(size,matrix_a,matrix_b)\n",
        "\n",
        "    print_matrix(\"A\", matrix_a)\n",
        "    print_matrix(\"B\", matrix_b)\n",
        "    print_matrix(\"Secuencial\", matrix_secuential)\n",
        "    print_matrix(\"Concurrente\", matrix_concurrent)\n",
        "\n",
        "    ## Determinamos si las matrices son iguales\n",
        "    result_compare = (\n",
        "      \"iguales\" \n",
        "      if compare_matrix(size, matrix_secuential, matrix_concurrent)\n",
        "      else \"distintas\")\n",
        "    print(\"Las matrices concurrente y secuencial son {compare}\".format(\n",
        "      compare=result_compare))\n",
        "\n",
        "main()"
      ]
    },
    {
      "cell_type": "code",
      "source": [
        "!python3 tp1-parte2.py 1"
      ],
      "metadata": {
        "colab": {
          "base_uri": "https://localhost:8080/"
        },
        "id": "WhrIsixgyms7",
        "outputId": "8609bf6f-9785-4cc4-8984-0a0e663bde8c"
      },
      "execution_count": 2,
      "outputs": [
        {
          "output_type": "stream",
          "name": "stdout",
          "text": [
            "El tamaño debe estar entre 5 y 20\n"
          ]
        }
      ]
    },
    {
      "cell_type": "code",
      "source": [
        "!python3 tp1-parte2.py 7"
      ],
      "metadata": {
        "colab": {
          "base_uri": "https://localhost:8080/"
        },
        "id": "S3ib5dZxyozr",
        "outputId": "506f37b1-3679-4cd7-ba86-31a295ff5e87"
      },
      "execution_count": 3,
      "outputs": [
        {
          "output_type": "stream",
          "name": "stdout",
          "text": [
            "\n",
            "Matrix: A\n",
            "\t-27\t\t-9\t\t-18\t\t-12\t\t-25\t\t5\t\t6\t\n",
            "\t1\t\t-22\t\t0\t\t-2\t\t-22\t\t26\t\t-2\t\n",
            "\t0\t\t30\t\t-25\t\t5\t\t-3\t\t-3\t\t-29\t\n",
            "\t-19\t\t22\t\t26\t\t-14\t\t8\t\t-5\t\t-10\t\n",
            "\t10\t\t-2\t\t14\t\t-7\t\t20\t\t18\t\t17\t\n",
            "\t-19\t\t-27\t\t-32\t\t13\t\t30\t\t-6\t\t-10\t\n",
            "\t26\t\t4\t\t-7\t\t1\t\t1\t\t17\t\t10\t\n",
            "\n",
            "Matrix: B\n",
            "\t-21\t\t-15\t\t7\t\t-4\t\t12\t\t28\t\t-29\t\n",
            "\t-15\t\t-18\t\t-28\t\t-18\t\t-27\t\t15\t\t2\t\n",
            "\t-6\t\t11\t\t31\t\t-27\t\t0\t\t11\t\t-32\t\n",
            "\t0\t\t32\t\t-1\t\t-3\t\t-31\t\t-2\t\t24\t\n",
            "\t21\t\t26\t\t-21\t\t11\t\t-23\t\t24\t\t19\t\n",
            "\t30\t\t-32\t\t-4\t\t-25\t\t28\t\t19\t\t-8\t\n",
            "\t-6\t\t7\t\t-3\t\t-13\t\t22\t\t0\t\t10\t\n",
            "\n",
            "Matrix: Secuencial\n",
            "\t-36\t\t42\t\t-18\t\t-78\t\t132\t\t0\t\t60\t\n",
            "\t12\t\t-14\t\t6\t\t26\t\t-44\t\t0\t\t-20\t\n",
            "\t174\t\t-203\t\t87\t\t377\t\t-638\t\t0\t\t-290\t\n",
            "\t60\t\t-70\t\t30\t\t130\t\t-220\t\t0\t\t-100\t\n",
            "\t-102\t\t119\t\t-51\t\t-221\t\t374\t\t0\t\t170\t\n",
            "\t60\t\t-70\t\t30\t\t130\t\t-220\t\t0\t\t-100\t\n",
            "\t-60\t\t70\t\t-30\t\t-130\t\t220\t\t0\t\t100\t\n",
            "\n",
            "Matrix: Concurrente\n",
            "\t-36\t\t42\t\t-18\t\t-78\t\t132\t\t0\t\t60\t\n",
            "\t12\t\t-14\t\t6\t\t26\t\t-44\t\t0\t\t-20\t\n",
            "\t174\t\t-203\t\t87\t\t377\t\t-638\t\t0\t\t-290\t\n",
            "\t60\t\t-70\t\t30\t\t130\t\t-220\t\t0\t\t-100\t\n",
            "\t-102\t\t119\t\t-51\t\t-221\t\t374\t\t0\t\t170\t\n",
            "\t60\t\t-70\t\t30\t\t130\t\t-220\t\t0\t\t-100\t\n",
            "\t-60\t\t70\t\t-30\t\t-130\t\t220\t\t0\t\t100\t\n",
            "Las matrices concurrente y secuencial son iguales\n"
          ]
        }
      ]
    }
  ]
}
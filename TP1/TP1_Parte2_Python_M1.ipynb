{
  "nbformat": 4,
  "nbformat_minor": 0,
  "metadata": {
    "colab": {
      "provenance": [],
      "authorship_tag": "ABX9TyOeXPXUZXtke4nQNbabRBjm",
      "include_colab_link": true
    },
    "kernelspec": {
      "name": "python3",
      "display_name": "Python 3"
    },
    "language_info": {
      "name": "python"
    }
  },
  "cells": [
    {
      "cell_type": "markdown",
      "metadata": {
        "id": "view-in-github",
        "colab_type": "text"
      },
      "source": [
        "<a href=\"https://colab.research.google.com/github/ShadowRaccoon/PrograConcurrente2023C1/blob/main/TP1/TP1_Parte2_Python_M1.ipynb\" target=\"_parent\"><img src=\"https://colab.research.google.com/assets/colab-badge.svg\" alt=\"Open In Colab\"/></a>"
      ]
    },
    {
      "cell_type": "code",
      "execution_count": 15,
      "metadata": {
        "colab": {
          "base_uri": "https://localhost:8080/"
        },
        "id": "7wmSQle9yjRF",
        "outputId": "45a1217e-538e-457f-86bd-9ba21e7f236e"
      },
      "outputs": [
        {
          "output_type": "stream",
          "name": "stdout",
          "text": [
            "Overwriting tp1-parte2.py\n"
          ]
        }
      ],
      "source": [
        "%%writefile tp1-parte2.py\n",
        "import sys\n",
        "import os\n",
        "import random\n",
        "from threading import Thread\n",
        "MIN_MATRIX_SIZE = 5\n",
        "MAX_MATRIX_SIZE = 20\n",
        "MIN_MATRIX_CELL_VALUE = -32\n",
        "MAX_MATRIX_CELL_VALUE = 32\n",
        "\n",
        "def validate_args(args):\n",
        "    if not len(args) == 2:\n",
        "        print(\"Cantidad incorrecta de argumentos\")\n",
        "        os._exit(1)\n",
        "    size = int(args[1])\n",
        "    if size > MAX_MATRIX_SIZE or size < MIN_MATRIX_SIZE:\n",
        "        print(\"El tamaño debe estar entre {min} y {max}\".format(\n",
        "          min=MIN_MATRIX_SIZE,\n",
        "          max=MAX_MATRIX_SIZE))\n",
        "        os._exit(1)\n",
        "    return size\n",
        "\n",
        "def matrix_generator(size):\n",
        "    matrix_result=[]\n",
        "    for i in range(0, size):\n",
        "        matrix_row=[]\n",
        "        for j in range(0, size):\n",
        "            matrix_row.append(random.randint(\n",
        "              MIN_MATRIX_CELL_VALUE, MAX_MATRIX_CELL_VALUE))\n",
        "        matrix_result.append(matrix_row)\n",
        "    return matrix_result\n",
        "\n",
        "def print_matrix(alias,matrix):\n",
        "    print(\"\\nMatrix: {alias}\".format(alias=alias))\n",
        "    for row in matrix:\n",
        "        for col in row:\n",
        "            print(\"\\t{col}\\t\".format(col=col),end=\"\")\n",
        "        print(\"\\n\",end=\"\")\n",
        "\n",
        "def secuential_mult(size, matrix_a, matrix_b):\n",
        "    matrix_result = []\n",
        "    for i in range(0, size):\n",
        "        row_result = [0] * size\n",
        "        for j in range(0,size):\n",
        "            for k in range(0,size):\n",
        "                row_result[j] += matrix_a[i][k] * matrix_b[k][j]\n",
        "        matrix_result.append(row_result)\n",
        "    return matrix_result\n",
        "\n",
        "## Funcion que ejecuta el thread\n",
        "def multiply_row(size, matrix_a, matrix_b, row_result, rowIndex):\n",
        "    for j in range(0,size):\n",
        "        for k in range(0,size):\n",
        "            row_result[j]+= matrix_a[rowIndex][k]*matrix_b[k][j]\n",
        "\n",
        "## Genera un thread por cada fila encargado de ejecutar la multiplicacion y generar la fila resultante\n",
        "def concurrent_mult(size, matrix_a, matrix_b):\n",
        "    matrix_result = []\n",
        "    threads = []\n",
        "\n",
        "    for i in range(0, size):\n",
        "        row_result = [0] * size\n",
        "        thread = Thread(\n",
        "          target=multiply_row,\n",
        "          args=(size, matrix_a, matrix_b, row_result, i))\n",
        "        thread.start()\n",
        "        threads.append(thread)\n",
        "        matrix_result.append(row_result)\n",
        "\n",
        "    for thread in threads:\n",
        "        thread.join()\n",
        "\n",
        "    return matrix_result\n",
        "\n",
        "def compare_matrix(size, matrix_a, matrix_b):\n",
        "    for i in range(0, size):\n",
        "        for j in range(0, size):\n",
        "            if matrix_a[i][j] != matrix_b[i][j]:\n",
        "                return False\n",
        "    return True\n",
        "\n",
        "def main():\n",
        "    size = validate_args(sys.argv)\n",
        "    matrix_a = matrix_generator(size)\n",
        "    matrix_b = matrix_generator(size)\n",
        "    matrix_secuential = secuential_mult(size,matrix_a,matrix_b)\n",
        "    matrix_concurrent = concurrent_mult(size,matrix_a,matrix_b)\n",
        "\n",
        "    print_matrix(\"A\", matrix_a)\n",
        "    print_matrix(\"B\", matrix_b)\n",
        "    print_matrix(\"Secuencial\", matrix_secuential)\n",
        "    print_matrix(\"Concurrente\", matrix_concurrent)\n",
        "\n",
        "    ## Determinamos si las matrices son iguales\n",
        "    result_compare = (\n",
        "      \"iguales\" \n",
        "      if compare_matrix(size, matrix_secuential, matrix_concurrent)\n",
        "      else \"distintas\")\n",
        "    print(\"Las matrices concurrente y secuencial son {compare}\".format(\n",
        "      compare=result_compare))\n",
        "\n",
        "main()"
      ]
    },
    {
      "cell_type": "code",
      "source": [
        "!python3 tp1-parte2.py 1"
      ],
      "metadata": {
        "colab": {
          "base_uri": "https://localhost:8080/"
        },
        "id": "WhrIsixgyms7",
        "outputId": "79bf5952-7b63-4db8-dba1-f2cc95145572"
      },
      "execution_count": 17,
      "outputs": [
        {
          "output_type": "stream",
          "name": "stdout",
          "text": [
            "El tamaño debe estar entre 5 y 20\n"
          ]
        }
      ]
    },
    {
      "cell_type": "code",
      "source": [
        "!python3 tp1-parte2.py 7"
      ],
      "metadata": {
        "colab": {
          "base_uri": "https://localhost:8080/"
        },
        "id": "S3ib5dZxyozr",
        "outputId": "6b57fd55-bba3-46d9-dad9-fd58d5476a79"
      },
      "execution_count": 18,
      "outputs": [
        {
          "output_type": "stream",
          "name": "stdout",
          "text": [
            "\n",
            "Matrix: A\n",
            "\t4\t\t16\t\t2\t\t-3\t\t-17\t\t-3\t\t1\t\n",
            "\t-10\t\t-32\t\t18\t\t30\t\t2\t\t-30\t\t4\t\n",
            "\t-20\t\t0\t\t14\t\t30\t\t3\t\t15\t\t26\t\n",
            "\t-19\t\t-20\t\t-10\t\t29\t\t1\t\t-7\t\t-29\t\n",
            "\t-29\t\t4\t\t8\t\t-19\t\t-28\t\t-31\t\t29\t\n",
            "\t29\t\t-6\t\t26\t\t18\t\t-18\t\t-4\t\t19\t\n",
            "\t6\t\t23\t\t-7\t\t5\t\t21\t\t-19\t\t-15\t\n",
            "\n",
            "Matrix: B\n",
            "\t23\t\t29\t\t-15\t\t27\t\t9\t\t23\t\t23\t\n",
            "\t19\t\t13\t\t-21\t\t10\t\t15\t\t-32\t\t-20\t\n",
            "\t-5\t\t31\t\t3\t\t25\t\t2\t\t26\t\t-18\t\n",
            "\t2\t\t-7\t\t9\t\t18\t\t2\t\t26\t\t20\t\n",
            "\t-26\t\t22\t\t-14\t\t-5\t\t7\t\t-19\t\t-32\t\n",
            "\t-30\t\t24\t\t-17\t\t12\t\t25\t\t2\t\t-3\t\n",
            "\t30\t\t-18\t\t9\t\t18\t\t3\t\t3\t\t15\t\n",
            "\n",
            "Matrix: Secuencial\n",
            "\t942\t\t-57\t\t-119\t\t331\t\t83\t\t-126\t\t244\t\n",
            "\t100\t\t-1106\t\t1664\t\t102\t\t-1198\t\t1956\t\t772\t\n",
            "\t-218\t\t-398\t\t549\t\t983\t\t382\t\t735\t\t137\t\n",
            "\t-1395\t\t-948\t\t780\t\t-1052\t\t-688\t\t577\t\t277\t\n",
            "\t1859\t\t-2290\t\t1384\t\t-595\t\t-1107\t\t-524\t\t153\t\n",
            "\t1617\t\t609\t\t422\t\t2081\t\t90\t\t2394\t\t1552\t\n",
            "\t194\t\t497\t\t-655\t\t-296\t\t22\t\t-1132\t\t-936\t\n",
            "\n",
            "Matrix: Concurrente\n",
            "\t942\t\t-57\t\t-119\t\t331\t\t83\t\t-126\t\t244\t\n",
            "\t100\t\t-1106\t\t1664\t\t102\t\t-1198\t\t1956\t\t772\t\n",
            "\t-218\t\t-398\t\t549\t\t983\t\t382\t\t735\t\t137\t\n",
            "\t-1395\t\t-948\t\t780\t\t-1052\t\t-688\t\t577\t\t277\t\n",
            "\t1859\t\t-2290\t\t1384\t\t-595\t\t-1107\t\t-524\t\t153\t\n",
            "\t1617\t\t609\t\t422\t\t2081\t\t90\t\t2394\t\t1552\t\n",
            "\t194\t\t497\t\t-655\t\t-296\t\t22\t\t-1132\t\t-936\t\n",
            "Las matrices concurrente y secuencial son iguales\n"
          ]
        }
      ]
    }
  ]
}
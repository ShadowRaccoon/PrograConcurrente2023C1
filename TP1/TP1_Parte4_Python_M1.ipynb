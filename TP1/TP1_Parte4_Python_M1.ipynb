{
  "nbformat": 4,
  "nbformat_minor": 0,
  "metadata": {
    "colab": {
      "provenance": [],
      "authorship_tag": "ABX9TyO+Fs74KOdqhpptfuVX4Gyx",
      "include_colab_link": true
    },
    "kernelspec": {
      "name": "python3",
      "display_name": "Python 3"
    },
    "language_info": {
      "name": "python"
    }
  },
  "cells": [
    {
      "cell_type": "markdown",
      "metadata": {
        "id": "view-in-github",
        "colab_type": "text"
      },
      "source": [
        "<a href=\"https://colab.research.google.com/github/ShadowRaccoon/PrograConcurrente2023C1/blob/main/TP1/TP1_Parte4_Python_M1.ipynb\" target=\"_parent\"><img src=\"https://colab.research.google.com/assets/colab-badge.svg\" alt=\"Open In Colab\"/></a>"
      ]
    },
    {
      "cell_type": "markdown",
      "source": [
        "# **Python**"
      ],
      "metadata": {
        "id": "KQigWWsmYyXF"
      }
    },
    {
      "cell_type": "code",
      "execution_count": 1,
      "metadata": {
        "colab": {
          "base_uri": "https://localhost:8080/"
        },
        "id": "W_hc8QawLSa0",
        "outputId": "ab51a6d1-1ff4-4d6d-880c-ffbe4fe6c0e6"
      },
      "outputs": [
        {
          "output_type": "stream",
          "name": "stdout",
          "text": [
            "Writing tp1_parte4.py\n"
          ]
        }
      ],
      "source": [
        "%%writefile tp1_parte4.py\n",
        "import threading\n",
        "import os\n",
        "import sys\n",
        "import random\n",
        "\n",
        "def generate_password(string, pos_to_process, pass_result):\n",
        "    # Función que convierte los caracteres de la cadena en números\n",
        "    for i in pos_to_process:\n",
        "        character = string[i]\n",
        "        if character.islower():\n",
        "            character = character.upper()\n",
        "        if character.isupper():\n",
        "            num = ord(character) - ord('A') + 1\n",
        "            pass_result[i] = num\n",
        "\n",
        "def validate_args(args):\n",
        "    if len(args) < 2:\n",
        "        print(\"Cantidad incorrecta de argumentos.\")\n",
        "        os._exit(1)\n",
        "    return args[1]\n",
        "\n",
        "def main():\n",
        "    # Cadena de caracteres a procesar\n",
        "    string = validate_args(sys.argv)\n",
        "    length = len(string)\n",
        "    password = [0] * length\n",
        "     # Dividir las posiciones de la cadena en dos partes, randomizarlas y asignarlas al thread\n",
        "    pos = list(range(0,length))\n",
        "    pos_length = len(pos)\n",
        "    random.shuffle(pos)\n",
        "    half = pos_length // 2\n",
        "    pos_to_process_1 = pos[0:half]\n",
        "    pos_to_process_2 = pos[half:]\n",
        "    \n",
        "    hilo1 = threading.Thread(target=generate_password, args=(string, pos_to_process_1, password))\n",
        "    hilo2 = threading.Thread(target=generate_password, args=(string, pos_to_process_2, password))\n",
        "    \n",
        "    hilo1.start()\n",
        "    hilo2.start()\n",
        "    \n",
        "    hilo1.join()\n",
        "    hilo2.join()\n",
        "    \n",
        "    print(password)\n",
        "\n",
        "main()"
      ]
    },
    {
      "cell_type": "markdown",
      "source": [
        "Chequeamos validacion de argumentos"
      ],
      "metadata": {
        "id": "-k_rsYVtMHpJ"
      }
    },
    {
      "cell_type": "code",
      "source": [
        "!python3 tp1_parte4.py"
      ],
      "metadata": {
        "colab": {
          "base_uri": "https://localhost:8080/"
        },
        "id": "qif7IigtLlMr",
        "outputId": "0a0f5d06-42bd-428d-b149-255716e610e0"
      },
      "execution_count": 2,
      "outputs": [
        {
          "output_type": "stream",
          "name": "stdout",
          "text": [
            "Cantidad incorrecta de argumentos.\n"
          ]
        }
      ]
    },
    {
      "cell_type": "markdown",
      "source": [
        "Pruebas Generales"
      ],
      "metadata": {
        "id": "zm6580ddMM9e"
      }
    },
    {
      "cell_type": "code",
      "source": [
        "!python3 tp1_parte4.py ArBoLiTo"
      ],
      "metadata": {
        "colab": {
          "base_uri": "https://localhost:8080/"
        },
        "id": "T7vK-mbSLsfu",
        "outputId": "97bd940c-4445-4ad1-c358-80a78f3a5858"
      },
      "execution_count": 4,
      "outputs": [
        {
          "output_type": "stream",
          "name": "stdout",
          "text": [
            "[1, 18, 2, 15, 12, 9, 20, 15]\n"
          ]
        }
      ]
    },
    {
      "cell_type": "code",
      "source": [
        "!python3 tp1_parte4.py arbolito"
      ],
      "metadata": {
        "colab": {
          "base_uri": "https://localhost:8080/"
        },
        "id": "yBJCRusqL2n-",
        "outputId": "f66e8009-08a2-4581-cede-84fead3d52db"
      },
      "execution_count": 5,
      "outputs": [
        {
          "output_type": "stream",
          "name": "stdout",
          "text": [
            "[1, 18, 2, 15, 12, 9, 20, 15]\n"
          ]
        }
      ]
    },
    {
      "cell_type": "code",
      "source": [
        "!python3 tp1_parte4.py ARBOLITO"
      ],
      "metadata": {
        "colab": {
          "base_uri": "https://localhost:8080/"
        },
        "id": "7O7m9bRyL5yJ",
        "outputId": "b0e17241-9fef-495a-eb44-cfcf564176bc"
      },
      "execution_count": 6,
      "outputs": [
        {
          "output_type": "stream",
          "name": "stdout",
          "text": [
            "[1, 18, 2, 15, 12, 9, 20, 15]\n"
          ]
        }
      ]
    },
    {
      "cell_type": "markdown",
      "source": [
        "Vemos que no hay diferencia en el output por mas de que cambiemos de mayus a min"
      ],
      "metadata": {
        "id": "E4WTg-tlMBO1"
      }
    }
  ]
}
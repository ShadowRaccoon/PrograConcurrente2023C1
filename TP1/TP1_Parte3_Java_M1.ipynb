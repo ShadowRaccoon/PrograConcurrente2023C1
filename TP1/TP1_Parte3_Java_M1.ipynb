{
  "nbformat": 4,
  "nbformat_minor": 0,
  "metadata": {
    "colab": {
      "provenance": [],
      "authorship_tag": "ABX9TyPI1LzvYQEa9AjpEkv2Vm3G",
      "include_colab_link": true
    },
    "kernelspec": {
      "name": "python3",
      "display_name": "Python 3"
    },
    "language_info": {
      "name": "python"
    }
  },
  "cells": [
    {
      "cell_type": "markdown",
      "metadata": {
        "id": "view-in-github",
        "colab_type": "text"
      },
      "source": [
        "<a href=\"https://colab.research.google.com/github/ShadowRaccoon/PrograConcurrente2023C1/blob/main/TP1/TP1_Parte3_Java_M1.ipynb\" target=\"_parent\"><img src=\"https://colab.research.google.com/assets/colab-badge.svg\" alt=\"Open In Colab\"/></a>"
      ]
    },
    {
      "cell_type": "code",
      "execution_count": null,
      "metadata": {
        "colab": {
          "base_uri": "https://localhost:8080/"
        },
        "id": "9aoPwFlAVF56",
        "outputId": "907425d6-1dff-445f-d999-a2e66c8f7058"
      },
      "outputs": [
        {
          "output_type": "stream",
          "name": "stdout",
          "text": [
            "Overwriting Server.java\n"
          ]
        }
      ],
      "source": [
        "%%writefile Server.java\n",
        "import java.io.Closeable;\n",
        "import java.io.IOException;\n",
        "import java.net.InetAddress;\n",
        "import java.net.ServerSocket;\n",
        "import java.net.Socket;\n",
        "import java.io.DataInputStream;\n",
        "import java.io.ObjectOutputStream;\n",
        "\n",
        "public class Server\n",
        "{\n",
        "  private static final int port = 4444;\n",
        "  private static final int backlog = 5;\n",
        "  private static ServerSocket serverSocket = null;\n",
        "\n",
        "  public static void main(String[] args)\n",
        "  {\n",
        "    runServer();\n",
        "  }\n",
        "\n",
        "  public static void runServer()\n",
        "  {\n",
        "    try\n",
        "    {\n",
        "      //Creación del socket.\n",
        "      serverSocket = new ServerSocket(port, backlog, InetAddress.getLocalHost());\n",
        "      System.out.println(\"Socket creado. IP: \" + InetAddress.getLocalHost() + \" - Puerto: \" + port);\n",
        "\n",
        "      //Esperamos conexiones indefinidamente.\n",
        "      waitForConnection();\n",
        "      \n",
        "    }\n",
        "    catch (IOException e)\n",
        "    {\n",
        "      System.out.println(e.getStackTrace());\n",
        "      System.exit(1);\n",
        "    }\n",
        "    finally\n",
        "    {\n",
        "      closeResource(serverSocket);\n",
        "    }\n",
        "  }\n",
        "\n",
        "  private static void waitForConnection()\n",
        "  {\n",
        "    try\n",
        "    {\n",
        "      System.out.println(\"Esperando conexión\");\n",
        "      final Socket socket = serverSocket.accept();\n",
        "      System.out.println(\"Conexión recibida desde: \" + socket.getRemoteSocketAddress());\n",
        "      Thread clientHandler = new Thread(() -> handleClient(socket));\n",
        "      clientHandler.start();\n",
        "    }\n",
        "    catch (IOException e)\n",
        "    {\n",
        "      System.out.println(\"Error en la conexión\");\n",
        "    }\n",
        "  }\n",
        "\n",
        "  private static void handleClient(Socket socket)\n",
        "  {\n",
        "    try\n",
        "    {\n",
        "      DataInputStream dataInputStream = new DataInputStream(socket.getInputStream());\n",
        "      ObjectOutputStream objectOutputStream = new ObjectOutputStream(socket.getOutputStream());\n",
        "\n",
        "      //Leer la info del cliente.\n",
        "      String input = dataInputStream.readUTF();\n",
        "\n",
        "      //Procesar info.\n",
        "      StringInfo info = StringInfo.getStringInfo(input);\n",
        "\n",
        "      //Enviar resultados al cliente.\n",
        "      objectOutputStream.writeObject(info);\n",
        "    }\n",
        "    catch (IOException e)\n",
        "    {\n",
        "      System.out.println(\"Se interrumpió la conexión con el socket.\");\n",
        "    }\n",
        "    finally\n",
        "    {\n",
        "      closeResource(socket);\n",
        "    }\n",
        "  }\n",
        "\n",
        "  private static void closeResource(Closeable resource)\n",
        "  {\n",
        "    if (resource != null)\n",
        "    {\n",
        "      try\n",
        "      {\n",
        "        resource.close();\n",
        "      }\n",
        "      catch (IOException e)\n",
        "      {\n",
        "        System.out.println(\"Error al cerrar el recurso.\");\n",
        "        ;\n",
        "      }\n",
        "    }\n",
        "  }\n",
        "}"
      ]
    },
    {
      "cell_type": "code",
      "source": [
        "%%writefile Client.java\n",
        "import java.io.DataOutputStream;\n",
        "import java.io.IOException;\n",
        "import java.io.ObjectInputStream;\n",
        "import java.net.InetAddress;\n",
        "import java.net.Socket;\n",
        "\n",
        "public class Client\n",
        "{\n",
        "  private static final int port = 4444;\n",
        "\n",
        "  public static void main(String[] args)\n",
        "  {\n",
        "    Socket socket = null;\n",
        "\n",
        "    //Verificar entrada\n",
        "    if (args.length < 1)\n",
        "    {\n",
        "      System.out.println(\"Debe indicar una palabra a analizar por parametro\");\n",
        "      System.exit(1);\n",
        "    }\n",
        "    try\n",
        "    {\n",
        "      //Crear sockets y streams de entrada y salida.\n",
        "      socket = new Socket(InetAddress.getLocalHost(), port);\n",
        "    }\n",
        "    catch (IOException e)\n",
        "    {\n",
        "      System.out.println(\"El servidor no se encuentra disponible\");\n",
        "      System.exit(1);\n",
        "    }\n",
        "\n",
        "    try\n",
        "    {\n",
        "      DataOutputStream dataOutputStream = new DataOutputStream(socket.getOutputStream());\n",
        "      ObjectInputStream objectInputStream = new ObjectInputStream(socket.getInputStream());\n",
        "\n",
        "      //Enviar el mensaje a procesar.\n",
        "      dataOutputStream.writeUTF(args[0]);\n",
        "\n",
        "      //Leer respuesta del servidor.\n",
        "      StringInfo returnMessage = (StringInfo) objectInputStream.readObject();\n",
        "\n",
        "      System.out.println(returnMessage);\n",
        "    }\n",
        "    catch (IOException e)\n",
        "    {\n",
        "      System.out.println(\"Error en conexión\");\n",
        "      System.out.println(e.getStackTrace());\n",
        "    }\n",
        "    catch (ClassNotFoundException e)\n",
        "    {\n",
        "      System.out.println(\"El mensaje recibido no tiene el formato esperado.\");\n",
        "    }\n",
        "    finally\n",
        "    {\n",
        "      if (socket != null)\n",
        "      {\n",
        "        try\n",
        "        {\n",
        "          socket.close();\n",
        "        }\n",
        "        catch (IOException e)\n",
        "        {\n",
        "          throw new RuntimeException(e);\n",
        "        }\n",
        "      }\n",
        "    }\n",
        "  }\n",
        "}"
      ],
      "metadata": {
        "colab": {
          "base_uri": "https://localhost:8080/"
        },
        "id": "S55AhncSVOhA",
        "outputId": "8ae7678b-c90a-4d34-a8ee-59e21738d3d5"
      },
      "execution_count": null,
      "outputs": [
        {
          "output_type": "stream",
          "name": "stdout",
          "text": [
            "Overwriting Client.java\n"
          ]
        }
      ]
    },
    {
      "cell_type": "code",
      "source": [
        "%%writefile StringInfo.java\n",
        "import java.io.Serializable;\n",
        "\n",
        "public class StringInfo implements Serializable\n",
        "{\n",
        "  private int length;\n",
        "  private int lettersCount;\n",
        "  private int digitsCount;\n",
        "  private int specialCharsCount;\n",
        "\n",
        "  private StringInfo(int length)\n",
        "  {\n",
        "    this.length = length;\n",
        "    lettersCount = 0;\n",
        "    digitsCount = 0;\n",
        "    specialCharsCount = 0;\n",
        "  }\n",
        "\n",
        "  private void addLetter()\n",
        "  {\n",
        "    lettersCount++;\n",
        "  }\n",
        "\n",
        "  private void addDigit()\n",
        "  {\n",
        "    digitsCount++;\n",
        "  }\n",
        "\n",
        "  private void addSpecialChar()\n",
        "  {\n",
        "    specialCharsCount++;\n",
        "  }\n",
        "\n",
        "  private void processChar(char c)\n",
        "  {\n",
        "    if (Character.isLetter(c))\n",
        "    {\n",
        "      addLetter();\n",
        "    }\n",
        "    else if (Character.isDigit(c))\n",
        "    {\n",
        "      addDigit();\n",
        "    }\n",
        "    else\n",
        "    {\n",
        "      addSpecialChar();\n",
        "    }\n",
        "  }\n",
        "\n",
        "  public static StringInfo getStringInfo(String name)\n",
        "  {\n",
        "    StringInfo info = new StringInfo(name.length());\n",
        "    for (char c : name.toCharArray())\n",
        "    {\n",
        "      info.processChar(c);\n",
        "    }\n",
        "    return info;\n",
        "  }\n",
        "\n",
        "  public int getLength()\n",
        "  {\n",
        "    return length;\n",
        "  }\n",
        "\n",
        "  public int getLettersCount()\n",
        "  {\n",
        "    return lettersCount;\n",
        "  }\n",
        "\n",
        "  public int getDigitsCount()\n",
        "  {\n",
        "    return digitsCount;\n",
        "  }\n",
        "\n",
        "  public int getSpecialCharsCount()\n",
        "  {\n",
        "    return specialCharsCount;\n",
        "  }\n",
        "\n",
        "  @Override\n",
        "  public String toString()\n",
        "  {\n",
        "    return new StringBuilder()\n",
        "        .append(\"Cantidad de caracteres totales: \").append(getLength()).append(System.lineSeparator())\n",
        "        .append(\"Cantidad de letras: \").append(getLettersCount()).append(System.lineSeparator())\n",
        "        .append(\"Cantidad de dígitos: \").append(getDigitsCount()).append(System.lineSeparator())\n",
        "        .append(\"Cantidad de caracteres que no son letra ni dígito: \").append(getSpecialCharsCount())\n",
        "        .append(System.lineSeparator())\n",
        "        .toString();\n",
        "  }\n",
        "}"
      ],
      "metadata": {
        "colab": {
          "base_uri": "https://localhost:8080/"
        },
        "id": "fp448onDVZUi",
        "outputId": "71f9bdcb-9383-4022-c491-52a9d821f92b"
      },
      "execution_count": null,
      "outputs": [
        {
          "output_type": "stream",
          "name": "stdout",
          "text": [
            "Overwriting StringInfo.java\n"
          ]
        }
      ]
    },
    {
      "cell_type": "markdown",
      "source": [
        "Como las clases las tenemos en archivos separados, es necesario compilarlas antes de ejecutar el programa."
      ],
      "metadata": {
        "id": "RuwWdnDkykjZ"
      }
    },
    {
      "cell_type": "code",
      "source": [
        "!javac Server.java\n",
        "!javac Client.java\n",
        "!javac StringInfo.java"
      ],
      "metadata": {
        "id": "oeP5XmyhVh-A"
      },
      "execution_count": null,
      "outputs": []
    },
    {
      "cell_type": "markdown",
      "source": [
        "Intentamos ejecutar el cliente sin haber ejecutado el servidor"
      ],
      "metadata": {
        "id": "jZ4euLh-vTO0"
      }
    },
    {
      "cell_type": "code",
      "source": [
        "!java Client \"¡Hol4 Mund0!\""
      ],
      "metadata": {
        "id": "RuuBopW8vZ42",
        "colab": {
          "base_uri": "https://localhost:8080/"
        },
        "outputId": "964e98cf-84af-4a4d-b52f-ca317f336f9f"
      },
      "execution_count": null,
      "outputs": [
        {
          "output_type": "stream",
          "name": "stdout",
          "text": [
            "El servidor no se encuentra disponible\n"
          ]
        }
      ]
    },
    {
      "cell_type": "markdown",
      "source": [
        "Intentamos ejecutar el cliente sin el parametro necesario\n"
      ],
      "metadata": {
        "id": "Yp81M-Yvxzhk"
      }
    },
    {
      "cell_type": "code",
      "source": [
        "!nohup java Server 1>salidaJava 2>/dev/null &\n",
        "!java Client"
      ],
      "metadata": {
        "colab": {
          "base_uri": "https://localhost:8080/"
        },
        "id": "5LsXJt6UxtOF",
        "outputId": "99135073-f81f-4329-e8a5-16bbdea6f461"
      },
      "execution_count": null,
      "outputs": [
        {
          "output_type": "stream",
          "name": "stdout",
          "text": [
            "Debe indicar una palabra a analizar por parametro\n"
          ]
        }
      ]
    },
    {
      "cell_type": "markdown",
      "source": [
        "Iniciamos el server en background, redirigiendo su saalida a un archivo para poder verificarla en caso de ser necesario.\n",
        "Iniciamos el cliente en primer plano para ver los resultados por pantalla.\n",
        "\n",
        "Enviamos a procesar el mensaje \"¡Hol4 Mund0!\", el cual tiene:\n",
        "*   12 caracteres totales\n",
        "*   7 letras\n",
        "*   2 dígitos\n",
        "*   3 caracteres especiales\n",
        "\n",
        "\n",
        "\n",
        "\n"
      ],
      "metadata": {
        "id": "4ttCP8k3eE59"
      }
    },
    {
      "cell_type": "code",
      "source": [
        "!nohup java Server 1>salidaJava 2>/dev/null &\n",
        "!java Client \"¡Hol4 Mund0!\""
      ],
      "metadata": {
        "colab": {
          "base_uri": "https://localhost:8080/"
        },
        "id": "oJjIudbOXLAQ",
        "outputId": "a8e23ebd-c783-4171-9f40-e987d9c85199"
      },
      "execution_count": null,
      "outputs": [
        {
          "output_type": "stream",
          "name": "stdout",
          "text": [
            "Cantidad de caracteres totales: 12\n",
            "Cantidad de letras: 7\n",
            "Cantidad de dígitos: 2\n",
            "Cantidad de caracteres que no son letra ni dígito: 3\n",
            "\n"
          ]
        }
      ]
    }
  ]
}
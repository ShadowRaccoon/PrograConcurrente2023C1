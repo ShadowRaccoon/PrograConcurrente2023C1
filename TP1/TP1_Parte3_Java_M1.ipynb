{
  "nbformat": 4,
  "nbformat_minor": 0,
  "metadata": {
    "colab": {
      "provenance": [],
      "authorship_tag": "ABX9TyNmuRcCdcDqTCAPI637b5wF",
      "include_colab_link": true
    },
    "kernelspec": {
      "name": "python3",
      "display_name": "Python 3"
    },
    "language_info": {
      "name": "python"
    }
  },
  "cells": [
    {
      "cell_type": "markdown",
      "metadata": {
        "id": "view-in-github",
        "colab_type": "text"
      },
      "source": [
        "<a href=\"https://colab.research.google.com/github/ShadowRaccoon/PrograConcurrente2023C1/blob/main/TP1/TP1_Parte3_Java_M2.ipynb\" target=\"_parent\"><img src=\"https://colab.research.google.com/assets/colab-badge.svg\" alt=\"Open In Colab\"/></a>"
      ]
    },
    {
      "cell_type": "code",
      "execution_count": 19,
      "metadata": {
        "colab": {
          "base_uri": "https://localhost:8080/"
        },
        "id": "9aoPwFlAVF56",
        "outputId": "8592b783-5801-4d4d-ba92-892369c96dc6"
      },
      "outputs": [
        {
          "output_type": "stream",
          "name": "stdout",
          "text": [
            "Overwriting Server.java\n"
          ]
        }
      ],
      "source": [
        "%%writefile Server.java\n",
        "import java.io.IOException;\n",
        "import java.net.InetAddress;\n",
        "import java.net.ServerSocket;\n",
        "import java.net.Socket;\n",
        "import java.io.DataInputStream;\n",
        "import java.io.ObjectOutputStream;\n",
        "\n",
        "public class Server\n",
        "{\n",
        "  public static final int port = 4444;\n",
        "  private static ServerSocket ss = null;\n",
        "\n",
        "  public static void main(String[] args)\n",
        "  {\n",
        "    runServer();\n",
        "  }\n",
        "\n",
        "  // Quisimos usar object input stream y no anduvo, cuando leemos se cuelga, PASA CON TODOS\n",
        "  // write utf me manda cosas null ??\n",
        "  // buffered reader trae nulls\n",
        "  public static void runServer()\n",
        "  {\n",
        "    Socket socket = null;\n",
        "    try\n",
        "    {\n",
        "      ss = new ServerSocket(port, 5, InetAddress.getLocalHost());\n",
        "\n",
        "      System.out.println(\"Socket creado. IP: \" + InetAddress.getLocalHost() + \" - Puerto: \" + port );\n",
        "      System.out.println(\"Esperando conexión\");\n",
        "      socket = ss.accept();\n",
        "      System.out.println(\"Conexión recibida\");\n",
        "\n",
        "      DataInputStream dataInputStream = new DataInputStream(socket.getInputStream());\n",
        "      ObjectOutputStream os = new ObjectOutputStream(socket.getOutputStream());\n",
        "      String input = dataInputStream.readUTF();\n",
        "      StringInfo info = StringInfo.getStringInfo(input);\n",
        "\n",
        "      System.out.println(\"Enviando datos al cliente\");\n",
        "      System.out.println(info);\n",
        "\n",
        "      os.writeObject(info);\n",
        "    }\n",
        "    catch (IOException e)\n",
        "    {\n",
        "      System.out.println(e.getStackTrace());\n",
        "      System.exit(1);\n",
        "    }\n",
        "    finally\n",
        "    {\n",
        "      closeSockets(socket);\n",
        "    }\n",
        "  }\n",
        "\n",
        "  private static void closeSockets(Socket socket)\n",
        "  {\n",
        "    if (ss != null)\n",
        "    {\n",
        "\n",
        "      try\n",
        "      {\n",
        "        ss.close();\n",
        "      }\n",
        "      catch (IOException e)\n",
        "      {\n",
        "        throw new RuntimeException(e);\n",
        "      }\n",
        "    }\n",
        "    if (socket != null)\n",
        "    {\n",
        "      try\n",
        "      {\n",
        "        socket.close();\n",
        "      }\n",
        "      catch (IOException e)\n",
        "      {\n",
        "        throw new RuntimeException(e);\n",
        "      }\n",
        "    }\n",
        "  }\n",
        "}"
      ]
    },
    {
      "cell_type": "code",
      "source": [
        "%%writefile Client.java\n",
        "import java.io.DataOutputStream;\n",
        "import java.io.IOException;\n",
        "import java.io.ObjectInputStream;\n",
        "import java.net.InetAddress;\n",
        "import java.net.Socket;\n",
        "\n",
        "public class Client\n",
        "{\n",
        "  public static final int port = 4444;\n",
        "\n",
        "  public static void main(String[] args)\n",
        "  {\n",
        "    Socket socket = null;\n",
        "    try\n",
        "    {\n",
        "      if (args.length < 1)\n",
        "      {\n",
        "        System.out.println(\"Debe indicar una palabra por parametro\");\n",
        "        System.exit(1);\n",
        "      }\n",
        "\n",
        "      socket = new Socket(InetAddress.getLocalHost(), port);\n",
        "\n",
        "      DataOutputStream dataOutputStream = null;\n",
        "      dataOutputStream = new DataOutputStream(socket.getOutputStream());\n",
        "      dataOutputStream.writeUTF(args[0]);\n",
        "      ObjectInputStream is = new ObjectInputStream(socket.getInputStream());\n",
        "      StringInfo returnMessage = (StringInfo) is.readObject();\n",
        "\n",
        "      System.out.println(returnMessage);\n",
        "    }\n",
        "    catch (IOException e)\n",
        "    {\n",
        "      System.out.println(\"Error en conexión\");\n",
        "      System.out.println(e.getStackTrace());\n",
        "    }\n",
        "    catch (ClassNotFoundException e)\n",
        "    {\n",
        "      System.out.println(\"El mensaje recibido no tiene el formato esperado.\");\n",
        "    }\n",
        "    finally\n",
        "    {\n",
        "      if (socket != null)\n",
        "      {\n",
        "        try\n",
        "        {\n",
        "          socket.close();\n",
        "        }\n",
        "        catch (IOException e)\n",
        "        {\n",
        "          throw new RuntimeException(e);\n",
        "        }\n",
        "      }\n",
        "    }\n",
        "  }\n",
        "}"
      ],
      "metadata": {
        "colab": {
          "base_uri": "https://localhost:8080/"
        },
        "id": "S55AhncSVOhA",
        "outputId": "6eed4c8a-1df1-4574-c71b-17a6692ea5ee"
      },
      "execution_count": 20,
      "outputs": [
        {
          "output_type": "stream",
          "name": "stdout",
          "text": [
            "Overwriting Client.java\n"
          ]
        }
      ]
    },
    {
      "cell_type": "code",
      "source": [
        "%%writefile StringInfo.java\n",
        "import java.io.Serializable;\n",
        "\n",
        "public class StringInfo implements Serializable\n",
        "{\n",
        "  private int length;\n",
        "  private int lettersCount;\n",
        "  private int digitsCount;\n",
        "  private int specialCharsCount;\n",
        "\n",
        "  public StringInfo(int length)\n",
        "  {\n",
        "    this.length = length;\n",
        "    lettersCount = 0;\n",
        "    digitsCount = 0;\n",
        "    specialCharsCount = 0;\n",
        "  }\n",
        "\n",
        "  private void addLetter()\n",
        "  {\n",
        "    lettersCount++;\n",
        "  }\n",
        "\n",
        "  private void addDigit()\n",
        "  {\n",
        "    digitsCount++;\n",
        "  }\n",
        "\n",
        "  private void addSpecialChar()\n",
        "  {\n",
        "    specialCharsCount++;\n",
        "  }\n",
        "\n",
        "  private void processChar(char c)\n",
        "  {\n",
        "    if (Character.isLetter(c))\n",
        "    {\n",
        "      addLetter();\n",
        "    }\n",
        "    else if (Character.isDigit(c))\n",
        "    {\n",
        "      addDigit();\n",
        "    }\n",
        "    else\n",
        "    {\n",
        "      addSpecialChar();\n",
        "    }\n",
        "  }\n",
        "\n",
        "  public static StringInfo getStringInfo(String name)\n",
        "  {\n",
        "    StringInfo info = new StringInfo(name.length());\n",
        "    for (char c : name.toCharArray())\n",
        "    {\n",
        "      info.processChar(c);\n",
        "    }\n",
        "    return info;\n",
        "  }\n",
        "\n",
        "  public int getLength()\n",
        "  {\n",
        "    return length;\n",
        "  }\n",
        "\n",
        "  public int getLettersCount()\n",
        "  {\n",
        "    return lettersCount;\n",
        "  }\n",
        "\n",
        "  public int getDigitsCount()\n",
        "  {\n",
        "    return digitsCount;\n",
        "  }\n",
        "\n",
        "  public int getSpecialCharsCount()\n",
        "  {\n",
        "    return specialCharsCount;\n",
        "  }\n",
        "\n",
        "  @Override\n",
        "  public String toString()\n",
        "  {\n",
        "    return new StringBuilder()\n",
        "      .append(\"Cantidad de caracteres totales: \").append(getLength()).append(System.lineSeparator())\n",
        "      .append(\"Cantidad de letras: \").append(getLettersCount()).append(System.lineSeparator())\n",
        "      .append(\"Cantidad de dígitos: \").append(getDigitsCount()).append(System.lineSeparator())\n",
        "      .append(\"Cantidad de caracteres que no son letra ni dígito: \").append(getSpecialCharsCount())\n",
        "      .append(System.lineSeparator())\n",
        "      .toString();\n",
        "  }\n",
        "}\n"
      ],
      "metadata": {
        "colab": {
          "base_uri": "https://localhost:8080/"
        },
        "id": "fp448onDVZUi",
        "outputId": "9cb62c9b-0f83-417e-a62d-dc5494b3bbd2"
      },
      "execution_count": 9,
      "outputs": [
        {
          "output_type": "stream",
          "name": "stdout",
          "text": [
            "Overwriting StringInfo.java\n"
          ]
        }
      ]
    },
    {
      "cell_type": "code",
      "source": [
        "!javac -d . Server.java\n",
        "!javac -d . Client.java\n",
        "!javac -d . StringInfo.java"
      ],
      "metadata": {
        "id": "oeP5XmyhVh-A"
      },
      "execution_count": 21,
      "outputs": []
    },
    {
      "cell_type": "code",
      "source": [
        "!nohup java Server 1>salidaJava 2>/dev/null &"
      ],
      "metadata": {
        "id": "5O1FxDtGVtSv"
      },
      "execution_count": 22,
      "outputs": []
    },
    {
      "cell_type": "code",
      "source": [
        "!java Client \"Hol4 munDo 2!\""
      ],
      "metadata": {
        "colab": {
          "base_uri": "https://localhost:8080/"
        },
        "id": "oJjIudbOXLAQ",
        "outputId": "46c5ce86-c845-4ae7-a06c-75a4020a00b1"
      },
      "execution_count": 23,
      "outputs": [
        {
          "output_type": "stream",
          "name": "stdout",
          "text": [
            "Cantidad de caracteres totales: 13\n",
            "Cantidad de letras: 8\n",
            "Cantidad de dígitos: 2\n",
            "Cantidad de caracteres que no son letra ni dígito: 3\n",
            "\n"
          ]
        }
      ]
    }
  ]
}

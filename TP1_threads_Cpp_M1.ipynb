{
  "nbformat": 4,
  "nbformat_minor": 0,
  "metadata": {
    "colab": {
      "provenance": [],
      "collapsed_sections": [
        "b5oplPqTI0lj"
      ],
      "include_colab_link": true
    },
    "kernelspec": {
      "name": "python3",
      "display_name": "Python 3"
    },
    "language_info": {
      "name": "python"
    }
  },
  "cells": [
    {
      "cell_type": "markdown",
      "metadata": {
        "id": "view-in-github",
        "colab_type": "text"
      },
      "source": [
        "<a href=\"https://colab.research.google.com/github/ShadowRaccoon/PrograConcurrente2023C1/blob/main/TP1_threads_Cpp_M1.ipynb\" target=\"_parent\"><img src=\"https://colab.research.google.com/assets/colab-badge.svg\" alt=\"Open In Colab\"/></a>"
      ]
    },
    {
      "cell_type": "markdown",
      "source": [
        "# **C++**"
      ],
      "metadata": {
        "id": "qV6Mw1XqPo83"
      }
    },
    {
      "cell_type": "markdown",
      "source": [
        "Solución implementada utilizando un *aproach* funcional, priorizando la inmutabilidad de los datos"
      ],
      "metadata": {
        "id": "MdmGwv2hKJ7j"
      }
    },
    {
      "cell_type": "code",
      "execution_count": 31,
      "metadata": {
        "colab": {
          "base_uri": "https://localhost:8080/"
        },
        "id": "XfLbce59xpmA",
        "outputId": "248d8615-ace4-4905-b562-613cd9554baa"
      },
      "outputs": [
        {
          "output_type": "stream",
          "name": "stdout",
          "text": [
            "Overwriting matrix_mult.cpp\n"
          ]
        }
      ],
      "source": [
        "%%writefile matrix_mult.cpp\n",
        "#include <iostream>\n",
        "#include <vector>\n",
        "#include <string>\n",
        "#include <random>\n",
        "#include <utility>\n",
        "#include <thread>\n",
        "#include <stdlib.h>\n",
        "\n",
        "#define MIN_MATRIX_SIZE 5\n",
        "#define MAX_MATRIX_SIZE 20\n",
        "#define MIN_MATRIX_CELL_VALUE -32\n",
        "#define MAX_MATRIX_CELL_VALUE 32\n",
        "\n",
        "typedef int t_matrix;\n",
        "typedef std::vector<std::vector<t_matrix>> Matrix;\n",
        "\n",
        "int ValidateArgs(int& argc, char* argv[]);\n",
        "Matrix MatrixGenerator(int size, bool populate = true);\n",
        "Matrix MatrixGenerator(int row_size, int col_size, bool populate = true);\n",
        "Matrix SecuentialMult(const Matrix&, const Matrix&);\n",
        "Matrix ConcurrentMult(const Matrix&, const Matrix&);\n",
        "void PrintMatrix(const std::string alias, const Matrix&);\n",
        "\n",
        "int main(int argc, char* argv[])\n",
        "{\n",
        "    int size = ValidateArgs(argc, argv);\n",
        "\n",
        "    Matrix matrix_a  {MatrixGenerator(size)};\n",
        "    Matrix matrix_b  {MatrixGenerator(size)};\n",
        "    Matrix matrix_cs {SecuentialMult(matrix_a, matrix_b)};\n",
        "    Matrix matrix_ch {ConcurrentMult(matrix_a, matrix_b)};\n",
        "\n",
        "    PrintMatrix(\"A\", matrix_a);\n",
        "    PrintMatrix(\"B\", matrix_b);\n",
        "    PrintMatrix(\"CS\", matrix_cs);\n",
        "    PrintMatrix(\"CH\", matrix_ch);\n",
        "    std::cout << \"Las matrices CS y CH son iguales? \"\n",
        "        // El operador == en vectores compara todos los elementos del vector\n",
        "        << (matrix_cs == matrix_ch ? \"Si\" : \"No\")\n",
        "        << std::endl;\n",
        "\n",
        "    return EXIT_SUCCESS;\n",
        "}\n",
        "\n",
        "// Valida los argumentos y devuelve el tamaño de la matrices a crear\n",
        "int ValidateArgs(int& argc, char* argv[])\n",
        "{\n",
        "    if (argc != 2)\n",
        "    {\n",
        "        std::cout << \"Cantidad de argumentos incorrectos\" << std::endl;\n",
        "        exit(EXIT_FAILURE);\n",
        "    }\n",
        "\n",
        "    int size = atoi(argv[1]);\n",
        "    if (size < MIN_MATRIX_SIZE || size > MAX_MATRIX_SIZE)\n",
        "    {\n",
        "        std::cout << \"El tamaño de la matriz debe estar entre \"\n",
        "            << MIN_MATRIX_SIZE << \" y \" << MAX_MATRIX_SIZE << std::endl;\n",
        "\n",
        "        exit(EXIT_FAILURE);\n",
        "    }\n",
        "\n",
        "    return size;\n",
        "}\n",
        "\n",
        "// Genera una matriz de igual tamaño de filas y columnas\n",
        "Matrix MatrixGenerator(int size, bool populate)\n",
        "{\n",
        "    // \"Movemos\" al objeto en vez de realizar una copia\n",
        "    return std::move(MatrixGenerator(size, size, populate));\n",
        "}\n",
        "\n",
        "// Genera una matriz y las llena de datos de ser necesario\n",
        "Matrix MatrixGenerator(int row_size, int col_size, bool populate)\n",
        "{\n",
        "    Matrix aux(row_size, std::vector<t_matrix>(col_size));\n",
        "\n",
        "    if (populate)\n",
        "    {\n",
        "        std::random_device rd; // Obtenemos un número random del hardware\n",
        "        std::mt19937 gen(rd()); // Generamos la semilla (seed)\n",
        "        std::uniform_int_distribution<> distr(MIN_MATRIX_CELL_VALUE, MAX_MATRIX_CELL_VALUE); // Definimos el rango\n",
        "\n",
        "        for (int i=0; i < row_size; ++i)\n",
        "            for (int j=0; j < col_size; ++j)\n",
        "                aux[i][j] = distr(gen);\n",
        "    }\n",
        "\n",
        "    // \"Movemos\" al objeto en vez de realizar una copia\n",
        "    return std::move(aux);\n",
        "}\n",
        "\n",
        "// Realiza la multiplicación entre 2 matrices y devuelve una nueva de manera secuencial\n",
        "Matrix SecuentialMult(const Matrix& a, const Matrix& b)\n",
        "{\n",
        "    Matrix aux = MatrixGenerator(a.size(), false);\n",
        "\n",
        "    for (int i=0; i < a.size(); ++i)\n",
        "        for (int j=0; j < b[0].size(); ++j)\n",
        "            for (int k=0; k < a.size(); ++k)\n",
        "                aux[i][j] += a[i][k] * b[k][j];    \n",
        "\n",
        "    // \"Movemos\" al objeto en vez de realizar una copia\n",
        "    return std::move(aux);\n",
        "}\n",
        "\n",
        "// Realiza la multiplicación entre 2 matrices y devuelve una nueva de manera concurrente\n",
        "Matrix ConcurrentMult(const Matrix& a, const Matrix& b)\n",
        "{\n",
        "    Matrix aux = MatrixGenerator(a.size(), false);\n",
        "    std::vector<std::thread> workers;\n",
        "\n",
        "    for (int i; i < a.size(); ++i)\n",
        "    {\n",
        "        workers.push_back(std::thread(\n",
        "                // Función anónima o lambda que realiza la asignación y multiplicación\n",
        "                [&aux, &a, &b, i]()\n",
        "                {\n",
        "                    for (int j=0; j < b[0].size(); ++j)\n",
        "                        for (int k=0; k < a.size(); ++k)\n",
        "                            aux[i][j] += a[i][k] * b[k][j];\n",
        "                }\n",
        "            )\n",
        "        );\n",
        "    }\n",
        "    \n",
        "    for(auto& worker : workers)\n",
        "    {\n",
        "        worker.join();\n",
        "    }\n",
        "\n",
        "    // \"Movemos\" al objeto en vez de realizar una copia\n",
        "    return std::move(aux);\n",
        "}\n",
        "\n",
        "// Imprime la matriz con su alias\n",
        "void PrintMatrix(const std::string alias, const Matrix& m)\n",
        "{\n",
        "    std::cout << \"Matrix \" << alias << \":\" << std::endl;\n",
        "    \n",
        "    for(const auto& row : m)\n",
        "    {\n",
        "        for(const auto& col : row)\n",
        "        {\n",
        "            std::cout << \"\\t\" << col << \"\\t\";\n",
        "        }\n",
        "        std::cout << std::endl;\n",
        "    }\n",
        "}\n"
      ]
    },
    {
      "cell_type": "markdown",
      "source": [
        "Compilamos el programa, indicando que utilice el módulo pthread para poder utilizar hilos"
      ],
      "metadata": {
        "id": "aH3WafAEIno9"
      }
    },
    {
      "cell_type": "code",
      "source": [
        "!g++ matrix_mult.cpp -pthread -std=c++14 -o matrix_mult.out"
      ],
      "metadata": {
        "id": "zIEHX06mT2dY"
      },
      "execution_count": 32,
      "outputs": []
    },
    {
      "cell_type": "markdown",
      "source": [
        "## Pruebas de validación de parametros:"
      ],
      "metadata": {
        "id": "b5oplPqTI0lj"
      }
    },
    {
      "cell_type": "code",
      "source": [
        "!./matrix_mult.out"
      ],
      "metadata": {
        "id": "REVuFEeZvZ3v",
        "colab": {
          "base_uri": "https://localhost:8080/"
        },
        "outputId": "a39ab8ed-5917-4ef8-d704-bbab34908ac0"
      },
      "execution_count": 33,
      "outputs": [
        {
          "output_type": "stream",
          "name": "stdout",
          "text": [
            "Cantidad de argumentos incorrectos\n"
          ]
        }
      ]
    },
    {
      "cell_type": "code",
      "source": [
        "!./matrix_mult.out 1"
      ],
      "metadata": {
        "colab": {
          "base_uri": "https://localhost:8080/"
        },
        "outputId": "ad2031fd-d5be-4fdd-df7d-e2f2365be20e",
        "id": "k9ja6MPFJS1k"
      },
      "execution_count": 34,
      "outputs": [
        {
          "output_type": "stream",
          "name": "stdout",
          "text": [
            "El tamaño de la matriz debe estar entre 5 y 20\n"
          ]
        }
      ]
    },
    {
      "cell_type": "code",
      "source": [
        "!./matrix_mult.out 21"
      ],
      "metadata": {
        "colab": {
          "base_uri": "https://localhost:8080/"
        },
        "outputId": "cf9dd6ec-f681-412a-a55c-1e0f2ba93e3d",
        "id": "1dcFjzc5JTDN"
      },
      "execution_count": 35,
      "outputs": [
        {
          "output_type": "stream",
          "name": "stdout",
          "text": [
            "El tamaño de la matriz debe estar entre 5 y 20\n"
          ]
        }
      ]
    },
    {
      "cell_type": "markdown",
      "source": [
        "## Ejecución exitosa:"
      ],
      "metadata": {
        "id": "f1kjR2TTI5Gb"
      }
    },
    {
      "cell_type": "code",
      "source": [
        "!./matrix_mult.out 6"
      ],
      "metadata": {
        "colab": {
          "base_uri": "https://localhost:8080/"
        },
        "id": "EyGFTt_EyyDL",
        "outputId": "0d838e1e-8669-4414-cce7-fa96c48d6032"
      },
      "execution_count": 36,
      "outputs": [
        {
          "output_type": "stream",
          "name": "stdout",
          "text": [
            "Matrix A:\n",
            "\t-24\t\t-28\t\t28\t\t0\t\t-10\t\t15\t\n",
            "\t8\t\t19\t\t28\t\t22\t\t12\t\t-10\t\n",
            "\t-8\t\t-15\t\t-1\t\t4\t\t1\t\t18\t\n",
            "\t-16\t\t-10\t\t5\t\t31\t\t2\t\t-27\t\n",
            "\t32\t\t-20\t\t-9\t\t-22\t\t9\t\t32\t\n",
            "\t12\t\t32\t\t-28\t\t-4\t\t-5\t\t21\t\n",
            "Matrix B:\n",
            "\t-12\t\t-28\t\t10\t\t-8\t\t-8\t\t-19\t\n",
            "\t9\t\t-13\t\t-21\t\t-11\t\t-14\t\t26\t\n",
            "\t-4\t\t19\t\t-21\t\t27\t\t7\t\t-28\t\n",
            "\t32\t\t13\t\t-14\t\t-32\t\t-24\t\t-25\t\n",
            "\t10\t\t-16\t\t1\t\t-11\t\t11\t\t12\t\n",
            "\t-21\t\t-18\t\t-16\t\t-27\t\t28\t\t13\t\n",
            "Matrix CS:\n",
            "\t-491\t\t1458\t\t-490\t\t961\t\t1090\t\t-981\t\n",
            "\t997\t\t335\t\t-1043\t\t-83\t\t-810\t\t-978\t\n",
            "\t-275\t\t112\t\t-87\t\t-423\t\t686\t\t-64\t\n",
            "\t1661\t\t1530\t\t-55\t\t88\t\t-1175\t\t-1198\t\n",
            "\t-1814\t\t-1813\t\t734\t\t-538\t\t1484\t\t198\t\n",
            "\t-363\t\t-1634\t\t-249\t\t-1588\t\t-111\t\t1701\t\n",
            "Matrix CH:\n",
            "\t-491\t\t1458\t\t-490\t\t961\t\t1090\t\t-981\t\n",
            "\t997\t\t335\t\t-1043\t\t-83\t\t-810\t\t-978\t\n",
            "\t-275\t\t112\t\t-87\t\t-423\t\t686\t\t-64\t\n",
            "\t1661\t\t1530\t\t-55\t\t88\t\t-1175\t\t-1198\t\n",
            "\t-1814\t\t-1813\t\t734\t\t-538\t\t1484\t\t198\t\n",
            "\t-363\t\t-1634\t\t-249\t\t-1588\t\t-111\t\t1701\t\n",
            "Las matrices CS y CH son iguales? Si\n"
          ]
        }
      ]
    }
  ]
}
{
  "nbformat": 4,
  "nbformat_minor": 0,
  "metadata": {
    "colab": {
      "provenance": [],
      "authorship_tag": "ABX9TyOwAI+1ScChnULD0RSSCsPs",
      "include_colab_link": true
    },
    "kernelspec": {
      "name": "python3",
      "display_name": "Python 3"
    },
    "language_info": {
      "name": "python"
    }
  },
  "cells": [
    {
      "cell_type": "markdown",
      "metadata": {
        "id": "view-in-github",
        "colab_type": "text"
      },
      "source": [
        "<a href=\"https://colab.research.google.com/github/ShadowRaccoon/PrograConcurrente2023C1/blob/main/TP1_threads_Cpp_M1.ipynb\" target=\"_parent\"><img src=\"https://colab.research.google.com/assets/colab-badge.svg\" alt=\"Open In Colab\"/></a>"
      ]
    },
    {
      "cell_type": "markdown",
      "source": [
        "# **C++**"
      ],
      "metadata": {
        "id": "hddk7v6bx640"
      }
    },
    {
      "cell_type": "code",
      "execution_count": 1,
      "metadata": {
        "colab": {
          "base_uri": "https://localhost:8080/"
        },
        "id": "XfLbce59xpmA",
        "outputId": "28fdedf2-9245-459e-ae02-dddafb1380de"
      },
      "outputs": [
        {
          "output_type": "stream",
          "name": "stdout",
          "text": [
            "Writing matrix_mult.cpp\n"
          ]
        }
      ],
      "source": [
        "%%writefile matrix_mult.cpp\n",
        "#include <iostream>\n",
        "#include <vector>\n",
        "#include <string>\n",
        "#include <random>\n",
        "#include <utility>\n",
        "#include <thread>\n",
        "#include <stdlib.h>\n",
        "\n",
        "#define MIN_MATRIX_SIZE 5\n",
        "#define MAX_MATRIX_SIZE 20\n",
        "#define MIN_MATRIX_CELL_VALUE -32\n",
        "#define MAX_MATRIX_CELL_VALUE 32\n",
        "\n",
        "typedef std::vector<std::vector<int>> Matrix;\n",
        "\n",
        "int validateArgs(int& argc, char* argv[]);\n",
        "Matrix matrixGenerator(int size, bool populate = true);\n",
        "Matrix secuentialMult(Matrix&, Matrix&, int size);\n",
        "Matrix concurrentMult(Matrix&, Matrix&, int size);\n",
        "void printMatrix(std::string alias, Matrix&);\n",
        "bool compareMatrix(Matrix&, Matrix&);\n",
        "\n",
        "int main(int argc, char* argv[])\n",
        "{\n",
        "    int size = validateArgs(argc, argv);\n",
        "\n",
        "    Matrix matrix_a  = matrixGenerator(size);\n",
        "    Matrix matrix_b  = matrixGenerator(size);\n",
        "    Matrix matrix_cs = secuentialMult(matrix_a, matrix_b, size);\n",
        "    Matrix matrix_ch = concurrentMult(matrix_a, matrix_b, size);\n",
        "\n",
        "    printMatrix(\"A\", matrix_a);\n",
        "    printMatrix(\"B\", matrix_b);\n",
        "    printMatrix(\"CS\", matrix_cs);\n",
        "    printMatrix(\"CH\", matrix_ch);\n",
        "    std::cout << \"Las matrices CS y CH son iguales? \" << (compareMatrix(matrix_cs, matrix_ch) ? \"Si\" : \"No\") << std::endl;\n",
        "\n",
        "    return EXIT_SUCCESS;\n",
        "}\n",
        "\n",
        "// Valida los argumentos y devuelve el tamaño de la matrices a crear\n",
        "int validateArgs(int& argc, char* argv[])\n",
        "{\n",
        "    if(argc != 2){\n",
        "        std::cout << \"Cantidad de argumentos incorrectos\" << std::endl;\n",
        "        exit(EXIT_FAILURE);\n",
        "    }\n",
        "\n",
        "    int size = atoi(argv[1]);\n",
        "    if(size < MIN_MATRIX_SIZE || size > MAX_MATRIX_SIZE){\n",
        "        std::cout << \"El tamaño de la matriz debe estar entre \" << MIN_MATRIX_SIZE << \" y \" << MAX_MATRIX_SIZE << std::endl;\n",
        "        exit(EXIT_FAILURE);\n",
        "    }\n",
        "\n",
        "    return size;\n",
        "}\n",
        "\n",
        "// Genera una matriz y las llena de datos de ser necesario\n",
        "Matrix matrixGenerator(int size, bool populate)\n",
        "{\n",
        "    Matrix aux(size, std::vector<int>(size));\n",
        "\n",
        "    if(populate)\n",
        "    {\n",
        "        std::random_device rd; // Obtenemos un número random del hardware\n",
        "        std::mt19937 gen(rd()); // Generamos la semilla (seed)\n",
        "        std::uniform_int_distribution<> distr(MIN_MATRIX_CELL_VALUE, MAX_MATRIX_CELL_VALUE); // Definimos el rango\n",
        "\n",
        "        for(int i=0; i<size; ++i)\n",
        "            for(int j=0; j<size; ++j)\n",
        "                aux[i][j] = distr(gen);\n",
        "    }\n",
        "\n",
        "    // \"Movemos\" al objeto en vez de realizar una copia\n",
        "    return std::move(aux);\n",
        "}\n",
        "\n",
        "// Realiza la multiplicación entre 2 matrices y devuelve una nueva de manera secuencial\n",
        "Matrix secuentialMult(Matrix& a, Matrix& b, int size)\n",
        "{\n",
        "    Matrix aux = matrixGenerator(size, false);\n",
        "\n",
        "    for(int i=0; i<size; ++i)\n",
        "        for(int j=0; j<size; ++j)\n",
        "            for(int k=0; k<size; ++k)\n",
        "                aux[i][j] += a[i][k] * b[k][j];    \n",
        "\n",
        "    // \"Movemos\" al objeto en vez de realizar una copia\n",
        "    return std::move(aux);\n",
        "}\n",
        "\n",
        "// Realiza la multiplicación entre 2 matrices y devuelve una nueva de manera concurrente\n",
        "Matrix concurrentMult(Matrix& a, Matrix& b, int size)\n",
        "{\n",
        "    Matrix aux = matrixGenerator(size, false);\n",
        "    std::vector<std::thread> workers;\n",
        "\n",
        "    for(int i; i<size; ++i)\n",
        "    {\n",
        "        workers.push_back(std::thread(\n",
        "                // Función anónima o lambda que realiza la asignación y multiplicación\n",
        "                [&aux, &a, &b, i, size]()\n",
        "                {\n",
        "                    for(int j=0; j < size; ++j)\n",
        "                        for(int k=0; k<size; ++k)\n",
        "                            aux[i][j] += a[i][k] * b[k][j];\n",
        "                }\n",
        "            )\n",
        "        );\n",
        "    }\n",
        "    \n",
        "    for(auto& worker : workers)\n",
        "    {\n",
        "        worker.join();\n",
        "    }\n",
        "\n",
        "    // \"Movemos\" al objeto en vez de realizar una copia\n",
        "    return std::move(aux);\n",
        "}\n",
        "\n",
        "// Imprime la matriz con su alias\n",
        "void printMatrix(std::string alias, Matrix& m)\n",
        "{\n",
        "    std::cout << \"Matrix \" << alias << \":\" << std::endl;\n",
        "    \n",
        "    for(const auto& row : m)\n",
        "    {\n",
        "        for(const auto& col : row)\n",
        "            std::cout << \"\\t\" << col << \"\\t\";\n",
        "        std::cout << std::endl;\n",
        "    }\n",
        "}\n",
        "\n",
        "bool compareMatrix(Matrix& a, Matrix& b)\n",
        "{\n",
        "    for(int i=0; i<a.size(); ++i)\n",
        "        for(int j=0; j<a.size(); ++j)\n",
        "            if(a[i][j] != b[i][j])\n",
        "                return false;\n",
        "\n",
        "    return true;\n",
        "}\n"
      ]
    },
    {
      "cell_type": "code",
      "source": [
        "!g++ matrix_mult.cpp -pthread -std=c++14 -o matrix_mult.out"
      ],
      "metadata": {
        "id": "zIEHX06mT2dY"
      },
      "execution_count": 4,
      "outputs": []
    },
    {
      "cell_type": "code",
      "source": [
        "!./matrix_mult.out 1"
      ],
      "metadata": {
        "id": "REVuFEeZvZ3v",
        "colab": {
          "base_uri": "https://localhost:8080/"
        },
        "outputId": "15f4d64b-15d2-49fc-91eb-ffa7160f72e2"
      },
      "execution_count": 5,
      "outputs": [
        {
          "output_type": "stream",
          "name": "stdout",
          "text": [
            "El tamaño de la matriz debe estar entre 5 y 20\n"
          ]
        }
      ]
    },
    {
      "cell_type": "code",
      "source": [
        "!./matrix_mult.out 5"
      ],
      "metadata": {
        "colab": {
          "base_uri": "https://localhost:8080/"
        },
        "id": "EyGFTt_EyyDL",
        "outputId": "95be0124-c403-4a75-fb10-0084422c260b"
      },
      "execution_count": 6,
      "outputs": [
        {
          "output_type": "stream",
          "name": "stdout",
          "text": [
            "Matrix A:\n",
            "\t-8\t\t-2\t\t4\t\t-27\t\t-32\t\n",
            "\t12\t\t-2\t\t-2\t\t3\t\t24\t\n",
            "\t26\t\t28\t\t-11\t\t18\t\t-19\t\n",
            "\t-25\t\t-21\t\t7\t\t-11\t\t-13\t\n",
            "\t23\t\t1\t\t-7\t\t-20\t\t12\t\n",
            "Matrix B:\n",
            "\t4\t\t26\t\t-25\t\t-32\t\t-23\t\n",
            "\t-7\t\t-13\t\t32\t\t16\t\t-28\t\n",
            "\t13\t\t1\t\t21\t\t17\t\t-9\t\n",
            "\t-2\t\t-14\t\t-17\t\t30\t\t21\t\n",
            "\t6\t\t-29\t\t-4\t\t-14\t\t-18\t\n",
            "Matrix CS:\n",
            "\t-104\t\t1128\t\t807\t\t-70\t\t213\t\n",
            "\t174\t\t-402\t\t-553\t\t-696\t\t-571\t\n",
            "\t-385\t\t600\t\t-215\t\t235\t\t-563\t\n",
            "\t82\t\t161\t\t339\t\t435\t\t1103\t\n",
            "\t106\t\t510\t\t-398\t\t-1607\t\t-1130\t\n",
            "Matrix CH:\n",
            "\t-104\t\t1128\t\t807\t\t-70\t\t213\t\n",
            "\t174\t\t-402\t\t-553\t\t-696\t\t-571\t\n",
            "\t-385\t\t600\t\t-215\t\t235\t\t-563\t\n",
            "\t82\t\t161\t\t339\t\t435\t\t1103\t\n",
            "\t106\t\t510\t\t-398\t\t-1607\t\t-1130\t\n",
            "Las matrices CS y CH son iguales? Si\n"
          ]
        }
      ]
    }
  ]
}
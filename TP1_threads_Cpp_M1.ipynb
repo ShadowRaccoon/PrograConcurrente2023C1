{
  "nbformat": 4,
  "nbformat_minor": 0,
  "metadata": {
    "colab": {
      "provenance": [],
      "collapsed_sections": [
        "b5oplPqTI0lj"
      ],
      "include_colab_link": true
    },
    "kernelspec": {
      "name": "python3",
      "display_name": "Python 3"
    },
    "language_info": {
      "name": "python"
    }
  },
  "cells": [
    {
      "cell_type": "markdown",
      "metadata": {
        "id": "view-in-github",
        "colab_type": "text"
      },
      "source": [
        "<a href=\"https://colab.research.google.com/github/ShadowRaccoon/PrograConcurrente2023C1/blob/main/TP1_threads_Cpp_M1.ipynb\" target=\"_parent\"><img src=\"https://colab.research.google.com/assets/colab-badge.svg\" alt=\"Open In Colab\"/></a>"
      ]
    },
    {
      "cell_type": "markdown",
      "source": [
        "# **C++**"
      ],
      "metadata": {
        "id": "qV6Mw1XqPo83"
      }
    },
    {
      "cell_type": "markdown",
      "source": [
        "Solución implementada utilizando un *aproach* funcional, priorizando la inmutabilidad de los datos"
      ],
      "metadata": {
        "id": "MdmGwv2hKJ7j"
      }
    },
    {
      "cell_type": "code",
      "execution_count": 23,
      "metadata": {
        "colab": {
          "base_uri": "https://localhost:8080/"
        },
        "id": "XfLbce59xpmA",
        "outputId": "4986f83e-410e-4e76-fe3c-d5077483134d"
      },
      "outputs": [
        {
          "output_type": "stream",
          "name": "stdout",
          "text": [
            "Overwriting matrix_mult.cpp\n"
          ]
        }
      ],
      "source": [
        "%%writefile matrix_mult.cpp\n",
        "#include <iostream>\n",
        "#include <vector>\n",
        "#include <string>\n",
        "#include <random>\n",
        "#include <utility>\n",
        "#include <thread>\n",
        "#include <stdlib.h>\n",
        "\n",
        "#define MIN_MATRIX_SIZE 5\n",
        "#define MAX_MATRIX_SIZE 20\n",
        "#define MIN_MATRIX_CELL_VALUE -32\n",
        "#define MAX_MATRIX_CELL_VALUE 32\n",
        "\n",
        "// Definimos a la matriz como un tipo de datos vector de vector de t_matrix\n",
        "// t_matrix es el tipo de dato que contiene la matriz\n",
        "// está definido en minuscula para no conufndir con los tipos de datos genéricos ej <T>\n",
        "typedef int t_matrix;\n",
        "typedef std::vector<std::vector<t_matrix>> Matrix;\n",
        "\n",
        "int validateArgs(int& argc, char* argv[]);\n",
        "Matrix matrixGenerator(int size, bool populate = true);\n",
        "Matrix matrixGenerator(int row_size, int col_size, bool populate = true);\n",
        "Matrix secuentialMult(const Matrix&, const Matrix&);\n",
        "Matrix concurrentMult(const Matrix&, const Matrix&);\n",
        "void printMatrix(const std::string alias, const Matrix&);\n",
        "\n",
        "int main(int argc, char* argv[])\n",
        "{\n",
        "    int size = validateArgs(argc, argv);\n",
        "\n",
        "    Matrix matrix_a  {matrixGenerator(size)};\n",
        "    Matrix matrix_b  {matrixGenerator(size)};\n",
        "    Matrix matrix_cs {secuentialMult(matrix_a, matrix_b)};\n",
        "    Matrix matrix_ch {concurrentMult(matrix_a, matrix_b)};\n",
        "\n",
        "    printMatrix(\"A\", matrix_a);\n",
        "    printMatrix(\"B\", matrix_b);\n",
        "    printMatrix(\"CS\", matrix_cs);\n",
        "    printMatrix(\"CH\", matrix_ch);\n",
        "    std::cout << \"Las matrices CS y CH son iguales? \"\n",
        "        // El operador == en vectores compara todos los elementos del vector\n",
        "        << (matrix_cs == matrix_ch ? \"Si\" : \"No\")\n",
        "        << std::endl;\n",
        "\n",
        "    return EXIT_SUCCESS;\n",
        "}\n",
        "\n",
        "// Valida los argumentos y devuelve el tamaño de la matrices a crear\n",
        "int validateArgs(int& argc, char* argv[])\n",
        "{\n",
        "    if (argc != 2)\n",
        "    {\n",
        "        std::cout << \"Cantidad de argumentos incorrectos\" << std::endl;\n",
        "        exit(EXIT_FAILURE);\n",
        "    }\n",
        "\n",
        "    int size = atoi(argv[1]);\n",
        "    if (size < MIN_MATRIX_SIZE || size > MAX_MATRIX_SIZE)\n",
        "    {\n",
        "        std::cout << \"El tamaño de la matriz debe estar entre \"\n",
        "            << MIN_MATRIX_SIZE << \" y \" << MAX_MATRIX_SIZE << std::endl;\n",
        "\n",
        "        exit(EXIT_FAILURE);\n",
        "    }\n",
        "\n",
        "    return size;\n",
        "}\n",
        "\n",
        "// Genera una matriz de igual tamaño de filas y columnas\n",
        "Matrix matrixGenerator(int size, bool populate)\n",
        "{\n",
        "    // \"Movemos\" al objeto en vez de realizar una copia\n",
        "    return std::move(matrixGenerator(size, size, populate));\n",
        "}\n",
        "\n",
        "// Genera una matriz y las llena de datos de ser necesario\n",
        "Matrix matrixGenerator(int row_size, int col_size, bool populate)\n",
        "{\n",
        "    Matrix aux(row_size, std::vector<t_matrix>(col_size));\n",
        "\n",
        "    if (populate)\n",
        "    {\n",
        "        std::random_device rd; // Obtenemos un número random del hardware\n",
        "        std::mt19937 gen(rd()); // Generamos la semilla (seed)\n",
        "        std::uniform_int_distribution<> distr(MIN_MATRIX_CELL_VALUE, MAX_MATRIX_CELL_VALUE); // Definimos el rango\n",
        "\n",
        "        for (int i=0; i < row_size; ++i)\n",
        "            for (int j=0; j < col_size; ++j)\n",
        "                aux[i][j] = distr(gen);\n",
        "    }\n",
        "\n",
        "    // \"Movemos\" al objeto en vez de realizar una copia\n",
        "    return std::move(aux);\n",
        "}\n",
        "\n",
        "// Realiza la multiplicación entre 2 matrices y devuelve una nueva de manera secuencial\n",
        "Matrix secuentialMult(const Matrix& a, const Matrix& b)\n",
        "{\n",
        "    Matrix aux = matrixGenerator(a.size(), false);\n",
        "\n",
        "    for (int i=0; i < a.size(); ++i)\n",
        "        for (int j=0; j < b[0].size(); ++j)\n",
        "            for (int k=0; k < a.size(); ++k)\n",
        "                aux[i][j] += a[i][k] * b[k][j];    \n",
        "\n",
        "    // \"Movemos\" al objeto en vez de realizar una copia\n",
        "    return std::move(aux);\n",
        "}\n",
        "\n",
        "// Realiza la multiplicación entre 2 matrices y devuelve una nueva de manera concurrente\n",
        "Matrix concurrentMult(const Matrix& a, const Matrix& b)\n",
        "{\n",
        "    Matrix aux = matrixGenerator(a.size(), false);\n",
        "    std::vector<std::thread> workers;\n",
        "\n",
        "    for (int i; i < a.size(); ++i)\n",
        "    {\n",
        "        workers.push_back(std::thread(\n",
        "                // Función anónima o lambda que realiza la asignación y multiplicación\n",
        "                [&aux, &a, &b, i]()\n",
        "                {\n",
        "                    for (int j=0; j < b[0].size(); ++j)\n",
        "                        for (int k=0; k < a.size(); ++k)\n",
        "                            aux[i][j] += a[i][k] * b[k][j];\n",
        "                }\n",
        "            )\n",
        "        );\n",
        "    }\n",
        "    \n",
        "    for(auto& worker : workers)\n",
        "    {\n",
        "        worker.join();\n",
        "    }\n",
        "\n",
        "    // \"Movemos\" al objeto en vez de realizar una copia\n",
        "    return std::move(aux);\n",
        "}\n",
        "\n",
        "// Imprime la matriz con su alias\n",
        "void printMatrix(const std::string alias, const Matrix& m)\n",
        "{\n",
        "    std::cout << \"Matrix \" << alias << \":\" << std::endl;\n",
        "    \n",
        "    for(const auto& row : m)\n",
        "    {\n",
        "        for(const auto& col : row)\n",
        "        {\n",
        "            std::cout << \"\\t\" << col << \"\\t\";\n",
        "        }\n",
        "        std::cout << std::endl;\n",
        "    }\n",
        "}\n"
      ]
    },
    {
      "cell_type": "markdown",
      "source": [
        "Compilamos el programa, indicando que utilice el módulo pthread para poder utilizar hilos"
      ],
      "metadata": {
        "id": "aH3WafAEIno9"
      }
    },
    {
      "cell_type": "code",
      "source": [
        "!g++ matrix_mult.cpp -pthread -std=c++14 -o matrix_mult.out"
      ],
      "metadata": {
        "id": "zIEHX06mT2dY"
      },
      "execution_count": 24,
      "outputs": []
    },
    {
      "cell_type": "markdown",
      "source": [
        "## Pruebas de validación de parametros:"
      ],
      "metadata": {
        "id": "b5oplPqTI0lj"
      }
    },
    {
      "cell_type": "code",
      "source": [
        "!./matrix_mult.out"
      ],
      "metadata": {
        "id": "REVuFEeZvZ3v",
        "colab": {
          "base_uri": "https://localhost:8080/"
        },
        "outputId": "3af3ac0e-858b-4e7d-9aae-89cae6e556fb"
      },
      "execution_count": 25,
      "outputs": [
        {
          "output_type": "stream",
          "name": "stdout",
          "text": [
            "Cantidad de argumentos incorrectos\n"
          ]
        }
      ]
    },
    {
      "cell_type": "code",
      "source": [
        "!./matrix_mult.out 1"
      ],
      "metadata": {
        "colab": {
          "base_uri": "https://localhost:8080/"
        },
        "outputId": "3c2e6696-007d-48b2-e8e7-16bf897bd6ec",
        "id": "k9ja6MPFJS1k"
      },
      "execution_count": 26,
      "outputs": [
        {
          "output_type": "stream",
          "name": "stdout",
          "text": [
            "El tamaño de la matriz debe estar entre 5 y 20\n"
          ]
        }
      ]
    },
    {
      "cell_type": "code",
      "source": [
        "!./matrix_mult.out 21"
      ],
      "metadata": {
        "colab": {
          "base_uri": "https://localhost:8080/"
        },
        "outputId": "c31abae2-1c7d-4b81-811c-c5f1265b09d4",
        "id": "1dcFjzc5JTDN"
      },
      "execution_count": 27,
      "outputs": [
        {
          "output_type": "stream",
          "name": "stdout",
          "text": [
            "El tamaño de la matriz debe estar entre 5 y 20\n"
          ]
        }
      ]
    },
    {
      "cell_type": "markdown",
      "source": [
        "## Ejecución exitosa:"
      ],
      "metadata": {
        "id": "f1kjR2TTI5Gb"
      }
    },
    {
      "cell_type": "code",
      "source": [
        "!./matrix_mult.out 6"
      ],
      "metadata": {
        "colab": {
          "base_uri": "https://localhost:8080/"
        },
        "id": "EyGFTt_EyyDL",
        "outputId": "c15109da-f1ef-40bc-d912-e740bf62d84c"
      },
      "execution_count": 30,
      "outputs": [
        {
          "output_type": "stream",
          "name": "stdout",
          "text": [
            "Matrix A:\n",
            "\t-32\t\t-28\t\t-19\t\t-7\t\t28\t\t-9\t\n",
            "\t19\t\t-5\t\t-14\t\t-8\t\t-21\t\t-21\t\n",
            "\t-18\t\t20\t\t22\t\t-30\t\t-1\t\t-12\t\n",
            "\t24\t\t-17\t\t0\t\t14\t\t17\t\t-15\t\n",
            "\t7\t\t-7\t\t11\t\t-11\t\t-15\t\t7\t\n",
            "\t-23\t\t8\t\t4\t\t3\t\t-29\t\t1\t\n",
            "Matrix B:\n",
            "\t-30\t\t-28\t\t-6\t\t-14\t\t-6\t\t26\t\n",
            "\t-8\t\t-29\t\t20\t\t-26\t\t0\t\t-31\t\n",
            "\t-2\t\t6\t\t-22\t\t24\t\t18\t\t16\t\n",
            "\t-26\t\t13\t\t-3\t\t16\t\t16\t\t14\t\n",
            "\t10\t\t-19\t\t-28\t\t8\t\t-8\t\t19\t\n",
            "\t16\t\t27\t\t16\t\t29\t\t-16\t\t20\t\n",
            "Matrix CS:\n",
            "\t1540\t\t728\t\t-857\t\t571\t\t-342\t\t-14\t\n",
            "\t-840\t\t-743\t\t370\t\t-1377\t\t10\t\t-506\t\n",
            "\t914\t\t-639\t\t-50\t\t-576\t\t224\t\t-1415\t\n",
            "\t-1018\t\t-725\t\t-1242\t\t31\t\t184\t\t1370\t\n",
            "\t72\t\t404\t\t141\t\t255\t\t-12\t\t276\t\n",
            "\t266\t\t1053\t\t1029\t\t55\t\t474\t\t-1271\t\n",
            "Matrix CH:\n",
            "\t1540\t\t728\t\t-857\t\t571\t\t-342\t\t-14\t\n",
            "\t-840\t\t-743\t\t370\t\t-1377\t\t10\t\t-506\t\n",
            "\t914\t\t-639\t\t-50\t\t-576\t\t224\t\t-1415\t\n",
            "\t-1018\t\t-725\t\t-1242\t\t31\t\t184\t\t1370\t\n",
            "\t72\t\t404\t\t141\t\t255\t\t-12\t\t276\t\n",
            "\t266\t\t1053\t\t1029\t\t55\t\t474\t\t-1271\t\n",
            "Las matrices CS y CH son iguales? Si\n"
          ]
        }
      ]
    }
  ]
}
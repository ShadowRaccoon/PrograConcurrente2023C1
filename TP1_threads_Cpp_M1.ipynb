{
  "nbformat": 4,
  "nbformat_minor": 0,
  "metadata": {
    "colab": {
      "provenance": [],
      "include_colab_link": true
    },
    "kernelspec": {
      "name": "python3",
      "display_name": "Python 3"
    },
    "language_info": {
      "name": "python"
    }
  },
  "cells": [
    {
      "cell_type": "markdown",
      "metadata": {
        "id": "view-in-github",
        "colab_type": "text"
      },
      "source": [
        "<a href=\"https://colab.research.google.com/github/ShadowRaccoon/PrograConcurrente2023C1/blob/main/TP1_threads_Cpp_M1.ipynb\" target=\"_parent\"><img src=\"https://colab.research.google.com/assets/colab-badge.svg\" alt=\"Open In Colab\"/></a>"
      ]
    },
    {
      "cell_type": "markdown",
      "source": [
        "# **C++**"
      ],
      "metadata": {
        "id": "qV6Mw1XqPo83"
      }
    },
    {
      "cell_type": "code",
      "execution_count": 3,
      "metadata": {
        "colab": {
          "base_uri": "https://localhost:8080/"
        },
        "id": "XfLbce59xpmA",
        "outputId": "f6465976-f010-45a0-d8f9-4ed65944b171"
      },
      "outputs": [
        {
          "output_type": "stream",
          "name": "stdout",
          "text": [
            "Overwriting matrix_mult.cpp\n"
          ]
        }
      ],
      "source": [
        "%%writefile matrix_mult.cpp\n",
        "#include <iostream>\n",
        "#include <vector>\n",
        "#include <string>\n",
        "#include <random>\n",
        "#include <utility>\n",
        "#include <thread>\n",
        "#include <stdlib.h>\n",
        "\n",
        "#define MIN_MATRIX_SIZE 5\n",
        "#define MAX_MATRIX_SIZE 20\n",
        "#define MIN_MATRIX_CELL_VALUE -32\n",
        "#define MAX_MATRIX_CELL_VALUE 32\n",
        "\n",
        "typedef std::vector<std::vector<int>> Matrix;\n",
        "\n",
        "int validateArgs(int& argc, char* argv[]);\n",
        "Matrix matrixGenerator(int size, bool populate = true);\n",
        "Matrix matrixGenerator(int row_size, int col_size, bool populate = true);\n",
        "Matrix secuentialMult(Matrix&, Matrix&);\n",
        "Matrix concurrentMult(Matrix&, Matrix&);\n",
        "void printMatrix(std::string alias, Matrix&);\n",
        "\n",
        "int main(int argc, char* argv[])\n",
        "{\n",
        "    int size = validateArgs(argc, argv);\n",
        "\n",
        "    Matrix matrix_a  {matrixGenerator(size)};\n",
        "    Matrix matrix_b  {matrixGenerator(size)};\n",
        "    Matrix matrix_cs {secuentialMult(matrix_a, matrix_b)};\n",
        "    Matrix matrix_ch {concurrentMult(matrix_a, matrix_b)};\n",
        "\n",
        "    printMatrix(\"A\", matrix_a);\n",
        "    printMatrix(\"B\", matrix_b);\n",
        "    printMatrix(\"CS\", matrix_cs);\n",
        "    printMatrix(\"CH\", matrix_ch);\n",
        "    std::cout << \"Las matrices CS y CH son iguales? \"\n",
        "        // El operador == en vectores compara todos los elementos del vector\n",
        "        << (matrix_cs == matrix_ch ? \"Si\" : \"No\")\n",
        "        << std::endl;\n",
        "\n",
        "    return EXIT_SUCCESS;\n",
        "}\n",
        "\n",
        "// Valida los argumentos y devuelve el tamaño de la matrices a crear\n",
        "int validateArgs(int& argc, char* argv[])\n",
        "{\n",
        "    if (argc != 2)\n",
        "    {\n",
        "        std::cout << \"Cantidad de argumentos incorrectos\" << std::endl;\n",
        "        exit(EXIT_FAILURE);\n",
        "    }\n",
        "\n",
        "    int size = atoi(argv[1]);\n",
        "    if (size < MIN_MATRIX_SIZE || size > MAX_MATRIX_SIZE)\n",
        "    {\n",
        "        std::cout << \"El tamaño de la matriz debe estar entre \"\n",
        "            << MIN_MATRIX_SIZE << \" y \" << MAX_MATRIX_SIZE << std::endl;\n",
        "\n",
        "        exit(EXIT_FAILURE);\n",
        "    }\n",
        "\n",
        "    return size;\n",
        "}\n",
        "\n",
        "// Genera una matriz de igual tamaño de filas y columnas\n",
        "Matrix matrixGenerator(int size, bool populate)\n",
        "{\n",
        "    // \"Movemos\" al objeto en vez de realizar una copia\n",
        "    return std::move(matrixGenerator(size, size, populate));\n",
        "}\n",
        "\n",
        "// Genera una matriz y las llena de datos de ser necesario\n",
        "Matrix matrixGenerator(int row_size, int col_size, bool populate)\n",
        "{\n",
        "    Matrix aux(row_size, std::vector<int>(col_size));\n",
        "\n",
        "    if (populate)\n",
        "    {\n",
        "        std::random_device rd; // Obtenemos un número random del hardware\n",
        "        std::mt19937 gen(rd()); // Generamos la semilla (seed)\n",
        "        std::uniform_int_distribution<> distr(MIN_MATRIX_CELL_VALUE, MAX_MATRIX_CELL_VALUE); // Definimos el rango\n",
        "\n",
        "        for (int i=0; i < row_size; ++i)\n",
        "            for (int j=0; j < col_size; ++j)\n",
        "                aux[i][j] = distr(gen);\n",
        "    }\n",
        "\n",
        "    // \"Movemos\" al objeto en vez de realizar una copia\n",
        "    return std::move(aux);\n",
        "}\n",
        "\n",
        "// Realiza la multiplicación entre 2 matrices y devuelve una nueva de manera secuencial\n",
        "Matrix secuentialMult(Matrix& a, Matrix& b)\n",
        "{\n",
        "    Matrix aux = matrixGenerator(a.size(), false);\n",
        "\n",
        "    for (int i=0; i < a.size(); ++i)\n",
        "        for (int j=0; j < b[0].size(); ++j)\n",
        "            for (int k=0; k < a.size(); ++k)\n",
        "                aux[i][j] += a[i][k] * b[k][j];    \n",
        "\n",
        "    // \"Movemos\" al objeto en vez de realizar una copia\n",
        "    return std::move(aux);\n",
        "}\n",
        "\n",
        "// Realiza la multiplicación entre 2 matrices y devuelve una nueva de manera concurrente\n",
        "Matrix concurrentMult(Matrix& a, Matrix& b)\n",
        "{\n",
        "    Matrix aux = matrixGenerator(a.size(), false);\n",
        "    std::vector<std::thread> workers;\n",
        "\n",
        "    for (int i; i < a.size(); ++i)\n",
        "    {\n",
        "        workers.push_back(std::thread(\n",
        "                // Función anónima o lambda que realiza la asignación y multiplicación\n",
        "                [&aux, &a, &b, i]()\n",
        "                {\n",
        "                    for (int j=0; j < b[0].size(); ++j)\n",
        "                        for (int k=0; k < a.size(); ++k)\n",
        "                            aux[i][j] += a[i][k] * b[k][j];\n",
        "                }\n",
        "            )\n",
        "        );\n",
        "    }\n",
        "    \n",
        "    for(auto& worker : workers)\n",
        "    {\n",
        "        worker.join();\n",
        "    }\n",
        "\n",
        "    // \"Movemos\" al objeto en vez de realizar una copia\n",
        "    return std::move(aux);\n",
        "}\n",
        "\n",
        "// Imprime la matriz con su alias\n",
        "void printMatrix(std::string alias, Matrix& m)\n",
        "{\n",
        "    std::cout << \"Matrix \" << alias << \":\" << std::endl;\n",
        "    \n",
        "    for(const auto& row : m)\n",
        "    {\n",
        "        for(const auto& col : row)\n",
        "        {\n",
        "            std::cout << \"\\t\" << col << \"\\t\";\n",
        "        }\n",
        "        std::cout << std::endl;\n",
        "    }\n",
        "}\n"
      ]
    },
    {
      "cell_type": "code",
      "source": [
        "!g++ matrix_mult.cpp -pthread -std=c++14 -o matrix_mult.out"
      ],
      "metadata": {
        "id": "zIEHX06mT2dY"
      },
      "execution_count": 4,
      "outputs": []
    },
    {
      "cell_type": "code",
      "source": [
        "!./matrix_mult.out 1"
      ],
      "metadata": {
        "id": "REVuFEeZvZ3v",
        "colab": {
          "base_uri": "https://localhost:8080/"
        },
        "outputId": "74ef1ed8-e720-40c7-bfeb-6762ccd34707"
      },
      "execution_count": 5,
      "outputs": [
        {
          "output_type": "stream",
          "name": "stdout",
          "text": [
            "El tamaño de la matriz debe estar entre 5 y 20\n"
          ]
        }
      ]
    },
    {
      "cell_type": "code",
      "source": [
        "!./matrix_mult.out 5"
      ],
      "metadata": {
        "colab": {
          "base_uri": "https://localhost:8080/"
        },
        "id": "EyGFTt_EyyDL",
        "outputId": "d63141dd-176c-4ebd-b398-385881c58d8d"
      },
      "execution_count": 6,
      "outputs": [
        {
          "output_type": "stream",
          "name": "stdout",
          "text": [
            "Matrix A:\n",
            "\t31\t\t-25\t\t8\t\t-1\t\t-28\t\n",
            "\t-2\t\t6\t\t0\t\t19\t\t-24\t\n",
            "\t-20\t\t2\t\t25\t\t6\t\t-18\t\n",
            "\t31\t\t-10\t\t16\t\t-14\t\t17\t\n",
            "\t27\t\t12\t\t-5\t\t8\t\t24\t\n",
            "Matrix B:\n",
            "\t27\t\t-26\t\t16\t\t12\t\t-9\t\n",
            "\t-9\t\t-6\t\t-7\t\t9\t\t21\t\n",
            "\t10\t\t-2\t\t-31\t\t-13\t\t-1\t\n",
            "\t15\t\t5\t\t28\t\t0\t\t27\t\n",
            "\t0\t\t-10\t\t-10\t\t-2\t\t19\t\n",
            "Matrix CS:\n",
            "\t1127\t\t-397\t\t675\t\t99\t\t-1371\t\n",
            "\t177\t\t351\t\t698\t\t78\t\t201\t\n",
            "\t-218\t\t668\t\t-761\t\t-511\t\t17\t\n",
            "\t877\t\t-1018\t\t-492\t\t40\t\t-560\t\n",
            "\t691\t\t-964\t\t487\t\t449\t\t686\t\n",
            "Matrix CH:\n",
            "\t1127\t\t-397\t\t675\t\t99\t\t-1371\t\n",
            "\t177\t\t351\t\t698\t\t78\t\t201\t\n",
            "\t-218\t\t668\t\t-761\t\t-511\t\t17\t\n",
            "\t877\t\t-1018\t\t-492\t\t40\t\t-560\t\n",
            "\t691\t\t-964\t\t487\t\t449\t\t686\t\n",
            "Las matrices CS y CH son iguales? Si\n"
          ]
        }
      ]
    }
  ]
}
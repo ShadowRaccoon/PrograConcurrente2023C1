{
  "nbformat": 4,
  "nbformat_minor": 0,
  "metadata": {
    "colab": {
      "provenance": [],
      "authorship_tag": "ABX9TyOI9CmFdRkEKXAOpiphdeLb",
      "include_colab_link": true
    },
    "kernelspec": {
      "name": "python3",
      "display_name": "Python 3"
    },
    "language_info": {
      "name": "python"
    }
  },
  "cells": [
    {
      "cell_type": "markdown",
      "metadata": {
        "id": "view-in-github",
        "colab_type": "text"
      },
      "source": [
        "<a href=\"https://colab.research.google.com/github/ShadowRaccoon/PrograConcurrente2023C1/blob/main/TP1_N1.ipynb\" target=\"_parent\"><img src=\"https://colab.research.google.com/assets/colab-badge.svg\" alt=\"Open In Colab\"/></a>"
      ]
    },
    {
      "cell_type": "markdown",
      "source": [
        "# **C++**"
      ],
      "metadata": {
        "id": "BL5HWEbrTszQ"
      }
    },
    {
      "cell_type": "code",
      "execution_count": 104,
      "metadata": {
        "colab": {
          "base_uri": "https://localhost:8080/"
        },
        "id": "WFlR4yV2PHCS",
        "outputId": "39a61f36-a8e4-4641-a0a2-a72a8ab96fc9"
      },
      "outputs": [
        {
          "output_type": "stream",
          "name": "stdout",
          "text": [
            "Overwriting tp1.cpp\n"
          ]
        }
      ],
      "source": [
        "%%writefile tp1.cpp\n",
        "#include <iostream>\n",
        "#include <unistd.h>\n",
        "#include <vector>\n",
        "#include <string>\n",
        "#include <sys/wait.h>\n",
        "\n",
        "// Estructura con la que armamos el árbol\n",
        "typedef struct Node {\n",
        "  std::string name;\n",
        "  std::vector<Node> children;\n",
        "} Node;\n",
        "\n",
        "int spawnProcesses(Node&);\n",
        "void processMaessage(Node& n){\n",
        "    std::cout << \"Hola mi nombre es \" << n.name << \". PID: \" << getpid() << \" P_PID: \"<< getppid() << std::endl;\n",
        "}\n",
        "\n",
        "int main()\n",
        "{\n",
        "    Node nodo = {\"A\", {{\"B\", {{\"E\"}, {\"F\"}}}, {\"C\"}, {\"D\", {{\"G\"}}}}};\n",
        "    spawnProcesses(nodo);\n",
        "\n",
        "    return EXIT_SUCCESS;\n",
        "}\n",
        "\n",
        "\n",
        "// Función recursiva encargada de crear los procesos hijos y esperarlos\n",
        "int spawnProcesses(Node& n){\n",
        "    int pid = 0;\n",
        "    processMaessage(n);\n",
        "    for(auto& c : n.children){\n",
        "        pid = fork();\n",
        "        if (pid == -1) {\n",
        "            perror(\"fork\");\n",
        "            exit(EXIT_FAILURE);\n",
        "        } else if(pid == 0){\n",
        "            spawnProcesses(c);\n",
        "            sleep(50);\n",
        "            return EXIT_SUCCESS;\n",
        "        }\n",
        "    }\n",
        "\n",
        "    for(const auto& c : n.children){\n",
        "        wait(nullptr);\n",
        "    }\n",
        "    return 0;\n",
        "}\n",
        "\n",
        "\n"
      ]
    },
    {
      "cell_type": "code",
      "source": [
        "!touch resultado_cpp && chmod 700 resultado_cpp"
      ],
      "metadata": {
        "id": "DeHj30g6vKN9"
      },
      "execution_count": 105,
      "outputs": []
    },
    {
      "cell_type": "code",
      "source": [
        "!g++ tp1.cpp -o tp1.out"
      ],
      "metadata": {
        "id": "zIEHX06mT2dY"
      },
      "execution_count": 106,
      "outputs": []
    },
    {
      "cell_type": "code",
      "source": [
        "!nohup ./tp1.out 1>resultado_cpp 2>/dev/null &"
      ],
      "metadata": {
        "id": "REVuFEeZvZ3v"
      },
      "execution_count": 111,
      "outputs": []
    },
    {
      "cell_type": "code",
      "source": [
        "!cat resultado_cpp"
      ],
      "metadata": {
        "colab": {
          "base_uri": "https://localhost:8080/"
        },
        "id": "DI6unwmVvlWX",
        "outputId": "0ded61a7-7b84-4164-c672-6a11fdf6382e"
      },
      "execution_count": 108,
      "outputs": [
        {
          "output_type": "stream",
          "name": "stdout",
          "text": [
            "Hola mi nombre es A. PID: 32259 P_PID: 1\n",
            "Hola mi nombre es D. PID: 32262 P_PID: 32259\n",
            "Hola mi nombre es C. PID: 32261 P_PID: 32259\n",
            "Hola mi nombre es B. PID: 32260 P_PID: 32259\n",
            "Hola mi nombre es F. PID: 32265 P_PID: 32260\n",
            "Hola mi nombre es E. PID: 32264 P_PID: 32260\n",
            "Hola mi nombre es G. PID: 32263 P_PID: 32262\n"
          ]
        }
      ]
    },
    {
      "cell_type": "code",
      "source": [
        "!ps -ef | grep tp1.out"
      ],
      "metadata": {
        "colab": {
          "base_uri": "https://localhost:8080/"
        },
        "id": "gRFJcAONu0co",
        "outputId": "32f529b6-44a6-4d54-b668-45f4000ee830"
      },
      "execution_count": 112,
      "outputs": [
        {
          "output_type": "stream",
          "name": "stdout",
          "text": [
            "root       33774       1  0 04:16 ?        00:00:00 ./tp1.out\n",
            "root       33775   33774  0 04:16 ?        00:00:00 ./tp1.out\n",
            "root       33776   33774  0 04:16 ?        00:00:00 ./tp1.out\n",
            "root       33777   33774  0 04:16 ?        00:00:00 ./tp1.out\n",
            "root       33778   33777  0 04:16 ?        00:00:00 ./tp1.out\n",
            "root       33779   33775  0 04:16 ?        00:00:00 ./tp1.out\n",
            "root       33780   33775  0 04:16 ?        00:00:00 ./tp1.out\n",
            "root       33795     273  0 04:16 ?        00:00:00 /bin/bash -c ps -ef | grep tp1.out\n",
            "root       33797   33795  0 04:16 ?        00:00:00 /bin/bash -c ps -ef | grep tp1.out\n"
          ]
        }
      ]
    },
    {
      "cell_type": "code",
      "source": [
        "!pstree -pc $(pgrep -f tp1.out -P 1)"
      ],
      "metadata": {
        "colab": {
          "base_uri": "https://localhost:8080/"
        },
        "id": "Jr8lpTd9vpww",
        "outputId": "e064d797-a9de-4907-acde-6f2d1dce1ce9"
      },
      "execution_count": 114,
      "outputs": [
        {
          "output_type": "stream",
          "name": "stdout",
          "text": [
            "tp1.out(33774)─┬─tp1.out(33775)─┬─tp1.out(33779)\n",
            "               │                └─tp1.out(33780)\n",
            "               ├─tp1.out(33776)\n",
            "               └─tp1.out(33777)───tp1.out(33778)\n"
          ]
        }
      ]
    }
  ]
}
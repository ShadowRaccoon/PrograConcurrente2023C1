{
  "nbformat": 4,
  "nbformat_minor": 0,
  "metadata": {
    "colab": {
      "provenance": [],
      "authorship_tag": "ABX9TyNqKSFoLsrOftjUHRDFfNXj",
      "include_colab_link": true
    },
    "kernelspec": {
      "name": "python3",
      "display_name": "Python 3"
    },
    "language_info": {
      "name": "python"
    }
  },
  "cells": [
    {
      "cell_type": "markdown",
      "metadata": {
        "id": "view-in-github",
        "colab_type": "text"
      },
      "source": [
        "<a href=\"https://colab.research.google.com/github/ShadowRaccoon/PrograConcurrente2023C1/blob/main/TP1_N1.ipynb\" target=\"_parent\"><img src=\"https://colab.research.google.com/assets/colab-badge.svg\" alt=\"Open In Colab\"/></a>"
      ]
    },
    {
      "cell_type": "markdown",
      "source": [
        "# **C++**"
      ],
      "metadata": {
        "id": "BL5HWEbrTszQ"
      }
    },
    {
      "cell_type": "code",
      "execution_count": 10,
      "metadata": {
        "colab": {
          "base_uri": "https://localhost:8080/"
        },
        "id": "WFlR4yV2PHCS",
        "outputId": "04b3ee02-181b-4f43-924d-04e82e8eccaf"
      },
      "outputs": [
        {
          "output_type": "stream",
          "name": "stdout",
          "text": [
            "Overwriting tp1.cpp\n"
          ]
        }
      ],
      "source": [
        "%%writefile tp1.cpp\n",
        "#include <iostream>\n",
        "#include <unistd.h>\n",
        "  \n",
        "int main()\n",
        "{\n",
        "    pid_t c_pid = fork();\n",
        "  \n",
        "    if (c_pid == -1) {\n",
        "        perror(\"fork\");\n",
        "        exit(EXIT_FAILURE);\n",
        "    } else if (c_pid) {\n",
        "        //  wait(nullptr);\n",
        "        std::cout << \"Hola, soy el padre \" << getpid() << std::endl;\n",
        "    } else {\n",
        "        std::cout << \"Hola, soy el hijo \" << getpid() << std::endl;\n",
        "    }\n",
        "  \n",
        "    return 0;\n",
        "}"
      ]
    },
    {
      "cell_type": "code",
      "source": [
        "!g++ tp1.cpp && ./a.out"
      ],
      "metadata": {
        "colab": {
          "base_uri": "https://localhost:8080/"
        },
        "id": "zIEHX06mT2dY",
        "outputId": "7ba9230b-9de3-4a23-a491-fdedf8603d00"
      },
      "execution_count": 11,
      "outputs": [
        {
          "output_type": "stream",
          "name": "stdout",
          "text": [
            "Hola, soy el padre 1891\n",
            "Hola, soy el hijo 1897\n"
          ]
        }
      ]
    }
  ]
}
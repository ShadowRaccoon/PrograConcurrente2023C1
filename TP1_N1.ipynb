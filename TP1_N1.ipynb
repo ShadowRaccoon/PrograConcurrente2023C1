{
  "nbformat": 4,
  "nbformat_minor": 0,
  "metadata": {
    "colab": {
      "provenance": [],
      "include_colab_link": true
    },
    "kernelspec": {
      "name": "python3",
      "display_name": "Python 3"
    },
    "language_info": {
      "name": "python"
    }
  },
  "cells": [
    {
      "cell_type": "markdown",
      "metadata": {
        "id": "view-in-github",
        "colab_type": "text"
      },
      "source": [
        "<a href=\"https://colab.research.google.com/github/ShadowRaccoon/PrograConcurrente2023C1/blob/main/TP1_N1.ipynb\" target=\"_parent\"><img src=\"https://colab.research.google.com/assets/colab-badge.svg\" alt=\"Open In Colab\"/></a>"
      ]
    },
    {
      "cell_type": "markdown",
      "source": [
        "# **C++**"
      ],
      "metadata": {
        "id": "BL5HWEbrTszQ"
      }
    },
    {
      "cell_type": "code",
      "execution_count": null,
      "metadata": {
        "colab": {
          "base_uri": "https://localhost:8080/"
        },
        "id": "WFlR4yV2PHCS",
        "outputId": "27424be7-36c4-481d-f8ed-5ee7c23dd114"
      },
      "outputs": [
        {
          "output_type": "stream",
          "name": "stdout",
          "text": [
            "Writing tp1.cpp\n"
          ]
        }
      ],
      "source": [
        "%%writefile tp1.cpp\n",
        "#include <iostream>\n",
        "#include <unistd.h>\n",
        "#include <vector>\n",
        "#include <string>\n",
        "#include <sys/wait.h>\n",
        "\n",
        "// Estructura con la que armamos el árbol\n",
        "typedef struct Node {\n",
        "  std::string name;\n",
        "  std::vector<Node> children;\n",
        "} Node;\n",
        "\n",
        "int spawnProcesses(Node&);\n",
        "void processMessage(Node& n){\n",
        "    std::cout << \"Hola mi nombre es \" << n.name << \". PID: \" << getpid() << \" P_PID: \"<< getppid() << std::endl;\n",
        "}\n",
        "\n",
        "int main()\n",
        "{\n",
        "    Node nodo = {\"A\", {{\"B\", {{\"E\"}, {\"F\"}}}, {\"C\"}, {\"D\", {{\"G\"}}}}};\n",
        "    spawnProcesses(nodo);\n",
        "\n",
        "    return EXIT_SUCCESS;\n",
        "}\n",
        "\n",
        "\n",
        "// Función recursiva encargada de crear los procesos hijos y esperarlos\n",
        "int spawnProcesses(Node& n){\n",
        "    int pid = 0;\n",
        "    processMessage(n);\n",
        "    for(auto& c : n.children){\n",
        "        pid = fork();\n",
        "        if (pid == -1) {\n",
        "            perror(\"fork\");\n",
        "            exit(EXIT_FAILURE);\n",
        "        } else if(pid == 0){\n",
        "            spawnProcesses(c);\n",
        "            sleep(50);\n",
        "            return EXIT_SUCCESS;\n",
        "        }\n",
        "    }\n",
        "\n",
        "    for(const auto& c : n.children){\n",
        "        wait(nullptr);\n",
        "    }\n",
        "    return 0;\n",
        "}\n",
        "\n",
        "\n"
      ]
    },
    {
      "cell_type": "code",
      "source": [
        "!touch resultado_cpp && chmod 700 resultado_cpp"
      ],
      "metadata": {
        "id": "DeHj30g6vKN9"
      },
      "execution_count": null,
      "outputs": []
    },
    {
      "cell_type": "code",
      "source": [
        "!g++ tp1.cpp -o tp1.out"
      ],
      "metadata": {
        "id": "zIEHX06mT2dY"
      },
      "execution_count": null,
      "outputs": []
    },
    {
      "cell_type": "code",
      "source": [
        "!nohup ./tp1.out 1>resultado_cpp 2>/dev/null &"
      ],
      "metadata": {
        "id": "REVuFEeZvZ3v"
      },
      "execution_count": null,
      "outputs": []
    },
    {
      "cell_type": "code",
      "source": [
        "!cat resultado_cpp"
      ],
      "metadata": {
        "colab": {
          "base_uri": "https://localhost:8080/"
        },
        "id": "DI6unwmVvlWX",
        "outputId": "b8657cda-f892-4283-cc93-0f2c9b08a6b6"
      },
      "execution_count": null,
      "outputs": [
        {
          "output_type": "stream",
          "name": "stdout",
          "text": [
            "Hola mi nombre es A. PID: 369 P_PID: 1\n",
            "Hola mi nombre es B. PID: 370 P_PID: 369\n",
            "Hola mi nombre es E. PID: 373 P_PID: 370\n",
            "Hola mi nombre es C. PID: 371 P_PID: 369\n",
            "Hola mi nombre es F. PID: 374 P_PID: 370\n",
            "Hola mi nombre es D. PID: 372 P_PID: 369\n",
            "Hola mi nombre es G. PID: 376 P_PID: 372\n"
          ]
        }
      ]
    },
    {
      "cell_type": "code",
      "source": [
        "!ps -ef | grep tp1.out"
      ],
      "metadata": {
        "colab": {
          "base_uri": "https://localhost:8080/"
        },
        "id": "gRFJcAONu0co",
        "outputId": "8271464c-f452-41fc-801d-7c7221967a85"
      },
      "execution_count": null,
      "outputs": [
        {
          "output_type": "stream",
          "name": "stdout",
          "text": [
            "root         369       1  0 15:28 ?        00:00:00 ./tp1.out\n",
            "root         370     369  0 15:28 ?        00:00:00 ./tp1.out\n",
            "root         371     369  0 15:28 ?        00:00:00 ./tp1.out\n",
            "root         372     369  0 15:28 ?        00:00:00 ./tp1.out\n",
            "root         373     370  0 15:28 ?        00:00:00 ./tp1.out\n",
            "root         374     370  0 15:28 ?        00:00:00 ./tp1.out\n",
            "root         376     372  0 15:28 ?        00:00:00 ./tp1.out\n",
            "root         401     172  0 15:28 ?        00:00:00 /bin/bash -c ps -ef | grep tp1.out\n",
            "root         403     401  0 15:28 ?        00:00:00 grep tp1.out\n"
          ]
        }
      ]
    },
    {
      "cell_type": "code",
      "source": [
        "!pstree -pc $(pgrep -f tp1.out -P 1)"
      ],
      "metadata": {
        "colab": {
          "base_uri": "https://localhost:8080/"
        },
        "id": "Jr8lpTd9vpww",
        "outputId": "6f5b46ea-216e-4b80-b98d-0cb1b6930a0a"
      },
      "execution_count": null,
      "outputs": [
        {
          "output_type": "stream",
          "name": "stdout",
          "text": [
            "tp1.out(369)─┬─tp1.out(370)─┬─tp1.out(373)\n",
            "             │              └─tp1.out(374)\n",
            "             ├─tp1.out(371)\n",
            "             └─tp1.out(372)───tp1.out(376)\n"
          ]
        }
      ]
    },
    {
      "cell_type": "markdown",
      "source": [
        "# **Python**"
      ],
      "metadata": {
        "id": "LwY3qgVymsfR"
      }
    },
    {
      "cell_type": "code",
      "source": [
        "%%writefile tp1.py\n",
        "import os\n",
        "import time\n",
        "\n",
        "def processMessage(nodo):\n",
        "    mensaje = \"Hola mi nombre es {nombre}. PID: {pid}. PPID {ppid}\\n\"\n",
        "    print(mensaje.format(nombre=nodo,pid=os.getpid(),ppid=os.getppid()))\n",
        "\n",
        "def spawnProcesses(nodo):\n",
        "    pid=0\n",
        "    nombre,children = nodo\n",
        "    processMessage(nombre)\n",
        "    for item in children:\n",
        "        pid=os.fork()\n",
        "        if pid < 0:\n",
        "            print(\"Error al crear nuevo proceso\")\n",
        "            os._exit(1)\n",
        "        if not pid:\n",
        "            spawnProcesses(item)\n",
        "            time.sleep(200)\n",
        "            os._exit(0)\n",
        "    for item in children:\n",
        "        os.wait()\n",
        "\n",
        "def main():\n",
        "    arbol = (\"A\", [(\"B\", [(\"E\",[]), (\"F\",[])]), (\"C\",[]), (\"D\", [(\"G\",[])])])\n",
        "    spawnProcesses(arbol)\n",
        "    os._exit(0)\n",
        "\n",
        "main()"
      ],
      "metadata": {
        "colab": {
          "base_uri": "https://localhost:8080/"
        },
        "id": "fHkLWa0sm5Gu",
        "outputId": "7c379265-095d-4b96-f664-67905835a53f"
      },
      "execution_count": null,
      "outputs": [
        {
          "output_type": "stream",
          "name": "stdout",
          "text": [
            "Overwriting tp1.py\n"
          ]
        }
      ]
    },
    {
      "cell_type": "code",
      "source": [
        "!touch resultado_py && chmod 700 resultado_py"
      ],
      "metadata": {
        "id": "dhk3etU4oaod"
      },
      "execution_count": null,
      "outputs": []
    },
    {
      "cell_type": "code",
      "source": [
        "!nohup python3 -u tp1.py 1>resultado_py 2>/dev/null &"
      ],
      "metadata": {
        "id": "b2pcJM0PorEM"
      },
      "execution_count": null,
      "outputs": []
    },
    {
      "cell_type": "code",
      "source": [
        "!cat resultado_py"
      ],
      "metadata": {
        "id": "iAJBwC6ro1c3",
        "colab": {
          "base_uri": "https://localhost:8080/"
        },
        "outputId": "d775f9ae-79d3-4f82-eb9d-1cbd47ab3ea2"
      },
      "execution_count": null,
      "outputs": [
        {
          "output_type": "stream",
          "name": "stdout",
          "text": [
            "Hola mi nombre es A. PID: 14105. PPID 1\n",
            "\n",
            "Hola mi nombre es C. PID: 14107. PPID 14105\n",
            "\n",
            "Hola mi nombre es D. PID: 14108. PPID 14105\n",
            "\n",
            "Hola mi nombre es B. PID: 14106. PPID 14105\n",
            "\n",
            "Hola mi nombre es F. PID: 14111. PPID 14106\n",
            "Hola mi nombre es G. PID: 14109. PPID 14108\n",
            "\n",
            "\n",
            "Hola mi nombre es E. PID: 14110. PPID 14106\n",
            "\n"
          ]
        }
      ]
    },
    {
      "cell_type": "code",
      "source": [
        "!ps -ef | grep tp1.py"
      ],
      "metadata": {
        "colab": {
          "base_uri": "https://localhost:8080/"
        },
        "id": "DuP-9MMJo9mu",
        "outputId": "4ffff958-071a-4db0-efca-b9e3b0bf583e"
      },
      "execution_count": null,
      "outputs": [
        {
          "output_type": "stream",
          "name": "stdout",
          "text": [
            "root       14105       1  1 18:21 ?        00:00:00 python3 -u tp1.py\n",
            "root       14106   14105  0 18:21 ?        00:00:00 python3 -u tp1.py\n",
            "root       14107   14105  0 18:21 ?        00:00:00 python3 -u tp1.py\n",
            "root       14108   14105  0 18:21 ?        00:00:00 python3 -u tp1.py\n",
            "root       14109   14108  0 18:21 ?        00:00:00 python3 -u tp1.py\n",
            "root       14110   14106  0 18:21 ?        00:00:00 python3 -u tp1.py\n",
            "root       14111   14106  0 18:21 ?        00:00:00 python3 -u tp1.py\n",
            "root       14135     147  0 18:21 ?        00:00:00 /bin/bash -c ps -ef | grep tp1.py\n",
            "root       14137   14135  0 18:21 ?        00:00:00 grep tp1.py\n"
          ]
        }
      ]
    },
    {
      "cell_type": "code",
      "source": [
        "!pstree -pc $(pgrep -f tp1.py -P 1)"
      ],
      "metadata": {
        "colab": {
          "base_uri": "https://localhost:8080/"
        },
        "id": "4m0665ETpJws",
        "outputId": "4094989b-c15a-4e9c-bc68-4f76c33afecb"
      },
      "execution_count": null,
      "outputs": [
        {
          "output_type": "stream",
          "name": "stdout",
          "text": [
            "python3(14105)─┬─python3(14106)─┬─python3(14110)\n",
            "               │                └─python3(14111)\n",
            "               ├─python3(14107)\n",
            "               └─python3(14108)───python3(14109)\n"
          ]
        }
      ]
    },
    {
      "cell_type": "markdown",
      "source": [
        "Comentarios:\n",
        "\n",
        "\n",
        "*   Al principio python no imprimia el output en el archivo resultado_py porque le faltaba la opcion -u en el comando de ejecucion\n",
        "\n",
        "\n",
        "\n"
      ],
      "metadata": {
        "id": "kTJp-IrPtwJ_"
      }
    },
    {
      "cell_type": "markdown",
      "source": [
        "# **Java**"
      ],
      "metadata": {
        "id": "ofc1NnVQ2D85"
      }
    },
    {
      "cell_type": "code",
      "source": [
        "%%writefile Main.java\n",
        "import java.io.IOException;\n",
        "\n",
        "public class Main \n",
        "{\n",
        "    public static void main(String[] args) \n",
        "    {\n",
        "      //Construimos Proceso B\n",
        "      ProcessBuilder processBuilderB = new ProcessBuilder(\"java\", \"ProcesoHijo.java\", \"B\");\n",
        "      processBuilderB.redirectErrorStream(true);\n",
        "      processBuilderB.inheritIO();\n",
        "\n",
        "      //Construimos Proceso C\n",
        "      ProcessBuilder processBuilderC = new ProcessBuilder(\"java\", \"ProcesoHijo.java\", \"C\");\n",
        "      processBuilderC.redirectErrorStream(true);\n",
        "      processBuilderC.inheritIO();\n",
        "\n",
        "      //Construimos Proceso D\n",
        "      ProcessBuilder processBuilderD = new ProcessBuilder(\"java\", \"ProcesoHijo.java\", \"D\");\n",
        "      processBuilderD.redirectErrorStream(true);\n",
        "      processBuilderD.inheritIO();\n",
        "\n",
        "      try \n",
        "      {\n",
        "        // Se muestra información del Proceso\n",
        "        System.out.println(getInfoProcess());\n",
        "\n",
        "        //Se solicita al SO el inicio del Proceso B, C y D\n",
        "        Process processB = processBuilderB.start();\n",
        "        Process processC = processBuilderC.start();\n",
        "        Process processD = processBuilderD.start();\n",
        "\n",
        "        //Se espera señal de finalización de lo Procesos B, C y D\n",
        "        processB.waitFor();\n",
        "        processC.waitFor();\n",
        "        processD.waitFor();\n",
        "        Thread.sleep(10000);\n",
        "      } \n",
        "      //Tratamiento de excepciones\n",
        "      catch (IOException ex) \n",
        "      {\n",
        "        System.out.println(\"Error al iniciar Proceso Hijo. Mensaje de error: \" + ex.getMessage());\n",
        "      } \n",
        "      catch (InterruptedException ex) \n",
        "      {\n",
        "        System.out.println(\"Error en realizar waitFor sobre el proceso hijo. Mensaje de error: \" + ex.getMessage());\n",
        "      }\n",
        "    }\n",
        "\n",
        "    //Método para obtener información del proceso (PID, PPID)\n",
        "    public static String getInfoProcess() \n",
        "    {\n",
        "      ProcessHandle processHandle = ProcessHandle.current();\n",
        "      long pid = processHandle.pid();\n",
        "      long ppid = processHandle.parent().get().pid();\n",
        "      return String.format(\"Proceso A | PID: %s | PPID: %s\", pid, ppid);\n",
        "    }\n",
        "}"
      ],
      "metadata": {
        "colab": {
          "base_uri": "https://localhost:8080/"
        },
        "id": "rDg0alvv2F5X",
        "outputId": "ce522422-7217-409d-fc62-faff189d1981"
      },
      "execution_count": null,
      "outputs": [
        {
          "output_type": "stream",
          "name": "stdout",
          "text": [
            "Writing Main.java\n"
          ]
        }
      ]
    },
    {
      "cell_type": "code",
      "source": [
        "%%writefile ProcesoHijo.java\n",
        "import java.io.IOException;\n",
        "\n",
        "public class ProcesoHijo \n",
        "{\n",
        "    //Definimos constantes a utilizar\n",
        "    private static final String PROCESS_B = \"B\";\n",
        "    private static final String PROCESS_D = \"D\";\n",
        "\n",
        "    public static void main(String[] args) \n",
        "    {\n",
        "      //Obtenemos el nombre del proceso recibido por parámetro\n",
        "      String processName = args[0];\n",
        "      //Mostramos la información del Proceso\n",
        "      System.out.println(\"Proceso \" + processName + \" | \" + getInfoProcess());\n",
        "      switch (processName) \n",
        "      {\n",
        "        //Lógica asociada a la ejecución del Proceso B\n",
        "        case PROCESS_B:\n",
        "          execProcessB();\n",
        "          break;\n",
        "        //Lógica asociada a la ejecución del Proceso D\n",
        "        case PROCESS_D:\n",
        "          execProcessD();\n",
        "          break;\n",
        "        default:\n",
        "          break;\n",
        "      }\n",
        "      //Sleep para verificar resultado y tratamiento de excepción \n",
        "      try \n",
        "      {\n",
        "        Thread.sleep(10000);\n",
        "      } \n",
        "      catch (InterruptedException ex) \n",
        "      {\n",
        "        System.out.println(\"Error en sleep. Mensaje: \" + ex.getMessage());\n",
        "      }\n",
        "    }\n",
        "\n",
        "    //Método para obtener información del proceso (PID y PPID)\n",
        "    public static String getInfoProcess() \n",
        "    {\n",
        "      ProcessHandle processHandle = ProcessHandle.current();\n",
        "      long pid = processHandle.pid();\n",
        "      long ppid = processHandle.parent().get().pid();\n",
        "      return String.format(\"PID: %s | PPID: %s\", pid, ppid);\n",
        "    }\n",
        "\n",
        "    //Método con las acciones a realizar por el Proceso B\n",
        "    public static void execProcessB() \n",
        "    {\n",
        "      //Se construye Proceso E\n",
        "      ProcessBuilder processBuilderE = new ProcessBuilder(\"java\", \"ProcesoHijo.java\", \"E\");\n",
        "      processBuilderE.redirectErrorStream(true);\n",
        "      processBuilderE.inheritIO();\n",
        "\n",
        "      //Se construye Proceso F\n",
        "      ProcessBuilder processBuilderF = new ProcessBuilder(\"java\", \"ProcesoHijo.java\", \"F\");\n",
        "      processBuilderF.redirectErrorStream(true);\n",
        "      processBuilderF.inheritIO();\n",
        "\n",
        "      try \n",
        "      {\n",
        "        //Se solicita al SO la ejecución del Proceso E y Proceso F\n",
        "        Process processE = processBuilderE.start();\n",
        "        Process processF = processBuilderF.start();\n",
        "\n",
        "        //Se espera señal de finalización de los procesos E y F\n",
        "        processE.waitFor();\n",
        "        processF.waitFor();\n",
        "      } \n",
        "      //Tratamiento de excepciones\n",
        "      catch (IOException ex) \n",
        "      {\n",
        "        System.out.println(\"Error al iniciar Proceso Hijo. Mensaje de error: \" + ex.getMessage());\n",
        "      } \n",
        "      catch (InterruptedException ex) \n",
        "      {\n",
        "        System.out.println(\"Error en realizar waitFor sobre el proceso hijo. Mensaje de error: \" + ex.getMessage());\n",
        "      }\n",
        "    }\n",
        "\n",
        "    //Método con las acciones a realizar por el Proceso D\n",
        "    public static void execProcessD() \n",
        "    {\n",
        "      //Se construye Proceso G\n",
        "      ProcessBuilder processBuilderG = new ProcessBuilder(\"java\", \"ProcesoHijo.java\", \"G\");\n",
        "      processBuilderG.redirectErrorStream(true);\n",
        "      processBuilderG.inheritIO();\n",
        "\n",
        "      try \n",
        "      {\n",
        "        //Se solicita al SO la ejecución del Proceso G\n",
        "        Process processG = processBuilderG.start();\n",
        "\n",
        "        //Se espera señal de finalización del Proceso G\n",
        "        processG.waitFor();\n",
        "      } \n",
        "      //Tratamiento de excepciones\n",
        "      catch (IOException ex) \n",
        "      {\n",
        "        System.out.println(\"Error al iniciar Proceso Hijo. Mensaje de error: \" + ex.getMessage());\n",
        "      } \n",
        "      catch (InterruptedException ex) \n",
        "      {\n",
        "        System.out.println(\"Error en realizar waitFor sobre el proceso hijo. Mensaje de error: \" + ex.getMessage());\n",
        "      }\n",
        "    }\n",
        "}"
      ],
      "metadata": {
        "colab": {
          "base_uri": "https://localhost:8080/"
        },
        "id": "sjLhtGH_2JMp",
        "outputId": "f2335cbe-0d21-4684-996b-acaba0de4bab"
      },
      "execution_count": null,
      "outputs": [
        {
          "output_type": "stream",
          "name": "stdout",
          "text": [
            "Writing ProcesoHijo.java\n"
          ]
        }
      ]
    },
    {
      "cell_type": "code",
      "source": [
        "!nohup java Main.java 1>salidaJava 2>/dev/null &"
      ],
      "metadata": {
        "id": "XdPAQWqt2L34"
      },
      "execution_count": null,
      "outputs": []
    },
    {
      "cell_type": "code",
      "source": [
        "!cat salidaJava"
      ],
      "metadata": {
        "colab": {
          "base_uri": "https://localhost:8080/"
        },
        "id": "rCUMYezQ2OQn",
        "outputId": "0aad54e6-5cbb-444d-cefd-faa0ece5470a"
      },
      "execution_count": null,
      "outputs": [
        {
          "output_type": "stream",
          "name": "stdout",
          "text": [
            "Proceso A | PID: 11195 | PPID: 1\n",
            "Proceso D | PID: 11225 | PPID: 11195\n",
            "Proceso C | PID: 11222 | PPID: 11195\n",
            "Proceso B | PID: 11217 | PPID: 11195\n"
          ]
        }
      ]
    },
    {
      "cell_type": "code",
      "source": [
        "!pstree -pT | grep java"
      ],
      "metadata": {
        "colab": {
          "base_uri": "https://localhost:8080/"
        },
        "id": "hqCwpeP_2QNP",
        "outputId": "77115b81-3601-4d73-8d9a-6bfcca85cdf3"
      },
      "execution_count": null,
      "outputs": [
        {
          "output_type": "stream",
          "name": "stdout",
          "text": [
            "docker-init(1)-+-java(11195)-+-java(11217)-+-java(11316)\n",
            "               |             |             `-java(11318)\n",
            "               |             |-java(11222)\n",
            "               |             `-java(11225)---java(11293)\n"
          ]
        }
      ]
    }
  ]
}
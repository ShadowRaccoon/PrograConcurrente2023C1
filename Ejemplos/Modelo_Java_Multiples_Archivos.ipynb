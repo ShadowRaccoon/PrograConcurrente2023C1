{
  "nbformat": 4,
  "nbformat_minor": 0,
  "metadata": {
    "colab": {
      "provenance": [],
      "authorship_tag": "ABX9TyMvVFBeuwB4Eg+0LBWdxRJH",
      "include_colab_link": true
    },
    "kernelspec": {
      "name": "python3",
      "display_name": "Python 3"
    },
    "language_info": {
      "name": "python"
    }
  },
  "cells": [
    {
      "cell_type": "markdown",
      "metadata": {
        "id": "view-in-github",
        "colab_type": "text"
      },
      "source": [
        "<a href=\"https://colab.research.google.com/github/ShadowRaccoon/PrograConcurrente2023C1/blob/main/Ejemplos/Modelo_Java_Multiples_Archivos.ipynb\" target=\"_parent\"><img src=\"https://colab.research.google.com/assets/colab-badge.svg\" alt=\"Open In Colab\"/></a>"
      ]
    },
    {
      "cell_type": "code",
      "execution_count": 24,
      "metadata": {
        "colab": {
          "base_uri": "https://localhost:8080/"
        },
        "id": "ygcerKrzHisI",
        "outputId": "8da96a8d-6c74-42ff-e024-a3aae27e8d1f"
      },
      "outputs": [
        {
          "output_type": "stream",
          "name": "stdout",
          "text": [
            "Overwriting Main.java\n"
          ]
        }
      ],
      "source": [
        "%%writefile Main.java\n",
        "class Main{\n",
        "  public static void main(String[] args){\n",
        "    MiClase mc = new MiClase();\n",
        "    mc.a = 1;\n",
        "    System.out.println(\"Hola\"+ mc.a);\n",
        "  }\n",
        "}"
      ]
    },
    {
      "cell_type": "code",
      "source": [
        "%%writefile Main2.java\n",
        "class Main2{\n",
        "  public static void main(String[] args){\n",
        "        MiClase mc = new MiClase();\n",
        "        mc.a = 2;\n",
        "    System.out.println(\"Chau\" + mc.a);\n",
        "\n",
        "  }\n",
        "}\n"
      ],
      "metadata": {
        "colab": {
          "base_uri": "https://localhost:8080/"
        },
        "id": "Cqdy5B3pJXIL",
        "outputId": "b666e300-05e1-403f-d892-5bf5a78492de"
      },
      "execution_count": 25,
      "outputs": [
        {
          "output_type": "stream",
          "name": "stdout",
          "text": [
            "Overwriting Main2.java\n"
          ]
        }
      ]
    },
    {
      "cell_type": "code",
      "source": [
        "%%writefile MiClase.java\n",
        "class MiClase{\n",
        "  public int a;\n",
        "}"
      ],
      "metadata": {
        "colab": {
          "base_uri": "https://localhost:8080/"
        },
        "id": "FHephEDQJbSn",
        "outputId": "f2a60f54-099c-4f99-c98f-ca0fc0b686e0"
      },
      "execution_count": 26,
      "outputs": [
        {
          "output_type": "stream",
          "name": "stdout",
          "text": [
            "Overwriting MiClase.java\n"
          ]
        }
      ]
    },
    {
      "cell_type": "code",
      "source": [
        "!javac -d . MiClase.java\n",
        "!javac -d . Main.java\n",
        "!javac -d . Main2.java"
      ],
      "metadata": {
        "id": "UlGxw4PXH7fx"
      },
      "execution_count": 27,
      "outputs": []
    },
    {
      "cell_type": "code",
      "source": [
        "!java Main"
      ],
      "metadata": {
        "colab": {
          "base_uri": "https://localhost:8080/"
        },
        "id": "o4GSY1UAJJEQ",
        "outputId": "d80cdcf0-1d1d-469c-9963-ce578bf02a58"
      },
      "execution_count": 28,
      "outputs": [
        {
          "output_type": "stream",
          "name": "stdout",
          "text": [
            "Hola1\n"
          ]
        }
      ]
    },
    {
      "cell_type": "code",
      "source": [
        "!java Main2"
      ],
      "metadata": {
        "colab": {
          "base_uri": "https://localhost:8080/"
        },
        "id": "oVaxMaqnJOE2",
        "outputId": "c4af11d0-f6f9-476b-875e-4de5d2f33b78"
      },
      "execution_count": 29,
      "outputs": [
        {
          "output_type": "stream",
          "name": "stdout",
          "text": [
            "Chau2\n"
          ]
        }
      ]
    }
  ]
}